{
  "cells": [
    {
      "cell_type": "markdown",
      "metadata": {
        "id": "view-in-github",
        "colab_type": "text"
      },
      "source": [
        "<a href=\"https://colab.research.google.com/github/ACCaceres/pydata-book/blob/3rd-edition/ch02.ipynb\" target=\"_parent\"><img src=\"https://colab.research.google.com/assets/colab-badge.svg\" alt=\"Open In Colab\"/></a>"
      ]
    },
    {
      "cell_type": "markdown",
      "source": [
        "# Capitulo 2 | **Cuaderno de Notas**\n",
        "*Ariel Alfonso Cáceres Pacheco*\n",
        "\n",
        "Notas personales al cuaderno O'Really\n",
        "**Python for Data Analysis**"
      ],
      "metadata": {
        "id": "2eyoohTkLdT_"
      }
    },
    {
      "cell_type": "code",
      "execution_count": 1,
      "metadata": {
        "id": "yBIO5URbLMKm"
      },
      "outputs": [],
      "source": [
        "#importando pandas con nomenclatura np\n",
        "import numpy as np\n",
        "#np semilla aleatoria para replica de resultados\n",
        "np.random.seed(12345)\n",
        "# esta linea no se que hace\n",
        "np.set_printoptions(precision=4, suppress=True)"
      ]
    },
    {
      "cell_type": "code",
      "execution_count": 3,
      "metadata": {
        "colab": {
          "base_uri": "https://localhost:8080/"
        },
        "id": "aq-u2Oy5LMKo",
        "outputId": "715dc49b-d0fb-41b8-d3cb-07aff6dd7eeb"
      },
      "outputs": [
        {
          "output_type": "execute_result",
          "data": {
            "text/plain": [
              "[0.2817461528302025,\n",
              " 0.7690225676118387,\n",
              " 1.2464347363862822,\n",
              " 1.0071893575830049,\n",
              " -1.2962211091122635,\n",
              " 0.274991633432124,\n",
              " 0.22891287893531592]"
            ]
          },
          "metadata": {},
          "execution_count": 3
        }
      ],
      "source": [
        "import numpy as np\n",
        "# crea un mini data set como distribucion normal\n",
        "data = [np.random.standard_normal() for i in range(7)]\n",
        "data"
      ]
    },
    {
      "cell_type": "code",
      "execution_count": 5,
      "metadata": {
        "id": "ZinsEMnMLMKp"
      },
      "outputs": [],
      "source": [
        "# creando una lista\n",
        "a = [1, 2, 3]"
      ]
    },
    {
      "cell_type": "code",
      "execution_count": 7,
      "metadata": {
        "id": "9QvLRqsiLMKp",
        "colab": {
          "base_uri": "https://localhost:8080/"
        },
        "outputId": "997dc0c5-5bd7-421c-9ca8-7f60fbaf2b41"
      },
      "outputs": [
        {
          "output_type": "execute_result",
          "data": {
            "text/plain": [
              "[1, 2, 3]"
            ]
          },
          "metadata": {},
          "execution_count": 7
        }
      ],
      "source": [
        "#reasignacion de la lista\n",
        "# el cual asinga La lista a y este  >>>>  b\n",
        "b = a\n",
        "b"
      ]
    },
    {
      "cell_type": "code",
      "execution_count": 9,
      "metadata": {
        "id": "FzlAXDk7LMKp",
        "colab": {
          "base_uri": "https://localhost:8080/"
        },
        "outputId": "2880759a-8f6f-48c5-d97c-df76116b427d"
      },
      "outputs": [
        {
          "output_type": "execute_result",
          "data": {
            "text/plain": [
              "[1, 2, 3, 4, 4]"
            ]
          },
          "metadata": {},
          "execution_count": 9
        }
      ],
      "source": [
        "#Agragando un elemento a una lista metodo variable.append()\n",
        "a.append(4)\n",
        "b"
      ]
    },
    {
      "cell_type": "code",
      "source": [
        "# tambien podria invocar a\n",
        "a"
      ],
      "metadata": {
        "colab": {
          "base_uri": "https://localhost:8080/"
        },
        "id": "sw6gl3JIOH8M",
        "outputId": "f8446b4c-32bb-4330-bc14-b4aeb6fb64d4"
      },
      "execution_count": 10,
      "outputs": [
        {
          "output_type": "execute_result",
          "data": {
            "text/plain": [
              "[1, 2, 3, 4, 4]"
            ]
          },
          "metadata": {},
          "execution_count": 10
        }
      ]
    },
    {
      "cell_type": "code",
      "execution_count": 12,
      "metadata": {
        "id": "eHQkfWn-LMKq"
      },
      "outputs": [],
      "source": [
        "# se define una funcion que agrega un append a alguna lista\n",
        "def append_element(some_list, element):\n",
        "    some_list.append(element)"
      ]
    },
    {
      "cell_type": "code",
      "execution_count": 14,
      "metadata": {
        "id": "qwhl1at1LMKq",
        "colab": {
          "base_uri": "https://localhost:8080/"
        },
        "outputId": "132bceee-8ed3-4999-9987-d14863d51bba"
      },
      "outputs": [
        {
          "output_type": "execute_result",
          "data": {
            "text/plain": [
              "[1, 2, 3, 4]"
            ]
          },
          "metadata": {},
          "execution_count": 14
        }
      ],
      "source": [
        "# se define una lista data con elemnetos 1,  2, 3, 4\n",
        "data = [1, 2, 3]\n",
        "# mediante la funcion append_element\n",
        "# la funcion recibe 2 argumentos, el primero la lista a la que afecta,\n",
        "# el segundo el valor a agregar\n",
        "append_element(data, 4)\n",
        "data"
      ]
    },
    {
      "cell_type": "markdown",
      "source": [
        "Las variables en Python no tienen ningún tipo inherente asociado; una variable puede hacer referencia a un tipo diferente de objeto simplemente realizando una asignación. No hay ningún problema con lo siguiente:"
      ],
      "metadata": {
        "id": "E0N6AfgEPqBm"
      }
    },
    {
      "cell_type": "code",
      "execution_count": 18,
      "metadata": {
        "id": "rv65zdZ1LMKq",
        "colab": {
          "base_uri": "https://localhost:8080/"
        },
        "outputId": "26a1066f-e3ee-435a-8109-77815b895940"
      },
      "outputs": [
        {
          "output_type": "execute_result",
          "data": {
            "text/plain": [
              "str"
            ]
          },
          "metadata": {},
          "execution_count": 18
        }
      ],
      "source": [
        "a = 5\n",
        "type(a)\n",
        "a = \"foo\"\n",
        "type(a)"
      ]
    },
    {
      "cell_type": "markdown",
      "source": [
        " En Python, este tipo de conversiones implícitas no están permitidas. En este sentido decimos que Python es un lenguaje fuertemente tipado , lo que significa que cada objeto tiene un tipo (o clase ) específico, y las conversiones implícitas ocurrirán solo en ciertas circunstancias permitidas"
      ],
      "metadata": {
        "id": "jwSEMr2DP5k3"
      }
    },
    {
      "cell_type": "code",
      "execution_count": 17,
      "metadata": {
        "id": "UZ2uQnDZLMKq",
        "colab": {
          "base_uri": "https://localhost:8080/",
          "height": 141
        },
        "outputId": "2c813ca2-378f-4299-bff5-4f92df2da705"
      },
      "outputs": [
        {
          "output_type": "error",
          "ename": "TypeError",
          "evalue": "can only concatenate str (not \"int\") to str",
          "traceback": [
            "\u001b[0;31m---------------------------------------------------------------------------\u001b[0m",
            "\u001b[0;31mTypeError\u001b[0m                                 Traceback (most recent call last)",
            "\u001b[0;32m<ipython-input-17-7fe5aa79f268>\u001b[0m in \u001b[0;36m<cell line: 1>\u001b[0;34m()\u001b[0m\n\u001b[0;32m----> 1\u001b[0;31m \u001b[0;34m\"5\"\u001b[0m \u001b[0;34m+\u001b[0m \u001b[0;36m5\u001b[0m\u001b[0;34m\u001b[0m\u001b[0;34m\u001b[0m\u001b[0m\n\u001b[0m",
            "\u001b[0;31mTypeError\u001b[0m: can only concatenate str (not \"int\") to str"
          ]
        }
      ],
      "source": [
        "# esta celda arroja error por cuanto \"5\" es un string y 5 una int\n",
        "\"5\" + 5"
      ]
    },
    {
      "cell_type": "code",
      "execution_count": 21,
      "metadata": {
        "id": "s6xHiBgPLMKr",
        "colab": {
          "base_uri": "https://localhost:8080/"
        },
        "outputId": "3eb920f5-4b1f-49c6-f50a-14a131bb074b"
      },
      "outputs": [
        {
          "output_type": "stream",
          "name": "stdout",
          "text": [
            "a is <class 'float'>, b is <class 'int'>\n"
          ]
        },
        {
          "output_type": "execute_result",
          "data": {
            "text/plain": [
              "2.25"
            ]
          },
          "metadata": {},
          "execution_count": 21
        }
      ],
      "source": [
        "# se asinga valor float\n",
        "a = 4.5\n",
        "# se asigna un Int a variable b\n",
        "b = 2\n",
        "# para esta division el entero se convierte en float para efecto de las division\n",
        "print(f\"a is {type(a)}, b is {type(b)}\")\n",
        "a / b"
      ]
    },
    {
      "cell_type": "code",
      "execution_count": 20,
      "metadata": {
        "id": "2W-fcA92LMKr",
        "colab": {
          "base_uri": "https://localhost:8080/"
        },
        "outputId": "432dee46-32a1-459f-dfa9-4e20b35133d9"
      },
      "outputs": [
        {
          "output_type": "execute_result",
          "data": {
            "text/plain": [
              "True"
            ]
          },
          "metadata": {},
          "execution_count": 20
        }
      ],
      "source": [
        "a = 5\n",
        "isinstance(a, int)\n",
        "# para validar si cualquier objeto es de un tipo en particular se ultiliza metodo\n",
        "# isinstance(variable, [tipo])\n",
        "# da por respeusta un True o False"
      ]
    },
    {
      "cell_type": "code",
      "execution_count": 31,
      "metadata": {
        "id": "ADBzirtoLMKr",
        "colab": {
          "base_uri": "https://localhost:8080/"
        },
        "outputId": "7386f3a5-d466-42ae-f286-dde89920e733"
      },
      "outputs": [
        {
          "output_type": "execute_result",
          "data": {
            "text/plain": [
              "True"
            ]
          },
          "metadata": {},
          "execution_count": 31
        }
      ],
      "source": [
        "# Tambien es posible consultar tipo de objeto dentro de una tupla\n",
        "a = 5; b = 4.5\n",
        "isinstance(a, (int, float))\n",
        "isinstance(b, (int, float))\n",
        "# en este codigo esta preguntando si es int ó float cualquier valor del obejeta hara true"
      ]
    },
    {
      "cell_type": "code",
      "execution_count": 33,
      "metadata": {
        "id": "19g6sYS_LMKr"
      },
      "outputs": [],
      "source": [
        "# Creacion de Variable\n",
        "a = \"foo\""
      ]
    },
    {
      "cell_type": "code",
      "execution_count": 35,
      "metadata": {
        "id": "sAuPXHQJLMKs",
        "colab": {
          "base_uri": "https://localhost:8080/"
        },
        "outputId": "e6ea581b-fc49-43f3-a4e7-29141f30f7d7"
      },
      "outputs": [
        {
          "output_type": "execute_result",
          "data": {
            "text/plain": [
              "<function str.split(sep=None, maxsplit=-1)>"
            ]
          },
          "metadata": {},
          "execution_count": 35
        }
      ],
      "source": [
        "# getattr(varible, \"metodo\") es un metodo que permite acceder a los atributos de un objeto\n",
        "# en este caso a, split en donde el metodo funciona como sigue:\n",
        "getattr(a, \"split\")"
      ]
    },
    {
      "cell_type": "markdown",
      "source": [
        "La expresión getattr(a, \"split\") utiliza la función getattr() para obtener dinámicamente el método split() del objeto a. Así es como funciona:\n",
        "\n",
        "Función getattr():\n",
        "\n",
        "getattr() es una función integrada de Python que toma dos argumentos: un objeto y una cadena que representa el nombre de un atributo.\n",
        "Obtiene el atributo del nombre dado del objeto y lo devuelve.\n",
        "Objeto a:\n",
        "\n",
        "En este caso, a es un objeto que presumiblemente tiene un método split().\n",
        "El tipo exacto de a no se especifica en el fragmento de código.\n",
        "Atributo \"split\":\n",
        "\n",
        "La cadena \"split\" representa el nombre del atributo a obtener.\n",
        "En Python, el método split() se asocia comúnmente con objetos de cadena. Divide la cadena en una lista de subcadenas según un delimitador.\n",
        "Obtención del método split():\n",
        "\n",
        "getattr(a, \"split\") obtiene el método split() del objeto a.\n",
        "Esto es equivalente a escribir a.split(), asumiendo que a tiene un método split().\n",
        "Uso:\n",
        "\n",
        "Después de obtener el método split(), puedes usarlo para dividir el objeto a (asumiendo que es una cadena) en una lista de subcadenas.\n",
        "Por ejemplo, si a es la cadena \"hola mundo\", puedes dividirla en una lista de palabras usando el siguiente código:\n",
        "\n",
        "palabras_divididas = getattr(a, \"split\")(\" \")\n",
        "Use code with caution\n",
        "Esto daría como resultado que palabras_divididas contenga la lista [\"hola\", \"mundo\"]."
      ],
      "metadata": {
        "id": "rwmb1qf_YGjm"
      }
    },
    {
      "cell_type": "code",
      "execution_count": 38,
      "metadata": {
        "id": "7wjfbyS5LMKs"
      },
      "outputs": [],
      "source": [
        "# en esta Celda se define una funcion isiterable que\n",
        "# evalua si el objeto es iterable para las cadenas sera True para los float o int no'''\n",
        "\n",
        "def isiterable(obj):\n",
        "    try:\n",
        "        iter(obj)\n",
        "        return True\n",
        "    except TypeError: # not iterable\n",
        "        return False"
      ]
    },
    {
      "cell_type": "markdown",
      "source": [
        "Evaluemos las funcion con los siguientes objetsos"
      ],
      "metadata": {
        "id": "2iR4GJr8Y0jS"
      }
    },
    {
      "cell_type": "code",
      "execution_count": 42,
      "metadata": {
        "id": "V0kAhdH7LMKs",
        "colab": {
          "base_uri": "https://localhost:8080/"
        },
        "outputId": "57b33d55-58ab-4ccf-922d-7a77d16639fd"
      },
      "outputs": [
        {
          "output_type": "execute_result",
          "data": {
            "text/plain": [
              "False"
            ]
          },
          "metadata": {},
          "execution_count": 42
        }
      ],
      "source": [
        "# integuer\n",
        "isiterable(5)"
      ]
    },
    {
      "cell_type": "code",
      "source": [
        "#lista\n",
        "isiterable([1, 2, 3])"
      ],
      "metadata": {
        "colab": {
          "base_uri": "https://localhost:8080/"
        },
        "id": "eAgp6SD0Yv4I",
        "outputId": "654afee7-709f-432d-9eaf-7c51047d6c78"
      },
      "execution_count": 43,
      "outputs": [
        {
          "output_type": "execute_result",
          "data": {
            "text/plain": [
              "True"
            ]
          },
          "metadata": {},
          "execution_count": 43
        }
      ]
    },
    {
      "cell_type": "code",
      "source": [
        "# un string\n",
        "isiterable(\"a string\")"
      ],
      "metadata": {
        "colab": {
          "base_uri": "https://localhost:8080/"
        },
        "id": "7_Qf_KJjYtsn",
        "outputId": "20835559-01ad-4f5f-9c6e-2ef0518be8e7"
      },
      "execution_count": 40,
      "outputs": [
        {
          "output_type": "execute_result",
          "data": {
            "text/plain": [
              "True"
            ]
          },
          "metadata": {},
          "execution_count": 40
        }
      ]
    },
    {
      "cell_type": "code",
      "source": [
        "#Float\n",
        "isiterable(5.434)"
      ],
      "metadata": {
        "colab": {
          "base_uri": "https://localhost:8080/"
        },
        "id": "SZ9u0LoGZEGp",
        "outputId": "39d678d5-8fa2-42b5-dada-140b14944d61"
      },
      "execution_count": 45,
      "outputs": [
        {
          "output_type": "execute_result",
          "data": {
            "text/plain": [
              "False"
            ]
          },
          "metadata": {},
          "execution_count": 45
        }
      ]
    },
    {
      "cell_type": "markdown",
      "source": [
        "#[**Operadores binarios y comparaciones**](https://wesmckinney.com/book/python-basics#semantics_binary_ops)\n"
      ],
      "metadata": {
        "id": "NNCa9JQdblum"
      }
    },
    {
      "cell_type": "markdown",
      "source": [
        "este apartado es de suo comun a otros lenguajes de comparación"
      ],
      "metadata": {
        "id": "HzgDq6Oqcgob"
      }
    },
    {
      "cell_type": "code",
      "execution_count": 55,
      "metadata": {
        "id": "BdWSabzRLMKs",
        "colab": {
          "base_uri": "https://localhost:8080/"
        },
        "outputId": "17fe1c59-9bdd-4ed7-8aea-633d2bf830c8"
      },
      "outputs": [
        {
          "output_type": "execute_result",
          "data": {
            "text/plain": [
              "-2"
            ]
          },
          "metadata": {},
          "execution_count": 55
        }
      ],
      "source": [
        "5 - 7\n"
      ]
    },
    {
      "cell_type": "code",
      "source": [
        "12 + 21.5\n"
      ],
      "metadata": {
        "colab": {
          "base_uri": "https://localhost:8080/"
        },
        "id": "XnMgIgXjcZZr",
        "outputId": "58a63bce-65a9-413d-baf1-f615115b00e2"
      },
      "execution_count": 52,
      "outputs": [
        {
          "output_type": "execute_result",
          "data": {
            "text/plain": [
              "33.5"
            ]
          },
          "metadata": {},
          "execution_count": 52
        }
      ]
    },
    {
      "cell_type": "code",
      "source": [
        "\n",
        "5 <= 2"
      ],
      "metadata": {
        "colab": {
          "base_uri": "https://localhost:8080/"
        },
        "id": "FoVdm1wrcawk",
        "outputId": "a888ea7c-65e0-4b1c-c7fe-75e13eb8e51b"
      },
      "execution_count": 53,
      "outputs": [
        {
          "output_type": "execute_result",
          "data": {
            "text/plain": [
              "False"
            ]
          },
          "metadata": {},
          "execution_count": 53
        }
      ]
    },
    {
      "cell_type": "code",
      "execution_count": 56,
      "metadata": {
        "id": "gvCWb5hhLMKs",
        "colab": {
          "base_uri": "https://localhost:8080/"
        },
        "outputId": "fcaa2a55-3112-4817-8655-202c7c8a05e6"
      },
      "outputs": [
        {
          "output_type": "execute_result",
          "data": {
            "text/plain": [
              "True"
            ]
          },
          "metadata": {},
          "execution_count": 56
        }
      ],
      "source": [
        "# para comparar si 2 Variables se refieren al mismo objeto, se utiliza el termino IS\n",
        "a = [1, 2, 3]\n",
        "b = a\n",
        "# la funcion \"list\" crean una nueva Lista en Python siempre\n",
        "c = list(a)\n",
        "a is b\n",
        "a is not c"
      ]
    },
    {
      "cell_type": "code",
      "source": [
        "a is not c"
      ],
      "metadata": {
        "colab": {
          "base_uri": "https://localhost:8080/"
        },
        "id": "q0rfh8V4c-47",
        "outputId": "8931c0a1-5e2d-437d-d290-7ff5203ca1c8"
      },
      "execution_count": 57,
      "outputs": [
        {
          "output_type": "execute_result",
          "data": {
            "text/plain": [
              "True"
            ]
          },
          "metadata": {},
          "execution_count": 57
        }
      ]
    },
    {
      "cell_type": "code",
      "execution_count": 58,
      "metadata": {
        "id": "U6z4PRwiLMKt",
        "colab": {
          "base_uri": "https://localhost:8080/"
        },
        "outputId": "bda0b44d-4b3d-47fc-c0d5-599b01e95b4d"
      },
      "outputs": [
        {
          "output_type": "execute_result",
          "data": {
            "text/plain": [
              "True"
            ]
          },
          "metadata": {},
          "execution_count": 58
        }
      ],
      "source": [
        "a == c"
      ]
    },
    {
      "cell_type": "code",
      "execution_count": 49,
      "metadata": {
        "id": "Rvi_kri5LMKt",
        "colab": {
          "base_uri": "https://localhost:8080/"
        },
        "outputId": "de0d0d3b-bcc7-4e09-b4d0-dff3d1b3f362"
      },
      "outputs": [
        {
          "output_type": "execute_result",
          "data": {
            "text/plain": [
              "True"
            ]
          },
          "metadata": {},
          "execution_count": 49
        }
      ],
      "source": [
        "a = None\n",
        "a is None"
      ]
    },
    {
      "cell_type": "markdown",
      "source": [
        "**Objetos mutables e inmutables.**\n",
        "Muchos objetos en Python, como listas, diccionarios, matrices NumPy y la mayoría de los tipos (clases) definidos por el usuario, son mutables . Esto significa que se puede modificar el objeto o valores que contienen:"
      ],
      "metadata": {
        "id": "qLRPCrZTddx6"
      }
    },
    {
      "cell_type": "code",
      "execution_count": 59,
      "metadata": {
        "id": "wYaD2VUbLMKt",
        "colab": {
          "base_uri": "https://localhost:8080/"
        },
        "outputId": "1b214eea-f7a6-4475-f0a7-f394c9d39c6c"
      },
      "outputs": [
        {
          "output_type": "execute_result",
          "data": {
            "text/plain": [
              "['foo', 2, (3, 4)]"
            ]
          },
          "metadata": {},
          "execution_count": 59
        }
      ],
      "source": [
        "a_list = [\"foo\", 2, [4, 5]]\n",
        "a_list[2] = (3, 4)\n",
        "a_list"
      ]
    },
    {
      "cell_type": "markdown",
      "source": [
        "Otros, como cadenas y tuplas, son inmutables, lo que significa que sus datos internos no se pueden cambiar:"
      ],
      "metadata": {
        "id": "gKosEudbdld8"
      }
    },
    {
      "cell_type": "code",
      "execution_count": 60,
      "metadata": {
        "id": "xeMxuPVlLMKt",
        "colab": {
          "base_uri": "https://localhost:8080/",
          "height": 159
        },
        "outputId": "5794eb02-ad92-488e-d643-9abaca567fc1"
      },
      "outputs": [
        {
          "output_type": "error",
          "ename": "TypeError",
          "evalue": "'tuple' object does not support item assignment",
          "traceback": [
            "\u001b[0;31m---------------------------------------------------------------------------\u001b[0m",
            "\u001b[0;31mTypeError\u001b[0m                                 Traceback (most recent call last)",
            "\u001b[0;32m<ipython-input-60-a979dde8e57d>\u001b[0m in \u001b[0;36m<cell line: 2>\u001b[0;34m()\u001b[0m\n\u001b[1;32m      1\u001b[0m \u001b[0ma_tuple\u001b[0m \u001b[0;34m=\u001b[0m \u001b[0;34m(\u001b[0m\u001b[0;36m3\u001b[0m\u001b[0;34m,\u001b[0m \u001b[0;36m5\u001b[0m\u001b[0;34m,\u001b[0m \u001b[0;34m(\u001b[0m\u001b[0;36m4\u001b[0m\u001b[0;34m,\u001b[0m \u001b[0;36m5\u001b[0m\u001b[0;34m)\u001b[0m\u001b[0;34m)\u001b[0m\u001b[0;34m\u001b[0m\u001b[0;34m\u001b[0m\u001b[0m\n\u001b[0;32m----> 2\u001b[0;31m \u001b[0ma_tuple\u001b[0m\u001b[0;34m[\u001b[0m\u001b[0;36m1\u001b[0m\u001b[0;34m]\u001b[0m \u001b[0;34m=\u001b[0m \u001b[0;34m\"four\"\u001b[0m\u001b[0;34m\u001b[0m\u001b[0;34m\u001b[0m\u001b[0m\n\u001b[0m",
            "\u001b[0;31mTypeError\u001b[0m: 'tuple' object does not support item assignment"
          ]
        }
      ],
      "source": [
        "a_tuple = (3, 5, (4, 5))\n",
        "a_tuple[1] = \"four\""
      ]
    },
    {
      "cell_type": "markdown",
      "source": [
        "**Tabla 2.2: Tipos escalares estándar de Python**\n",
        "**Tipo\tDescripción**\n",
        "\n",
        "\n",
        "---\n",
        "\n",
        "\n",
        "**None**\tEl valor \"nulo\" de Python (solo existe una instancia del Noneobjeto)\n",
        "\n",
        "\n",
        "---\n",
        "\n",
        "\n",
        "**str**\tTipo de cadena; contiene cadenas Unicode\n",
        "\n",
        "\n",
        "---\n",
        "\n",
        "\n",
        "**bytes**\tDatos binarios sin procesar\n",
        "\n",
        "\n",
        "---\n",
        "\n",
        "\n",
        "**float**\tNúmero de coma flotante de doble precisión (tenga en cuenta que no hay doubleun tipo separado)\n",
        "\n",
        "\n",
        "---\n",
        "\n",
        "\n",
        "**bool**\tUn valor booleano TrueoFalse\n",
        "\n",
        "\n",
        "---\n",
        "\n",
        "\n",
        "**int**\tEntero de precisión arbitraria"
      ],
      "metadata": {
        "id": "J_To7pLxd4ar"
      }
    },
    {
      "cell_type": "code",
      "execution_count": 61,
      "metadata": {
        "id": "-MvVAkoNLMKt",
        "colab": {
          "base_uri": "https://localhost:8080/"
        },
        "outputId": "96866f9f-c87d-41e5-9cea-7371a73ef4c8"
      },
      "outputs": [
        {
          "output_type": "execute_result",
          "data": {
            "text/plain": [
              "26254519291092456596965462913230729701102721"
            ]
          },
          "metadata": {},
          "execution_count": 61
        }
      ],
      "source": [
        "ival = 17239871\n",
        "ival ** 6"
      ]
    },
    {
      "cell_type": "code",
      "execution_count": 62,
      "metadata": {
        "id": "SDqjwUJ5LMKu"
      },
      "outputs": [],
      "source": [
        "fval = 7.243\n",
        "fval2 = 6.78e-5"
      ]
    },
    {
      "cell_type": "code",
      "execution_count": 63,
      "metadata": {
        "id": "H4bP6S9JLMKu",
        "colab": {
          "base_uri": "https://localhost:8080/"
        },
        "outputId": "1f00dad6-ce7d-4aaa-da6e-5c65db868cc5"
      },
      "outputs": [
        {
          "output_type": "execute_result",
          "data": {
            "text/plain": [
              "1.5"
            ]
          },
          "metadata": {},
          "execution_count": 63
        }
      ],
      "source": [
        "3 / 2"
      ]
    },
    {
      "cell_type": "code",
      "execution_count": 65,
      "metadata": {
        "id": "20uCssTdLMKu",
        "colab": {
          "base_uri": "https://localhost:8080/"
        },
        "outputId": "ed860341-6140-4b3e-c6f3-a7f4c3bc5327"
      },
      "outputs": [
        {
          "output_type": "execute_result",
          "data": {
            "text/plain": [
              "1"
            ]
          },
          "metadata": {},
          "execution_count": 65
        }
      ],
      "source": [
        "# esto es los que ne Python se define como módulo\n",
        "3 // 2"
      ]
    },
    {
      "cell_type": "code",
      "execution_count": 67,
      "metadata": {
        "id": "FIHF7hMoLMKu"
      },
      "outputs": [],
      "source": [
        "# Cadena con varias Lineas\n",
        "c = \"\"\"\n",
        "This is a longer string that\n",
        "spans multiple lines\n",
        "\"\"\""
      ]
    },
    {
      "cell_type": "code",
      "execution_count": 68,
      "metadata": {
        "id": "RcxPLZfaLMKu",
        "colab": {
          "base_uri": "https://localhost:8080/"
        },
        "outputId": "5cb09195-46af-42a0-ace5-c98d07fa583d"
      },
      "outputs": [
        {
          "output_type": "execute_result",
          "data": {
            "text/plain": [
              "3"
            ]
          },
          "metadata": {},
          "execution_count": 68
        }
      ],
      "source": [
        "c.count(\"\\n\")"
      ]
    },
    {
      "cell_type": "code",
      "execution_count": 71,
      "metadata": {
        "id": "dcQ4EO8uLMKv",
        "colab": {
          "base_uri": "https://localhost:8080/",
          "height": 176
        },
        "outputId": "3a3ae3d9-e2c5-4461-c2f6-923dfb41c595"
      },
      "outputs": [
        {
          "output_type": "error",
          "ename": "TypeError",
          "evalue": "'str' object does not support item assignment",
          "traceback": [
            "\u001b[0;31m---------------------------------------------------------------------------\u001b[0m",
            "\u001b[0;31mTypeError\u001b[0m                                 Traceback (most recent call last)",
            "\u001b[0;32m<ipython-input-71-db3309db87a6>\u001b[0m in \u001b[0;36m<cell line: 4>\u001b[0;34m()\u001b[0m\n\u001b[1;32m      2\u001b[0m \u001b[0;31m# se les puede reasinganr una valor\u001b[0m\u001b[0;34m\u001b[0m\u001b[0;34m\u001b[0m\u001b[0m\n\u001b[1;32m      3\u001b[0m \u001b[0ma\u001b[0m \u001b[0;34m=\u001b[0m \u001b[0;34m\"this is a string\"\u001b[0m\u001b[0;34m\u001b[0m\u001b[0;34m\u001b[0m\u001b[0m\n\u001b[0;32m----> 4\u001b[0;31m \u001b[0ma\u001b[0m\u001b[0;34m[\u001b[0m\u001b[0;36m10\u001b[0m\u001b[0;34m]\u001b[0m \u001b[0;34m=\u001b[0m \u001b[0;34m\"f\"\u001b[0m\u001b[0;34m\u001b[0m\u001b[0;34m\u001b[0m\u001b[0m\n\u001b[0m",
            "\u001b[0;31mTypeError\u001b[0m: 'str' object does not support item assignment"
          ]
        }
      ],
      "source": [
        "# esta Linea da error pues la cadenas en Python son inmutables, no\n",
        "# se les puede reasinganr una valor\n",
        "a = \"this is a string\"\n",
        "a[10] = \"f\""
      ]
    },
    {
      "cell_type": "markdown",
      "source": [
        "Para interpretar este mensaje de error, lea de abajo hacia arriba. Intentamos reemplazar el carácter (el \"elemento\") en la posición 10 con la letra \"f\", pero esto no está permitido para objetos de cadena. Si necesitamos modificar una cadena, tenemos que usar una función o método que cree una nueva cadena, como por ejemplo el replacemétodo string:\n",
        "\n"
      ],
      "metadata": {
        "id": "V4eyf9mbfdwf"
      }
    },
    {
      "cell_type": "code",
      "execution_count": 72,
      "metadata": {
        "id": "wrx8wrGwLMKv",
        "colab": {
          "base_uri": "https://localhost:8080/",
          "height": 35
        },
        "outputId": "08661d5b-6b28-4b05-c35f-0b131d28b7c8"
      },
      "outputs": [
        {
          "output_type": "execute_result",
          "data": {
            "text/plain": [
              "'this is a longer string'"
            ],
            "application/vnd.google.colaboratory.intrinsic+json": {
              "type": "string"
            }
          },
          "metadata": {},
          "execution_count": 72
        }
      ],
      "source": [
        "b = a.replace(\"string\", \"longer string\")\n",
        "b"
      ]
    },
    {
      "cell_type": "code",
      "execution_count": 73,
      "metadata": {
        "id": "87CBgIp8LMKv",
        "colab": {
          "base_uri": "https://localhost:8080/",
          "height": 35
        },
        "outputId": "b71b1dda-3a88-4a9b-e96a-3059d7b763cd"
      },
      "outputs": [
        {
          "output_type": "execute_result",
          "data": {
            "text/plain": [
              "'this is a string'"
            ],
            "application/vnd.google.colaboratory.intrinsic+json": {
              "type": "string"
            }
          },
          "metadata": {},
          "execution_count": 73
        }
      ],
      "source": [
        "a"
      ]
    },
    {
      "cell_type": "code",
      "execution_count": 77,
      "metadata": {
        "id": "pFdsbrpzLMKv",
        "colab": {
          "base_uri": "https://localhost:8080/"
        },
        "outputId": "a0412712-4679-49ae-884b-71c2d69dddce"
      },
      "outputs": [
        {
          "output_type": "stream",
          "name": "stdout",
          "text": [
            "5.6\n"
          ]
        }
      ],
      "source": [
        "# Aqui se esta connvirtiendo una varialbe que es un float a un string}\n",
        "# una funcion para esto es str()\n",
        "a = 5.6\n",
        "s = str(a)\n",
        "print(s)"
      ]
    },
    {
      "cell_type": "code",
      "execution_count": 80,
      "metadata": {
        "id": "8T4NFYF5LMKv",
        "colab": {
          "base_uri": "https://localhost:8080/"
        },
        "outputId": "481f96fd-691a-444b-f14f-7797fd5873de"
      },
      "outputs": [
        {
          "output_type": "execute_result",
          "data": {
            "text/plain": [
              "['p', 'y', 't', 'h', 'o', 'n']"
            ]
          },
          "metadata": {},
          "execution_count": 80
        }
      ],
      "source": [
        "\n",
        "#las cadenas son secuencias de caracteres y puede convertirse en otra cosa,\n",
        "# Listas o Tuplas\n",
        "s = \"python\"\n",
        "list(s)\n"
      ]
    },
    {
      "cell_type": "code",
      "source": [
        "#Aqui se ejecuta un slicing sobre la variable S\n",
        "# cortandode [0, 1, 2] hasta el tercer caracter de las lista\n",
        "# RECORDEMOS COMIENZA EN 0\n",
        "s[:3]"
      ],
      "metadata": {
        "colab": {
          "base_uri": "https://localhost:8080/",
          "height": 35
        },
        "id": "vqvaD7Y6gRwh",
        "outputId": "02cc4e26-18c8-4f50-d0a1-22dbd4754612"
      },
      "execution_count": 83,
      "outputs": [
        {
          "output_type": "execute_result",
          "data": {
            "text/plain": [
              "'pyt'"
            ],
            "application/vnd.google.colaboratory.intrinsic+json": {
              "type": "string"
            }
          },
          "metadata": {},
          "execution_count": 83
        }
      ]
    },
    {
      "cell_type": "markdown",
      "source": [
        "El carácter de barra invertida \\es un carácter de escape , lo que significa que se utiliza para especificar caracteres especiales como \\ncaracteres de nueva línea o Unicode. Para escribir una cadena literal con barras invertidas, debes escapar de ellas:"
      ],
      "metadata": {
        "id": "atRDl6zQhMLA"
      }
    },
    {
      "cell_type": "code",
      "execution_count": 84,
      "metadata": {
        "id": "QIVXl7CkLMKw",
        "colab": {
          "base_uri": "https://localhost:8080/"
        },
        "outputId": "6f691e7c-c722-40eb-b5f5-a6c02b142f31"
      },
      "outputs": [
        {
          "output_type": "stream",
          "name": "stdout",
          "text": [
            "12\\34\n"
          ]
        }
      ],
      "source": [
        "s = \"12\\\\34\"\n",
        "print(s)"
      ]
    },
    {
      "cell_type": "code",
      "execution_count": null,
      "metadata": {
        "id": "uwh10k-sLMKw"
      },
      "outputs": [],
      "source": [
        "s = r\"this\\has\\no\\special\\characters\"\n",
        "s"
      ]
    },
    {
      "cell_type": "code",
      "execution_count": 85,
      "metadata": {
        "id": "R42N1VswLMKw",
        "colab": {
          "base_uri": "https://localhost:8080/",
          "height": 35
        },
        "outputId": "b7e2dfb4-b125-48b4-c75b-1d0f8ff92fa3"
      },
      "outputs": [
        {
          "output_type": "execute_result",
          "data": {
            "text/plain": [
              "'this is the first half and this is the second half'"
            ],
            "application/vnd.google.colaboratory.intrinsic+json": {
              "type": "string"
            }
          },
          "metadata": {},
          "execution_count": 85
        }
      ],
      "source": [
        "a = \"this is the first half \"\n",
        "b = \"and this is the second half\"\n",
        "a + b"
      ]
    },
    {
      "cell_type": "code",
      "execution_count": 86,
      "metadata": {
        "id": "kvWBxj4lLMKw"
      },
      "outputs": [],
      "source": [
        "template = \"{0:.2f} {1:s} are worth US${2:d}\""
      ]
    },
    {
      "cell_type": "code",
      "execution_count": 87,
      "metadata": {
        "id": "3j01C7JFLMKw",
        "colab": {
          "base_uri": "https://localhost:8080/",
          "height": 35
        },
        "outputId": "e3d9c5da-e28c-4cf8-8f4a-318b6dc4e1b1"
      },
      "outputs": [
        {
          "output_type": "execute_result",
          "data": {
            "text/plain": [
              "'88.46 Argentine Pesos are worth US$1'"
            ],
            "application/vnd.google.colaboratory.intrinsic+json": {
              "type": "string"
            }
          },
          "metadata": {},
          "execution_count": 87
        }
      ],
      "source": [
        "template.format(88.46, \"Argentine Pesos\", 1)"
      ]
    },
    {
      "cell_type": "code",
      "execution_count": 88,
      "metadata": {
        "id": "MH_lvLFQLMKw"
      },
      "outputs": [],
      "source": [
        "amount = 10\n",
        "rate = 88.46\n",
        "currency = \"Pesos\"\n",
        "result = f\"{amount} {currency} is worth US${amount / rate}\""
      ]
    },
    {
      "cell_type": "code",
      "execution_count": 89,
      "metadata": {
        "id": "Y_Dzi6ItLMK2",
        "colab": {
          "base_uri": "https://localhost:8080/",
          "height": 35
        },
        "outputId": "ea47955a-9d72-4efe-9ca9-c240d1520296"
      },
      "outputs": [
        {
          "output_type": "execute_result",
          "data": {
            "text/plain": [
              "'10 Pesos is worth US$0.11'"
            ],
            "application/vnd.google.colaboratory.intrinsic+json": {
              "type": "string"
            }
          },
          "metadata": {},
          "execution_count": 89
        }
      ],
      "source": [
        "f\"{amount} {currency} is worth US${amount / rate:.2f}\""
      ]
    },
    {
      "cell_type": "code",
      "execution_count": 90,
      "metadata": {
        "id": "pO51_4juLMK2",
        "colab": {
          "base_uri": "https://localhost:8080/",
          "height": 35
        },
        "outputId": "1cef84be-84a9-4078-e7b0-f6a9085fb96e"
      },
      "outputs": [
        {
          "output_type": "execute_result",
          "data": {
            "text/plain": [
              "'español'"
            ],
            "application/vnd.google.colaboratory.intrinsic+json": {
              "type": "string"
            }
          },
          "metadata": {},
          "execution_count": 90
        }
      ],
      "source": [
        "val = \"español\"\n",
        "val"
      ]
    },
    {
      "cell_type": "code",
      "execution_count": 91,
      "metadata": {
        "id": "EPw08RWRLMK3",
        "colab": {
          "base_uri": "https://localhost:8080/"
        },
        "outputId": "177fb486-ef31-4922-e4b5-bb1c3d388ad5"
      },
      "outputs": [
        {
          "output_type": "execute_result",
          "data": {
            "text/plain": [
              "bytes"
            ]
          },
          "metadata": {},
          "execution_count": 91
        }
      ],
      "source": [
        "val_utf8 = val.encode(\"utf-8\")\n",
        "val_utf8\n",
        "type(val_utf8)"
      ]
    },
    {
      "cell_type": "code",
      "execution_count": 92,
      "metadata": {
        "id": "u8OYdIeSLMK3",
        "colab": {
          "base_uri": "https://localhost:8080/",
          "height": 35
        },
        "outputId": "dc5ecf67-073b-4b96-a829-3966f0146c18"
      },
      "outputs": [
        {
          "output_type": "execute_result",
          "data": {
            "text/plain": [
              "'español'"
            ],
            "application/vnd.google.colaboratory.intrinsic+json": {
              "type": "string"
            }
          },
          "metadata": {},
          "execution_count": 92
        }
      ],
      "source": [
        "val_utf8.decode(\"utf-8\")"
      ]
    },
    {
      "cell_type": "code",
      "execution_count": 93,
      "metadata": {
        "id": "EV2VW8gxLMK3",
        "colab": {
          "base_uri": "https://localhost:8080/"
        },
        "outputId": "ebb1c233-bb1a-4156-b5af-b4db149a3ed5"
      },
      "outputs": [
        {
          "output_type": "execute_result",
          "data": {
            "text/plain": [
              "b'e\\x00s\\x00p\\x00a\\x00\\xf1\\x00o\\x00l\\x00'"
            ]
          },
          "metadata": {},
          "execution_count": 93
        }
      ],
      "source": [
        "val.encode(\"latin1\")\n",
        "val.encode(\"utf-16\")\n",
        "val.encode(\"utf-16le\")"
      ]
    },
    {
      "cell_type": "code",
      "execution_count": 94,
      "metadata": {
        "id": "kEACdhp-LMK3",
        "colab": {
          "base_uri": "https://localhost:8080/"
        },
        "outputId": "b37dbe81-ce36-4bde-beb3-258c8db4bb37"
      },
      "outputs": [
        {
          "output_type": "execute_result",
          "data": {
            "text/plain": [
              "True"
            ]
          },
          "metadata": {},
          "execution_count": 94
        }
      ],
      "source": [
        "True and True\n"
      ]
    },
    {
      "cell_type": "code",
      "source": [
        "False or True"
      ],
      "metadata": {
        "colab": {
          "base_uri": "https://localhost:8080/"
        },
        "id": "g_pq8zKPiRAy",
        "outputId": "074ec543-dca2-4c7b-c40e-c42607dd92ef"
      },
      "execution_count": 95,
      "outputs": [
        {
          "output_type": "execute_result",
          "data": {
            "text/plain": [
              "True"
            ]
          },
          "metadata": {},
          "execution_count": 95
        }
      ]
    },
    {
      "cell_type": "code",
      "execution_count": null,
      "metadata": {
        "id": "3XJs3JDuLMK3"
      },
      "outputs": [],
      "source": [
        "int(False)\n",
        "int(True)"
      ]
    },
    {
      "cell_type": "code",
      "execution_count": 96,
      "metadata": {
        "id": "fR9m_c3FLMK4",
        "colab": {
          "base_uri": "https://localhost:8080/"
        },
        "outputId": "b00ecd1b-869a-4e4b-e106-a4cd6c82c3a3"
      },
      "outputs": [
        {
          "output_type": "execute_result",
          "data": {
            "text/plain": [
              "True"
            ]
          },
          "metadata": {},
          "execution_count": 96
        }
      ],
      "source": [
        "a = True\n",
        "b = False\n",
        "not a\n",
        "not b"
      ]
    },
    {
      "cell_type": "code",
      "execution_count": 97,
      "metadata": {
        "id": "tWDmFG24LMK4",
        "colab": {
          "base_uri": "https://localhost:8080/"
        },
        "outputId": "b0b2fd15-23d7-4814-fb9e-47d8341b1894"
      },
      "outputs": [
        {
          "output_type": "execute_result",
          "data": {
            "text/plain": [
              "False"
            ]
          },
          "metadata": {},
          "execution_count": 97
        }
      ],
      "source": [
        "s = \"3.14159\"\n",
        "fval = float(s)\n",
        "type(fval)\n",
        "int(fval)\n",
        "bool(fval)\n",
        "bool(0)"
      ]
    },
    {
      "cell_type": "code",
      "execution_count": 98,
      "metadata": {
        "id": "5vTxkovLLMK4",
        "colab": {
          "base_uri": "https://localhost:8080/"
        },
        "outputId": "99121fa2-6488-451a-c16d-a4da9e38b8fa"
      },
      "outputs": [
        {
          "output_type": "execute_result",
          "data": {
            "text/plain": [
              "True"
            ]
          },
          "metadata": {},
          "execution_count": 98
        }
      ],
      "source": [
        "a = None\n",
        "a is None\n",
        "b = 5\n",
        "b is not None"
      ]
    },
    {
      "cell_type": "markdown",
      "source": [
        "**Fechas y horarios**\n",
        "El módulo Python integrado datetimeproporciona `datetime`, `datey` `time` tipos. El datetimetipo combina la información almacenada en datey timey es el más utilizado:\n",
        "\n",
        "\n",
        "\n"
      ],
      "metadata": {
        "id": "NZIiVlybivZo"
      }
    },
    {
      "cell_type": "code",
      "execution_count": 104,
      "metadata": {
        "id": "1HHosjtwLMK4",
        "colab": {
          "base_uri": "https://localhost:8080/"
        },
        "outputId": "0ebfbf52-151d-4f8d-8464-85161659fc97"
      },
      "outputs": [
        {
          "output_type": "execute_result",
          "data": {
            "text/plain": [
              "29"
            ]
          },
          "metadata": {},
          "execution_count": 104
        }
      ],
      "source": [
        "#Se hace importacion de modulo\n",
        "from datetime import datetime, date, time\n",
        "dt = datetime(2011, 10, 29, 20, 30, 21)\n",
        "dt.day\n"
      ]
    },
    {
      "cell_type": "code",
      "source": [
        "# de la variable dt consultamos minutos\n",
        "dt.minute"
      ],
      "metadata": {
        "colab": {
          "base_uri": "https://localhost:8080/"
        },
        "id": "AJafmrEmjb0T",
        "outputId": "23470d60-a83b-4d7a-c88c-bbe25eddb05f"
      },
      "execution_count": 103,
      "outputs": [
        {
          "output_type": "execute_result",
          "data": {
            "text/plain": [
              "30"
            ]
          },
          "metadata": {},
          "execution_count": 103
        }
      ]
    },
    {
      "cell_type": "code",
      "execution_count": 106,
      "metadata": {
        "id": "dPJg0GxOLMK4",
        "colab": {
          "base_uri": "https://localhost:8080/"
        },
        "outputId": "3193aba0-1123-4d5c-a8fc-346083eaa608"
      },
      "outputs": [
        {
          "output_type": "execute_result",
          "data": {
            "text/plain": [
              "datetime.date(2011, 10, 29)"
            ]
          },
          "metadata": {},
          "execution_count": 106
        }
      ],
      "source": [
        "# dt mediante metodo consultamos fecha\n",
        "dt.date()"
      ]
    },
    {
      "cell_type": "code",
      "source": [
        "#metodo para consulta de horas\n",
        "dt.time()"
      ],
      "metadata": {
        "colab": {
          "base_uri": "https://localhost:8080/"
        },
        "id": "4mw59rGcjkfq",
        "outputId": "2de87bd0-9e23-40e4-deba-3dd48eb4836c"
      },
      "execution_count": 108,
      "outputs": [
        {
          "output_type": "execute_result",
          "data": {
            "text/plain": [
              "datetime.time(20, 30, 21)"
            ]
          },
          "metadata": {},
          "execution_count": 108
        }
      ]
    },
    {
      "cell_type": "code",
      "execution_count": 110,
      "metadata": {
        "id": "RzZcFVp2LMK5",
        "colab": {
          "base_uri": "https://localhost:8080/",
          "height": 35
        },
        "outputId": "07058f0a-719c-4fd8-f714-42874bfea65c"
      },
      "outputs": [
        {
          "output_type": "execute_result",
          "data": {
            "text/plain": [
              "'2011-10-29 20:30'"
            ],
            "application/vnd.google.colaboratory.intrinsic+json": {
              "type": "string"
            }
          },
          "metadata": {},
          "execution_count": 110
        }
      ],
      "source": [
        "#strftime da formato a un datatime como cadena:\n",
        "dt.strftime(\"%Y-%m-%d %H:%M\")"
      ]
    },
    {
      "cell_type": "code",
      "execution_count": 111,
      "metadata": {
        "id": "SUEiJAPXLMK5",
        "colab": {
          "base_uri": "https://localhost:8080/"
        },
        "outputId": "d8f57674-4054-419f-cc15-dc57e2c9f7e3"
      },
      "outputs": [
        {
          "output_type": "execute_result",
          "data": {
            "text/plain": [
              "datetime.datetime(2009, 10, 31, 0, 0)"
            ]
          },
          "metadata": {},
          "execution_count": 111
        }
      ],
      "source": [
        "# con el metodo\n",
        "datetime.strptime(\"20091031\", \"%Y%m%d\")"
      ]
    },
    {
      "cell_type": "markdown",
      "source": [
        "Cuando agrega o agrupa datos de series de tiempo, ocasionalmente será útil reemplazar los campos de tiempo de una serie de datetimes (por ejemplo, reemplazar los minutecampos secondy por cero):"
      ],
      "metadata": {
        "id": "NzLxFXSNk8iS"
      }
    },
    {
      "cell_type": "code",
      "source": [
        "dt"
      ],
      "metadata": {
        "colab": {
          "base_uri": "https://localhost:8080/"
        },
        "id": "Aj_1b90ulDW_",
        "outputId": "a7369114-ca2d-4075-96f6-d3f0653de4f6"
      },
      "execution_count": 114,
      "outputs": [
        {
          "output_type": "execute_result",
          "data": {
            "text/plain": [
              "datetime.datetime(2011, 10, 29, 20, 30, 21)"
            ]
          },
          "metadata": {},
          "execution_count": 114
        }
      ]
    },
    {
      "cell_type": "code",
      "execution_count": 113,
      "metadata": {
        "id": "eAnYwC1ALMK5",
        "colab": {
          "base_uri": "https://localhost:8080/"
        },
        "outputId": "0acfd910-8375-4de4-ac50-628aa2851f17"
      },
      "outputs": [
        {
          "output_type": "execute_result",
          "data": {
            "text/plain": [
              "datetime.datetime(2011, 10, 29, 20, 0)"
            ]
          },
          "metadata": {},
          "execution_count": 113
        }
      ],
      "source": [
        "#seteamos minutos y segundos a 0\n",
        "dt_hour = dt.replace(minute=0, second=0)\n",
        "dt_hour"
      ]
    },
    {
      "cell_type": "code",
      "execution_count": 115,
      "metadata": {
        "id": "wsTQtr7gLMK5",
        "colab": {
          "base_uri": "https://localhost:8080/"
        },
        "outputId": "0d0f4ad1-5a9f-494c-9998-592f10597a4e"
      },
      "outputs": [
        {
          "output_type": "execute_result",
          "data": {
            "text/plain": [
              "datetime.datetime(2011, 10, 29, 20, 30, 21)"
            ]
          },
          "metadata": {},
          "execution_count": 115
        }
      ],
      "source": [
        "dt\n",
        "\n"
      ]
    },
    {
      "cell_type": "code",
      "execution_count": 122,
      "metadata": {
        "id": "2IdWEXgZLMK5",
        "colab": {
          "base_uri": "https://localhost:8080/"
        },
        "outputId": "34b3b6bd-0092-4f29-d9f6-a9f7c8dc32e4"
      },
      "outputs": [
        {
          "output_type": "stream",
          "name": "stdout",
          "text": [
            "17 days, 1:59:39\n",
            "2011-11-15 22:30:00\n",
            "2011-10-29 20:30:21\n"
          ]
        }
      ],
      "source": [
        "#La diferencia entre dos datetime produce datetime.timedelta\n",
        "dt2 = datetime(2011, 11, 15, 22, 30)\n",
        "delta = dt2 - dt\n",
        "delta\n",
        "type(delta)\n",
        "print(delta)\n",
        "print( dt2)\n",
        "print( dt)"
      ]
    },
    {
      "cell_type": "code",
      "source": [
        "delta"
      ],
      "metadata": {
        "colab": {
          "base_uri": "https://localhost:8080/"
        },
        "id": "PWGuRLLul0iV",
        "outputId": "488a4b68-2156-4e27-e911-e63f0e30bb3a"
      },
      "execution_count": 123,
      "outputs": [
        {
          "output_type": "execute_result",
          "data": {
            "text/plain": [
              "datetime.timedelta(days=17, seconds=7179)"
            ]
          },
          "metadata": {},
          "execution_count": 123
        }
      ]
    },
    {
      "cell_type": "code",
      "execution_count": 124,
      "metadata": {
        "id": "MrxzxtjbLMK6",
        "colab": {
          "base_uri": "https://localhost:8080/"
        },
        "outputId": "bfa852f5-0693-4224-9bff-4f686aa36230"
      },
      "outputs": [
        {
          "output_type": "execute_result",
          "data": {
            "text/plain": [
              "datetime.datetime(2011, 11, 15, 22, 30)"
            ]
          },
          "metadata": {},
          "execution_count": 124
        }
      ],
      "source": [
        "dt\n",
        "dt + delta"
      ]
    },
    {
      "cell_type": "markdown",
      "source": [
        "**Flujo de control**\n",
        "Python tiene varias palabras clave integradas para lógica condicional, bucles y otros conceptos de flujo de control estándar que se encuentran en otros lenguajes de programación.\n",
        "\n",
        "***si, elif y demás***\n",
        "La ifdeclaración es uno de los tipos de declaraciones de flujo de control más conocidos. Comprueba una condición que, si True, evalúa el código en el bloque siguiente:"
      ],
      "metadata": {
        "id": "2qGNtxC4meY6"
      }
    },
    {
      "cell_type": "code",
      "source": [
        "x = -5\n",
        "if x < 0:\n",
        "    print(\"It's negative\")"
      ],
      "metadata": {
        "colab": {
          "base_uri": "https://localhost:8080/"
        },
        "id": "EgF7s_61msjv",
        "outputId": "9e191b31-a660-4b7c-fd72-239b024188d5"
      },
      "execution_count": 125,
      "outputs": [
        {
          "output_type": "stream",
          "name": "stdout",
          "text": [
            "It's negative\n"
          ]
        }
      ]
    },
    {
      "cell_type": "markdown",
      "source": [
        "Si alguna de las condiciones es True, no se alcanzarán más bloques elif. elseCon una condición compuesta usando ando or, las condiciones se evalúan de izquierda a derecha y provocarán un cortocircuito:"
      ],
      "metadata": {
        "id": "fOeZ9pFRnECZ"
      }
    },
    {
      "cell_type": "code",
      "source": [
        "if x < 0:\n",
        "    print(\"It's negative\")\n",
        "elif x == 0:\n",
        "    print(\"Equal to zero\")\n",
        "elif 0 < x < 5:\n",
        "    print(\"Positive but smaller than 5\")\n",
        "else:\n",
        "    print(\"Positive and larger than or equal to 5\")"
      ],
      "metadata": {
        "colab": {
          "base_uri": "https://localhost:8080/"
        },
        "id": "wEaoAOjdm3e5",
        "outputId": "a20fdf81-a8fa-4804-d540-80120a225e61"
      },
      "execution_count": 126,
      "outputs": [
        {
          "output_type": "stream",
          "name": "stdout",
          "text": [
            "It's negative\n"
          ]
        }
      ]
    },
    {
      "cell_type": "markdown",
      "source": [
        "En este ejemplo, la comparación c > dnunca se evalúa porque la primera comparación fue True."
      ],
      "metadata": {
        "id": "pjlECOUYocF5"
      }
    },
    {
      "cell_type": "code",
      "execution_count": 127,
      "metadata": {
        "id": "WxanRB0KLMK6",
        "colab": {
          "base_uri": "https://localhost:8080/"
        },
        "outputId": "2d8f7c95-9d64-4f82-e75e-b4899b4bb5ac"
      },
      "outputs": [
        {
          "output_type": "stream",
          "name": "stdout",
          "text": [
            "Made it\n"
          ]
        }
      ],
      "source": [
        "a = 5; b = 7\n",
        "c = 8; d = 4\n",
        "if a < b or c > d:\n",
        "    print(\"Made it\")"
      ]
    },
    {
      "cell_type": "code",
      "execution_count": 128,
      "metadata": {
        "id": "BcLwBXFWLMK6",
        "colab": {
          "base_uri": "https://localhost:8080/"
        },
        "outputId": "377f21ef-0716-4ad0-f013-5675603a4eb1"
      },
      "outputs": [
        {
          "output_type": "execute_result",
          "data": {
            "text/plain": [
              "True"
            ]
          },
          "metadata": {},
          "execution_count": 128
        }
      ],
      "source": [
        "4 > 3 > 2 > 1"
      ]
    },
    {
      "cell_type": "markdown",
      "source": [
        "Puede avanzar un forbucle a la siguiente iteración, omitiendo el resto del bloque, utilizando la continuepalabra clave. Considere este código, que resume números enteros en una lista y omite Nonevalores:"
      ],
      "metadata": {
        "id": "Qwq3soGSooiA"
      }
    },
    {
      "cell_type": "code",
      "execution_count": 132,
      "metadata": {
        "id": "MWs_lh36LMK6",
        "colab": {
          "base_uri": "https://localhost:8080/"
        },
        "outputId": "69ae7d01-dd56-4331-e769-2a40790f8341"
      },
      "outputs": [
        {
          "output_type": "stream",
          "name": "stdout",
          "text": [
            "(0, 0)\n",
            "(1, 0)\n",
            "(1, 1)\n",
            "(2, 0)\n",
            "(2, 1)\n",
            "(2, 2)\n",
            "(3, 0)\n",
            "(3, 1)\n",
            "(3, 2)\n",
            "(3, 3)\n",
            "(4, 0)\n",
            "(4, 1)\n",
            "(4, 2)\n",
            "(4, 3)\n",
            "(5, 0)\n",
            "(5, 1)\n",
            "(5, 2)\n",
            "(5, 3)\n"
          ]
        }
      ],
      "source": [
        "# recordemos que la funcion range genera una lista desde el 0 al valor\n",
        "# asignado ejemplo range(4)\n",
        "\n",
        "for i in range(6):\n",
        "    for j in range(4):\n",
        "        if j > i:\n",
        "            break\n",
        "        print((i, j))\n"
      ]
    },
    {
      "cell_type": "code",
      "execution_count": 133,
      "metadata": {
        "id": "Kc8A6UA1LMK6",
        "colab": {
          "base_uri": "https://localhost:8080/"
        },
        "outputId": "3e9c1d96-54b8-4b89-af05-cc07ce6ee080"
      },
      "outputs": [
        {
          "output_type": "execute_result",
          "data": {
            "text/plain": [
              "[0, 1, 2, 3, 4, 5, 6, 7, 8, 9]"
            ]
          },
          "metadata": {},
          "execution_count": 133
        }
      ],
      "source": [
        "range(10)\n",
        "list(range(10))"
      ]
    },
    {
      "cell_type": "code",
      "execution_count": 134,
      "metadata": {
        "id": "y4_fq7XVLMK6",
        "colab": {
          "base_uri": "https://localhost:8080/"
        },
        "outputId": "2a3aa719-cbba-42cc-8326-1ad6c8060ac4"
      },
      "outputs": [
        {
          "output_type": "execute_result",
          "data": {
            "text/plain": [
              "[5, 4, 3, 2, 1]"
            ]
          },
          "metadata": {},
          "execution_count": 134
        }
      ],
      "source": [
        "list(range(0, 20, 2))\n"
      ]
    },
    {
      "cell_type": "code",
      "source": [
        "list(range(5, 0, -1))"
      ],
      "metadata": {
        "colab": {
          "base_uri": "https://localhost:8080/"
        },
        "id": "wkjKKgYNpqsm",
        "outputId": "ac078526-e112-421c-b438-252491985c48"
      },
      "execution_count": 135,
      "outputs": [
        {
          "output_type": "execute_result",
          "data": {
            "text/plain": [
              "[5, 4, 3, 2, 1]"
            ]
          },
          "metadata": {},
          "execution_count": 135
        }
      ]
    },
    {
      "cell_type": "code",
      "execution_count": 136,
      "metadata": {
        "id": "ie1je4frLMK7",
        "colab": {
          "base_uri": "https://localhost:8080/"
        },
        "outputId": "8cb80157-4ceb-41a8-ac99-d612f85b04a6"
      },
      "outputs": [
        {
          "output_type": "stream",
          "name": "stdout",
          "text": [
            "element 0: 1\n",
            "element 1: 2\n",
            "element 2: 3\n",
            "element 3: 4\n"
          ]
        }
      ],
      "source": [
        "seq = [1, 2, 3, 4]\n",
        "for i in range(len(seq)):\n",
        "    print(f\"element {i}: {seq[i]}\")"
      ]
    },
    {
      "cell_type": "markdown",
      "source": [
        "Definición de secuencia: Se define una lista seq con los valores 1, 2, 3 y 4.\n",
        "Recorrido con rango: El bucle for itera sobre un rango de valores desde 0 hasta la longitud de la secuencia (4 en este caso).\n",
        "Acceso a elementos: Dentro del bucle, el índice i se utiliza para acceder al elemento correspondiente en la secuencia usando seq[i].\n",
        "Impresión formateada: Se utiliza el formato f-string para imprimir un mensaje que incluye tanto el índice i como el elemento seq[i].\n",
        "Salida: La salida será:"
      ],
      "metadata": {
        "id": "zUEh7BELqMdF"
      }
    },
    {
      "cell_type": "markdown",
      "source": [
        "Si bien puede usar funciones como listalmacenar todos los números enteros generados rangeen alguna otra estructura de datos, a menudo la forma de iterador predeterminada será la que desee. Este fragmento suma todos los números del 0 al 99,999 que son múltiplos de 3 o 5:"
      ],
      "metadata": {
        "id": "9cOxtIceqb3y"
      }
    },
    {
      "cell_type": "code",
      "execution_count": 138,
      "metadata": {
        "id": "ftgBSBwLLMK7",
        "colab": {
          "base_uri": "https://localhost:8080/"
        },
        "outputId": "6a45f975-988a-41b3-d2c3-d36c0e6f5051"
      },
      "outputs": [
        {
          "output_type": "stream",
          "name": "stdout",
          "text": [
            "2333316668\n"
          ]
        }
      ],
      "source": [
        "total = 0\n",
        "for i in range(100000):\n",
        "    # % is the modulo operator\n",
        "    if i % 3 == 0 or i % 5 == 0:\n",
        "        total += i\n",
        "print(total)"
      ]
    },
    {
      "cell_type": "markdown",
      "source": [
        "**Este capítulo proporcionó una breve introducción a algunos conceptos básicos del lenguaje Python y los entornos de programación IPython y Jupyter. En el próximo capítulo, analizaré muchos tipos de datos, funciones y utilidades de entrada y salida integradas que se utilizarán continuamente durante el resto del libro.**"
      ],
      "metadata": {
        "id": "_VFYV97HqofW"
      }
    },
    {
      "cell_type": "code",
      "execution_count": null,
      "metadata": {
        "id": "_H4EQEjtLMK7"
      },
      "outputs": [],
      "source": []
    }
  ],
  "metadata": {
    "kernelspec": {
      "display_name": "Python 3",
      "language": "python",
      "name": "python3"
    },
    "language_info": {
      "codemirror_mode": {
        "name": "ipython",
        "version": 3
      },
      "file_extension": ".py",
      "mimetype": "text/x-python",
      "name": "python",
      "nbconvert_exporter": "python",
      "pygments_lexer": "ipython3",
      "version": "3.7.6"
    },
    "colab": {
      "provenance": [],
      "toc_visible": true,
      "history_visible": true,
      "include_colab_link": true
    }
  },
  "nbformat": 4,
  "nbformat_minor": 0
}