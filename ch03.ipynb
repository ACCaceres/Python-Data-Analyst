{
  "cells": [
    {
      "cell_type": "markdown",
      "metadata": {
        "id": "view-in-github",
        "colab_type": "text"
      },
      "source": [
        "<a href=\"https://colab.research.google.com/github/ACCaceres/Python-Data-Analyst/blob/main/ch03.ipynb\" target=\"_parent\"><img src=\"https://colab.research.google.com/assets/colab-badge.svg\" alt=\"Open In Colab\"/></a>"
      ]
    },
    {
      "cell_type": "markdown",
      "source": [
        "# Capitulo 3 | **Cuaderno de Notas**\n",
        "*Ariel Alfonso Cáceres Pacheco*\n",
        "\n",
        "Notas personales al cuaderno O'Really\n",
        "**Python for Data Analysis**"
      ],
      "metadata": {
        "id": "4D35JSJWsRFB"
      }
    },
    {
      "cell_type": "code",
      "execution_count": null,
      "metadata": {
        "id": "6uTEiJnxsP1y",
        "colab": {
          "base_uri": "https://localhost:8080/"
        },
        "outputId": "f9a6a616-8122-4a20-ba97-8ef23ffc110d"
      },
      "outputs": [
        {
          "output_type": "execute_result",
          "data": {
            "text/plain": [
              "(4, 5, 6)"
            ]
          },
          "metadata": {},
          "execution_count": 1
        }
      ],
      "source": [
        "# Estas son tuplas\n",
        "tup = (4, 5, 6)\n",
        "tup"
      ]
    },
    {
      "cell_type": "code",
      "execution_count": null,
      "metadata": {
        "id": "bfyBjpmTsP1z",
        "colab": {
          "base_uri": "https://localhost:8080/"
        },
        "outputId": "2ea12416-6960-449e-8580-a8ef4cfa7f55"
      },
      "outputs": [
        {
          "output_type": "execute_result",
          "data": {
            "text/plain": [
              "(4, 5, 6)"
            ]
          },
          "metadata": {},
          "execution_count": 3
        }
      ],
      "source": [
        "#  en muchos contextos la tuplas pueden omitir los parentisis\n",
        "tup = 4, 5, 6\n",
        "tup"
      ]
    },
    {
      "cell_type": "code",
      "execution_count": null,
      "metadata": {
        "id": "ZsGHpOE_sP1z",
        "colab": {
          "base_uri": "https://localhost:8080/"
        },
        "outputId": "edbe3229-defa-49eb-bdfb-9af13cd863ff"
      },
      "outputs": [
        {
          "output_type": "execute_result",
          "data": {
            "text/plain": [
              "(4, 0, 2)"
            ]
          },
          "metadata": {},
          "execution_count": 6
        }
      ],
      "source": [
        "#puedes convertir cualquier secuencia en una Tupla\n",
        "tuple([4, 0, 2])\n"
      ]
    },
    {
      "cell_type": "code",
      "source": [
        "# Conviritiendo un String llamado String en Tupla\n",
        "tup = tuple('string')\n",
        "tup"
      ],
      "metadata": {
        "colab": {
          "base_uri": "https://localhost:8080/"
        },
        "id": "5GmTD5nc62NO",
        "outputId": "ecdf7850-74c2-4c13-d4b9-3e754384b94c"
      },
      "execution_count": null,
      "outputs": [
        {
          "output_type": "execute_result",
          "data": {
            "text/plain": [
              "('s', 't', 'r', 'i', 'n', 'g')"
            ]
          },
          "metadata": {},
          "execution_count": 8
        }
      ]
    },
    {
      "cell_type": "code",
      "execution_count": null,
      "metadata": {
        "id": "GGBMToa4sP1z",
        "colab": {
          "base_uri": "https://localhost:8080/",
          "height": 35
        },
        "outputId": "d69ffa15-707f-4225-c977-e4b0f8321f35"
      },
      "outputs": [
        {
          "output_type": "execute_result",
          "data": {
            "text/plain": [
              "'s'"
            ],
            "application/vnd.google.colaboratory.intrinsic+json": {
              "type": "string"
            }
          },
          "metadata": {},
          "execution_count": 10
        }
      ],
      "source": [
        "#Obtener cualquie elemento entre []\n",
        "tup[0]"
      ]
    },
    {
      "cell_type": "code",
      "execution_count": null,
      "metadata": {
        "id": "eB5ZT8t7sP1z"
      },
      "outputs": [],
      "source": [
        "# en este caso se asignan 2 listas a un tupla\n",
        "nested_tup = (4, 5, 6), (7, 8)\n"
      ]
    },
    {
      "cell_type": "code",
      "source": [
        "nested_tup\n"
      ],
      "metadata": {
        "colab": {
          "base_uri": "https://localhost:8080/"
        },
        "id": "6X6AFey57W3P",
        "outputId": "2b52df08-dff9-41a1-a367-8b4bb87331b8"
      },
      "execution_count": null,
      "outputs": [
        {
          "output_type": "execute_result",
          "data": {
            "text/plain": [
              "((4, 5, 6), (7, 8))"
            ]
          },
          "metadata": {},
          "execution_count": 14
        }
      ]
    },
    {
      "cell_type": "code",
      "source": [
        "# Valor [0]\n",
        "nested_tup[0]\n"
      ],
      "metadata": {
        "colab": {
          "base_uri": "https://localhost:8080/"
        },
        "id": "8CoXkVu57bKs",
        "outputId": "9be2b652-b612-4633-be41-a58cb2c68e01"
      },
      "execution_count": null,
      "outputs": [
        {
          "output_type": "execute_result",
          "data": {
            "text/plain": [
              "(4, 5, 6)"
            ]
          },
          "metadata": {},
          "execution_count": 15
        }
      ]
    },
    {
      "cell_type": "code",
      "source": [
        "# Valor [1]\n",
        "nested_tup[1]"
      ],
      "metadata": {
        "colab": {
          "base_uri": "https://localhost:8080/"
        },
        "id": "G1hk05NH7gr0",
        "outputId": "28a45a15-4838-44d5-94d4-913cf1d8e057"
      },
      "execution_count": null,
      "outputs": [
        {
          "output_type": "execute_result",
          "data": {
            "text/plain": [
              "(7, 8)"
            ]
          },
          "metadata": {},
          "execution_count": 16
        }
      ]
    },
    {
      "cell_type": "code",
      "execution_count": null,
      "metadata": {
        "id": "1VIeuLZksP1z",
        "colab": {
          "base_uri": "https://localhost:8080/",
          "height": 176
        },
        "outputId": "aa1fffde-2946-4683-9d24-34892371a409"
      },
      "outputs": [
        {
          "output_type": "error",
          "ename": "TypeError",
          "evalue": "'tuple' object does not support item assignment",
          "traceback": [
            "\u001b[0;31m---------------------------------------------------------------------------\u001b[0m",
            "\u001b[0;31mTypeError\u001b[0m                                 Traceback (most recent call last)",
            "\u001b[0;32m<ipython-input-26-2659aa8de0b6>\u001b[0m in \u001b[0;36m<cell line: 4>\u001b[0;34m()\u001b[0m\n\u001b[1;32m      2\u001b[0m \u001b[0;31m# que lo compone una Lista.\u001b[0m\u001b[0;34m\u001b[0m\u001b[0;34m\u001b[0m\u001b[0m\n\u001b[1;32m      3\u001b[0m \u001b[0mtup\u001b[0m \u001b[0;34m=\u001b[0m \u001b[0mtuple\u001b[0m\u001b[0;34m(\u001b[0m\u001b[0;34m[\u001b[0m\u001b[0;34m'foo'\u001b[0m\u001b[0;34m,\u001b[0m \u001b[0;34m[\u001b[0m\u001b[0;36m1\u001b[0m\u001b[0;34m,\u001b[0m \u001b[0;36m2\u001b[0m\u001b[0;34m]\u001b[0m\u001b[0;34m,\u001b[0m \u001b[0;32mTrue\u001b[0m\u001b[0;34m]\u001b[0m\u001b[0;34m)\u001b[0m\u001b[0;34m\u001b[0m\u001b[0;34m\u001b[0m\u001b[0m\n\u001b[0;32m----> 4\u001b[0;31m \u001b[0mtup\u001b[0m\u001b[0;34m[\u001b[0m\u001b[0;36m2\u001b[0m\u001b[0;34m]\u001b[0m \u001b[0;34m=\u001b[0m \u001b[0;32mFalse\u001b[0m\u001b[0;34m\u001b[0m\u001b[0;34m\u001b[0m\u001b[0m\n\u001b[0m",
            "\u001b[0;31mTypeError\u001b[0m: 'tuple' object does not support item assignment"
          ]
        }
      ],
      "source": [
        "#  este codigo da erro pues se invoca al valor [2 ] de la tupla y tiene solo un valor [0]\n",
        "# que lo compone una Lista.\n",
        "tup = tuple(['foo', [1, 2], True])\n",
        "tup[2] = False"
      ]
    },
    {
      "cell_type": "code",
      "execution_count": null,
      "metadata": {
        "id": "eJrhgYpxsP10",
        "colab": {
          "base_uri": "https://localhost:8080/"
        },
        "outputId": "514dcf59-0413-4f19-8ab8-e3bd88b7f0b0"
      },
      "outputs": [
        {
          "output_type": "execute_result",
          "data": {
            "text/plain": [
              "('foo', [1, 2, 3], True)"
            ]
          },
          "metadata": {},
          "execution_count": 27
        }
      ],
      "source": [
        "\n",
        "# al valor 1 de la tupla se le agraga via metodo append el valor 3\n",
        "tup[1].append(3)\n",
        "\n",
        "tup"
      ]
    },
    {
      "cell_type": "code",
      "execution_count": null,
      "metadata": {
        "id": "aUMx69vFsP10",
        "colab": {
          "base_uri": "https://localhost:8080/"
        },
        "outputId": "75eb0835-ffe3-4fd1-fe14-fe766d75db90"
      },
      "outputs": [
        {
          "output_type": "execute_result",
          "data": {
            "text/plain": [
              "(4, None, 'foo', 6, 0, 'bar')"
            ]
          },
          "metadata": {},
          "execution_count": 30
        }
      ],
      "source": [
        "# Concatenando tuplas\n",
        "(4, None, 'foo') + (6, 0) + ('bar',)"
      ]
    },
    {
      "cell_type": "code",
      "execution_count": null,
      "metadata": {
        "id": "S1uMaqBCsP10",
        "colab": {
          "base_uri": "https://localhost:8080/"
        },
        "outputId": "32e4f565-6203-4204-bb35-44c9a6770d58"
      },
      "outputs": [
        {
          "output_type": "execute_result",
          "data": {
            "text/plain": [
              "('foo', 'bar', 'foo', 'bar', 'foo', 'bar', 'foo', 'bar')"
            ]
          },
          "metadata": {},
          "execution_count": 33
        }
      ],
      "source": [
        "#Multiplicar una Tupla\n",
        "('foo', 'bar') * 4"
      ]
    },
    {
      "cell_type": "markdown",
      "source": [
        "**Desempaquetando tuplas**\n",
        "Si intenta asignar una expresión de variables similar a una tupla, Python intentará descomprimir el valor en el lado derecho del signo igual:"
      ],
      "metadata": {
        "id": "W2Jw5Q9q-Rr6"
      }
    },
    {
      "cell_type": "code",
      "execution_count": null,
      "metadata": {
        "id": "7mlFVCJhsP10",
        "colab": {
          "base_uri": "https://localhost:8080/"
        },
        "outputId": "0a2349b4-7af8-4cff-b2ea-34fd46e6f617"
      },
      "outputs": [
        {
          "output_type": "execute_result",
          "data": {
            "text/plain": [
              "5"
            ]
          },
          "metadata": {},
          "execution_count": 35
        }
      ],
      "source": [
        "\n",
        "tup = (4, 5, 6)\n",
        "a, b, c = tup\n",
        "b"
      ]
    },
    {
      "cell_type": "code",
      "execution_count": null,
      "metadata": {
        "id": "yMJZA6emsP10",
        "colab": {
          "base_uri": "https://localhost:8080/"
        },
        "outputId": "1ad2d25d-74e0-4915-9429-ec19b624e530"
      },
      "outputs": [
        {
          "output_type": "execute_result",
          "data": {
            "text/plain": [
              "7"
            ]
          },
          "metadata": {},
          "execution_count": 36
        }
      ],
      "source": [
        "tup = 4, 5, (6, 7)\n",
        "a, b, (c, d) = tup\n",
        "d"
      ]
    },
    {
      "cell_type": "code",
      "execution_count": null,
      "metadata": {
        "id": "5JHfQ0B8sP10"
      },
      "outputs": [],
      "source": [
        "a, b = 1, 2\n"
      ]
    },
    {
      "cell_type": "code",
      "source": [
        "print(a, b)\n"
      ],
      "metadata": {
        "colab": {
          "base_uri": "https://localhost:8080/"
        },
        "id": "Owe27ABI-t7V",
        "outputId": "62455e75-7f21-47bb-c4bc-c81bcaf8a8ac"
      },
      "execution_count": null,
      "outputs": [
        {
          "output_type": "stream",
          "name": "stdout",
          "text": [
            "1 2\n"
          ]
        }
      ]
    },
    {
      "cell_type": "code",
      "source": [
        "# reasignacion\n",
        "b, a = a, b\n",
        "print(a,\",\",b)\n"
      ],
      "metadata": {
        "colab": {
          "base_uri": "https://localhost:8080/"
        },
        "id": "VP9LETXQ-3Vl",
        "outputId": "3e930037-effb-4645-c69c-1cbf24f0d951"
      },
      "execution_count": null,
      "outputs": [
        {
          "output_type": "stream",
          "name": "stdout",
          "text": [
            "1 , 2\n"
          ]
        }
      ]
    },
    {
      "cell_type": "code",
      "execution_count": null,
      "metadata": {
        "id": "2HvGgEVOsP11",
        "colab": {
          "base_uri": "https://localhost:8080/"
        },
        "outputId": "366ee2b6-9c8a-4d7e-8a7d-ded79101faaf"
      },
      "outputs": [
        {
          "output_type": "stream",
          "name": "stdout",
          "text": [
            "a=1, b=2, c=3\n",
            "a=4, b=5, c=6\n",
            "a=7, b=8, c=9\n"
          ]
        }
      ],
      "source": [
        "# esta secuencia itera sobre cada valor de lista\n",
        "# para cada valor de a, b ,c de la secuencia le corresponde un valor de la lista\n",
        "seq = [(1, 2, 3), (4, 5, 6), (7, 8, 9)]\n",
        "for a, b, c in seq:\n",
        "    print(f'a={a}, b={b}, c={c}')"
      ]
    },
    {
      "cell_type": "markdown",
      "source": [
        "Hay algunas situaciones en las que es posible que desees \"extraer\" algunos elementos del principio de una tupla. Hay una sintaxis especial que puede hacer esto, *restque también se usa en firmas de funciones para capturar una lista arbitrariamente larga de argumentos posicionales:\n",
        "\n"
      ],
      "metadata": {
        "id": "YSmDtSZvAQMs"
      }
    },
    {
      "cell_type": "code",
      "execution_count": null,
      "metadata": {
        "id": "SUxy6bOpsP11",
        "colab": {
          "base_uri": "https://localhost:8080/"
        },
        "outputId": "b725e8ad-37c2-404a-f02c-d71d2351ff81"
      },
      "outputs": [
        {
          "output_type": "execute_result",
          "data": {
            "text/plain": [
              "[3, 4, 5]"
            ]
          },
          "metadata": {},
          "execution_count": 51
        }
      ],
      "source": [
        "# aqui el ejemplo\n",
        "values = 1, 2, 3, 4, 5\n",
        "a, b, *rest = values\n",
        "a\n",
        "b\n",
        "rest"
      ]
    },
    {
      "cell_type": "code",
      "execution_count": null,
      "metadata": {
        "id": "eD9TwEoJsP11"
      },
      "outputs": [],
      "source": [
        "a, b, *_ = values"
      ]
    },
    {
      "cell_type": "markdown",
      "source": [
        "**METODOS DE TUPLA**"
      ],
      "metadata": {
        "id": "lvt9n2jWAuoB"
      }
    },
    {
      "cell_type": "code",
      "execution_count": null,
      "metadata": {
        "id": "PPhWx2XnsP11",
        "colab": {
          "base_uri": "https://localhost:8080/"
        },
        "outputId": "1297e385-82fb-4285-a654-ac560e8cadb5"
      },
      "outputs": [
        {
          "output_type": "execute_result",
          "data": {
            "text/plain": [
              "4"
            ]
          },
          "metadata": {},
          "execution_count": 54
        }
      ],
      "source": [
        "# contar valroes dento de una tupla\n",
        "a = (1, 2, 2, 2, 3, 4, 2)\n",
        "a.count(2)"
      ]
    },
    {
      "cell_type": "code",
      "execution_count": null,
      "metadata": {
        "id": "u9uVwABusP11",
        "colab": {
          "base_uri": "https://localhost:8080/"
        },
        "outputId": "6b5ecbeb-c871-476c-ce3c-d0bc0c18a102"
      },
      "outputs": [
        {
          "output_type": "execute_result",
          "data": {
            "text/plain": [
              "['foo', 'peekaboo', 'baz']"
            ]
          },
          "metadata": {},
          "execution_count": 2
        }
      ],
      "source": [
        "# se tiene una lista y una tupla esta se convierte en Lista, y al valor 1 de las lista (2°)\n",
        "# se le asigna nuevo valor\n",
        "a_list = [2, 3, 7, None]\n",
        "\n",
        "tup = (\"foo\", \"bar\", \"baz\")\n",
        "b_list = list(tup)\n",
        "b_list\n",
        "b_list[1] = \"peekaboo\"\n",
        "b_list"
      ]
    },
    {
      "cell_type": "code",
      "execution_count": null,
      "metadata": {
        "id": "Gtw_WVWrsP11",
        "colab": {
          "base_uri": "https://localhost:8080/"
        },
        "outputId": "54490c69-0f41-4bab-aad4-1a00c40a41a8"
      },
      "outputs": [
        {
          "output_type": "execute_result",
          "data": {
            "text/plain": [
              "[0, 1, 2, 3, 4, 5, 6, 7, 8, 9]"
            ]
          },
          "metadata": {},
          "execution_count": 3
        }
      ],
      "source": [
        "# genenerar un rango y convertirilo en lista esto se hace con funcion list\n",
        "gen = range(10)\n",
        "gen\n",
        "list(gen)"
      ]
    },
    {
      "cell_type": "code",
      "execution_count": null,
      "metadata": {
        "id": "lcaxncKHsP12",
        "colab": {
          "base_uri": "https://localhost:8080/"
        },
        "outputId": "954b7c07-318d-48d6-9970-701a9858f063"
      },
      "outputs": [
        {
          "output_type": "execute_result",
          "data": {
            "text/plain": [
              "['foo', 'peekaboo', 'baz', 'dwarf', 'dwarf', 'dwarf']"
            ]
          },
          "metadata": {},
          "execution_count": 6
        }
      ],
      "source": [
        "# se ha añadido una nuevo valor a la lista via .append(\"valor\")\n",
        "b_list.append(\"dwarf\")\n",
        "b_list"
      ]
    },
    {
      "cell_type": "code",
      "execution_count": null,
      "metadata": {
        "id": "l9-1-fl6sP12",
        "colab": {
          "base_uri": "https://localhost:8080/"
        },
        "outputId": "ec8f705b-613c-4597-cd31-39bcab72a047"
      },
      "outputs": [
        {
          "output_type": "execute_result",
          "data": {
            "text/plain": [
              "['foo', 'red', 'red', 'peekaboo', 'baz', 'dwarf', 'dwarf', 'dwarf']"
            ]
          },
          "metadata": {},
          "execution_count": 8
        }
      ],
      "source": [
        "# se ha añadido valor al segundo item de la lista\n",
        "b_list.insert(1, \"red\")\n",
        "b_list"
      ]
    },
    {
      "cell_type": "code",
      "execution_count": null,
      "metadata": {
        "id": "KwafArjJsP12",
        "colab": {
          "base_uri": "https://localhost:8080/"
        },
        "outputId": "ade257da-f635-4eb0-b7d8-202ca2d96568"
      },
      "outputs": [
        {
          "output_type": "execute_result",
          "data": {
            "text/plain": [
              "['red', 'peekaboo', 'dwarf', 'foo']"
            ]
          },
          "metadata": {},
          "execution_count": 13
        }
      ],
      "source": [
        "# con metodo .pop se elimina el elemento del Objeto segun indice señaladao en este caso el .pop(2)\n",
        "# es el Tercero\n",
        "b_list.pop(2)\n",
        "b_list"
      ]
    },
    {
      "cell_type": "code",
      "execution_count": null,
      "metadata": {
        "id": "kI2q9-3AsP12",
        "colab": {
          "base_uri": "https://localhost:8080/"
        },
        "outputId": "ec226ded-1ad2-433c-876b-d3363e690f40"
      },
      "outputs": [
        {
          "output_type": "execute_result",
          "data": {
            "text/plain": [
              "['red', 'peekaboo', 'dwarf', 'foo', 'foo']"
            ]
          },
          "metadata": {},
          "execution_count": 14
        }
      ],
      "source": [
        "#se agrega nuevamente el elemento foo al final via .append(\"foo\")\n",
        "b_list.append(\"foo\")\n",
        "b_list\n"
      ]
    },
    {
      "cell_type": "code",
      "source": [
        "#con .remove(\"foo\") elminia el elemento de la lista el primero que encuentre\n",
        "b_list.remove(\"foo\")\n",
        "b_list"
      ],
      "metadata": {
        "colab": {
          "base_uri": "https://localhost:8080/"
        },
        "id": "vIHUfllXKAcQ",
        "outputId": "9a5b45f0-032b-4c92-a830-cab0b2c3f3df"
      },
      "execution_count": null,
      "outputs": [
        {
          "output_type": "execute_result",
          "data": {
            "text/plain": [
              "['red', 'peekaboo', 'dwarf', 'foo']"
            ]
          },
          "metadata": {},
          "execution_count": 15
        }
      ]
    },
    {
      "cell_type": "code",
      "execution_count": null,
      "metadata": {
        "id": "G6hDAPYesP12",
        "colab": {
          "base_uri": "https://localhost:8080/"
        },
        "outputId": "2356627c-72fd-4939-c09a-48700c3923e8"
      },
      "outputs": [
        {
          "output_type": "execute_result",
          "data": {
            "text/plain": [
              "True"
            ]
          },
          "metadata": {},
          "execution_count": 16
        }
      ],
      "source": [
        "# funcion in consulta si ele elemento esta en el segundo elemento\n",
        "#responde con un True or False\n",
        "\"dwarf\" in b_list"
      ]
    },
    {
      "cell_type": "code",
      "execution_count": null,
      "metadata": {
        "id": "P428Ty3msP12",
        "colab": {
          "base_uri": "https://localhost:8080/"
        },
        "outputId": "7af188be-627f-4fa8-a043-a4273f4ee1b3"
      },
      "outputs": [
        {
          "output_type": "execute_result",
          "data": {
            "text/plain": [
              "False"
            ]
          },
          "metadata": {},
          "execution_count": 18
        }
      ],
      "source": [
        "# funcion para vaidar si un elemento no esta en tu git\n",
        "\"dwarf\" not in b_list"
      ]
    },
    {
      "cell_type": "code",
      "execution_count": null,
      "metadata": {
        "id": "9TeDA-YgsP13",
        "colab": {
          "base_uri": "https://localhost:8080/"
        },
        "outputId": "29fe2adf-a2cd-4ad1-edf7-45b226e57293"
      },
      "outputs": [
        {
          "output_type": "execute_result",
          "data": {
            "text/plain": [
              "[4, None, 'foo', 7, 8, (2, 3)]"
            ]
          },
          "metadata": {},
          "execution_count": 19
        }
      ],
      "source": [
        "\n",
        "# adicion de 2 tuplas\n",
        "[4, None, \"foo\"] + [7, 8, (2, 3)]"
      ]
    },
    {
      "cell_type": "code",
      "execution_count": null,
      "metadata": {
        "id": "iTu9Fe-PsP13",
        "colab": {
          "base_uri": "https://localhost:8080/"
        },
        "outputId": "b1a8be78-732e-4d74-eb44-be2b0683acd9"
      },
      "outputs": [
        {
          "output_type": "execute_result",
          "data": {
            "text/plain": [
              "[4, None, 'foo', 7, 8, (2, 3)]"
            ]
          },
          "metadata": {},
          "execution_count": 20
        }
      ],
      "source": [
        "# se puede agregar con el metodo. extend([Valores]) de un listado\n",
        "x = [4, None, \"foo\"]\n",
        "x.extend([7, 8, (2, 3)])\n",
        "x"
      ]
    },
    {
      "cell_type": "code",
      "execution_count": null,
      "metadata": {
        "id": "ndJC2_qPsP13",
        "colab": {
          "base_uri": "https://localhost:8080/"
        },
        "outputId": "3075afb5-6b62-4b6f-a2f0-0d6323ce1d4e"
      },
      "outputs": [
        {
          "output_type": "execute_result",
          "data": {
            "text/plain": [
              "[1, 2, 3, 5, 7]"
            ]
          },
          "metadata": {},
          "execution_count": 21
        }
      ],
      "source": [
        "# con Metodo .sort hacemos un orden\n",
        "a = [7, 2, 5, 1, 3]\n",
        "a.sort()\n",
        "a"
      ]
    },
    {
      "cell_type": "code",
      "execution_count": null,
      "metadata": {
        "id": "k3CinQBMsP13",
        "colab": {
          "base_uri": "https://localhost:8080/"
        },
        "outputId": "4ba35612-e5a9-4b37-d422-1695ccb2528a"
      },
      "outputs": [
        {
          "output_type": "execute_result",
          "data": {
            "text/plain": [
              "['He', 'saw', 'six', 'small', 'foxes']"
            ]
          },
          "metadata": {},
          "execution_count": 1
        }
      ],
      "source": [
        "# ordena por longitud del String\n",
        "b = [\"saw\", \"small\", \"He\", \"foxes\", \"six\"]\n",
        "b.sort(key=len)\n",
        "b"
      ]
    },
    {
      "cell_type": "code",
      "execution_count": null,
      "metadata": {
        "id": "wC_E6LuIsP13",
        "colab": {
          "base_uri": "https://localhost:8080/"
        },
        "outputId": "877e1e68-3434-4c7a-aa15-2d06ffdb1048"
      },
      "outputs": [
        {
          "output_type": "execute_result",
          "data": {
            "text/plain": [
              "[2, 3, 7, 5]"
            ]
          },
          "metadata": {},
          "execution_count": 2
        }
      ],
      "source": [
        "#ciclo de slicingn aca dese el 2° AL ULTMO 5-1\n",
        "seq = [7, 2, 3, 7, 5, 6, 0, 1]\n",
        "seq[1:5]"
      ]
    },
    {
      "cell_type": "code",
      "execution_count": null,
      "metadata": {
        "id": "ZoNx148EsP13",
        "colab": {
          "base_uri": "https://localhost:8080/"
        },
        "outputId": "2708f662-b1db-4dd7-d32b-a703e1a94be4"
      },
      "outputs": [
        {
          "output_type": "execute_result",
          "data": {
            "text/plain": [
              "[7, 2, 3, 6, 3, 6, 0, 1]"
            ]
          },
          "metadata": {},
          "execution_count": 10
        }
      ],
      "source": [
        "# slicing en la secuencia\n",
        "# reasigna valores 3 y 5-1\n",
        "#seq = [7, 2, 3, 7, 5, 6, 0, 1]\n",
        "seq[3:5] = [6, 3]\n",
        "seq"
      ]
    },
    {
      "cell_type": "code",
      "execution_count": null,
      "metadata": {
        "id": "Gn2bgEwdsP13",
        "colab": {
          "base_uri": "https://localhost:8080/"
        },
        "outputId": "c513cb89-de68-421f-c897-18b34bc422e5"
      },
      "outputs": [
        {
          "output_type": "execute_result",
          "data": {
            "text/plain": [
              "[7, 2, 3, 6, 3]"
            ]
          },
          "metadata": {},
          "execution_count": 11
        }
      ],
      "source": [
        "#Sclingi desde el 0 al 5-1\n",
        "#seq = [7, 2, 3, 7, 5, 6, 0, 1]\n",
        "seq[:5]\n"
      ]
    },
    {
      "cell_type": "code",
      "source": [
        "# Slicing desde el 3 hasta el final\n",
        "[7, 2, 3, 6, 3, 6, 0, 1]\n",
        "seq[3:]"
      ],
      "metadata": {
        "colab": {
          "base_uri": "https://localhost:8080/"
        },
        "id": "3d8MNiurSBfu",
        "outputId": "1c0d65d2-df5d-4f45-87ee-a0117e0e7712"
      },
      "execution_count": null,
      "outputs": [
        {
          "output_type": "execute_result",
          "data": {
            "text/plain": [
              "[6, 3, 6, 0, 1]"
            ]
          },
          "metadata": {},
          "execution_count": 12
        }
      ]
    },
    {
      "cell_type": "code",
      "execution_count": null,
      "metadata": {
        "id": "lVoxYwfAsP14",
        "colab": {
          "base_uri": "https://localhost:8080/"
        },
        "outputId": "43b88639-bc5a-4950-cfc2-c9c1b3509334"
      },
      "outputs": [
        {
          "output_type": "execute_result",
          "data": {
            "text/plain": [
              "[5, 6, 0, 1]"
            ]
          },
          "metadata": {},
          "execution_count": 3
        }
      ],
      "source": [
        "# Cuenta desde derecha a izquierda para hacer el Slicing\n",
        "seq[-4:]\n"
      ]
    },
    {
      "cell_type": "code",
      "execution_count": null,
      "metadata": {
        "id": "s-VwMmG4sP14",
        "colab": {
          "base_uri": "https://localhost:8080/"
        },
        "outputId": "cc474d5b-75d5-4e05-fdc8-8af5a97fbe4b"
      },
      "outputs": [
        {
          "output_type": "execute_result",
          "data": {
            "text/plain": [
              "[7, 3, 5, 0]"
            ]
          },
          "metadata": {},
          "execution_count": 4
        }
      ],
      "source": [
        "# da saltos de 2 vales haciendo un slicing en la lista\n",
        "seq[::2]"
      ]
    },
    {
      "cell_type": "code",
      "execution_count": null,
      "metadata": {
        "id": "8vPPSG93sP14",
        "colab": {
          "base_uri": "https://localhost:8080/"
        },
        "outputId": "9db67f8a-a547-409b-853c-55b53de443f8"
      },
      "outputs": [
        {
          "output_type": "stream",
          "name": "stdout",
          "text": [
            "[7, 2, 3, 7, 5, 6, 0, 1]\n"
          ]
        },
        {
          "output_type": "execute_result",
          "data": {
            "text/plain": [
              "[1, 0, 6, 5, 7, 3, 2, 7]"
            ]
          },
          "metadata": {},
          "execution_count": 5
        }
      ],
      "source": [
        "#Invierte los valores en las lista\n",
        "\n",
        "print(seq)\n",
        "seq[::-1]"
      ]
    },
    {
      "cell_type": "markdown",
      "source": [
        "Es necesario un poco de tiempo para acostumbrarse a dividir la semántica, especialmente si viene de R o MATLAB. Consulte la Figura  3.1 para obtener una ilustración útil del corte con números enteros positivos y negativos. En la figura, los índices se muestran en los \"bordes del contenedor\" para ayudar a mostrar dónde comienzan y terminan las selecciones de sectores utilizando índices positivos o negativos.\n",
        "\n",
        "<img alt=\"Estadistica\" src=\"https://wesmckinney.com/book/images/pda3_0301.png\" width=960px>\n"
      ],
      "metadata": {
        "id": "Kfuhm2wPRFlm"
      }
    },
    {
      "cell_type": "markdown",
      "source": [
        "El diccionario o dictpuede ser la estructura de datos integrada de Python más importante. En otros lenguajes de programación, los diccionarios a veces se denominan mapas hash o matrices asociativas . Un diccionario almacena una colección de pares clave-valor , donde clave y valor son objetos de Python. Cada clave está asociada con un valor para que un valor pueda recuperarse, insertarse, modificarse o eliminarse convenientemente dada una clave particular. Un método para crear un diccionario es utilizar llaves {}y dos puntos para separar claves y valores:"
      ],
      "metadata": {
        "id": "_kQuJC9dSju1"
      }
    },
    {
      "cell_type": "code",
      "execution_count": 11,
      "metadata": {
        "id": "MO5LpHE1sP14",
        "colab": {
          "base_uri": "https://localhost:8080/"
        },
        "outputId": "2b598084-0902-44ce-8181-c89cde3878b8"
      },
      "outputs": [
        {
          "output_type": "execute_result",
          "data": {
            "text/plain": [
              "{'a': 'some value', 'b': [1, 2, 3, 4]}"
            ]
          },
          "metadata": {},
          "execution_count": 11
        }
      ],
      "source": [
        "# Se crea un diccionario {clave:valor}\n",
        "empty_dict = {}\n",
        "d1 = {\"a\": \"some value\", \"b\": [1, 2, 3, 4]}\n",
        "d1"
      ]
    },
    {
      "cell_type": "code",
      "execution_count": 12,
      "metadata": {
        "id": "TB38Me4bsP14",
        "colab": {
          "base_uri": "https://localhost:8080/"
        },
        "outputId": "b540a301-e891-4024-bc68-ca1c2f0c32b9"
      },
      "outputs": [
        {
          "output_type": "execute_result",
          "data": {
            "text/plain": [
              "[1, 2, 3, 4]"
            ]
          },
          "metadata": {},
          "execution_count": 12
        }
      ],
      "source": [
        "#  se puede integrar o acceder elementos dentro del diccionario.\n",
        "d1[7] = \"an integer\"\n",
        "d1\n",
        "d1[\"b\"]"
      ]
    },
    {
      "cell_type": "code",
      "execution_count": 14,
      "metadata": {
        "id": "uIZpHHmWsP15",
        "colab": {
          "base_uri": "https://localhost:8080/"
        },
        "outputId": "41a9a235-d06d-4d7d-9f9c-871ed159e248"
      },
      "outputs": [
        {
          "output_type": "execute_result",
          "data": {
            "text/plain": [
              "True"
            ]
          },
          "metadata": {},
          "execution_count": 14
        }
      ],
      "source": [
        "# con In se puede comprobar si la clave valor es True or False\n",
        "\"b\" in d1"
      ]
    },
    {
      "cell_type": "code",
      "execution_count": 22,
      "metadata": {
        "id": "1fw_wcxAsP15",
        "colab": {
          "base_uri": "https://localhost:8080/"
        },
        "outputId": "8f78bfdc-f148-4aa8-d5be-ac903d214d45"
      },
      "outputs": [
        {
          "output_type": "execute_result",
          "data": {
            "text/plain": [
              "{'a': 'some value',\n",
              " 'b': [1, 2, 3, 4],\n",
              " 7: 'an integer',\n",
              " 'dummy': 'another value',\n",
              " 5: 'some value'}"
            ]
          },
          "metadata": {},
          "execution_count": 22
        }
      ],
      "source": [
        "# se inserta un nuevo par valor\n",
        "d1[5] = \"some value\"\n",
        "d1\n"
      ]
    },
    {
      "cell_type": "code",
      "source": [
        "# con la funcion del se elimina par valor en este caso\n",
        "# 5: 'some value'\n",
        "del d1[5]\n",
        "d1\n"
      ],
      "metadata": {
        "colab": {
          "base_uri": "https://localhost:8080/"
        },
        "id": "wBU_9tfvT_3h",
        "outputId": "ab89e064-36cb-4381-9a4b-e2179076ac8b"
      },
      "execution_count": 23,
      "outputs": [
        {
          "output_type": "execute_result",
          "data": {
            "text/plain": [
              "{'a': 'some value',\n",
              " 'b': [1, 2, 3, 4],\n",
              " 7: 'an integer',\n",
              " 'dummy': 'another value'}"
            ]
          },
          "metadata": {},
          "execution_count": 23
        }
      ]
    },
    {
      "cell_type": "code",
      "source": [
        "# se agrega un a nueva clave: Valor en este caso dummy:another value\n",
        "d1[\"dummy\"] = \"another value\"\n",
        "d1\n"
      ],
      "metadata": {
        "colab": {
          "base_uri": "https://localhost:8080/"
        },
        "id": "cHnrZ3d3Tu6g",
        "outputId": "a8a909f0-fa34-4486-a40a-90f5fe962a8e"
      },
      "execution_count": 18,
      "outputs": [
        {
          "output_type": "execute_result",
          "data": {
            "text/plain": [
              "{'a': 'some value',\n",
              " 'b': [1, 2, 3, 4],\n",
              " 7: 'an integer',\n",
              " 5: 'some value',\n",
              " 'dummy': 'another value'}"
            ]
          },
          "metadata": {},
          "execution_count": 18
        }
      ]
    },
    {
      "cell_type": "code",
      "source": [
        "ret = d1.pop(\"dummy\")\n",
        "ret\n"
      ],
      "metadata": {
        "colab": {
          "base_uri": "https://localhost:8080/",
          "height": 35
        },
        "id": "g60um5GFUaF-",
        "outputId": "2419e74c-16d1-48dd-fc47-7ea79eb52eef"
      },
      "execution_count": 24,
      "outputs": [
        {
          "output_type": "execute_result",
          "data": {
            "text/plain": [
              "'another value'"
            ],
            "application/vnd.google.colaboratory.intrinsic+json": {
              "type": "string"
            }
          },
          "metadata": {},
          "execution_count": 24
        }
      ]
    },
    {
      "cell_type": "markdown",
      "source": [
        "El método keysand valuesle proporciona iteradores de las claves y valores del diccionario, respectivamente. El orden de las claves depende del orden de su inserción, y estas funciones generan las claves y los valores en el mismo orden respectivo:"
      ],
      "metadata": {
        "id": "XDvVoqa5UviE"
      }
    },
    {
      "cell_type": "code",
      "execution_count": 26,
      "metadata": {
        "id": "DGtF-6aqsP15",
        "colab": {
          "base_uri": "https://localhost:8080/"
        },
        "outputId": "ece5df0a-7258-4600-d707-7a1b0232c790"
      },
      "outputs": [
        {
          "output_type": "execute_result",
          "data": {
            "text/plain": [
              "['a', 'b', 7]"
            ]
          },
          "metadata": {},
          "execution_count": 26
        }
      ],
      "source": [
        "# llamados de claves a una lista\n",
        "list(d1.keys())\n"
      ]
    },
    {
      "cell_type": "code",
      "source": [
        "# llamados de valores extraidos a una lista\n",
        "list(d1.values())"
      ],
      "metadata": {
        "colab": {
          "base_uri": "https://localhost:8080/"
        },
        "id": "y1pVz4X-U2D4",
        "outputId": "c8ac64fb-ae56-4cb4-b78b-c881a9f402bb"
      },
      "execution_count": 29,
      "outputs": [
        {
          "output_type": "execute_result",
          "data": {
            "text/plain": [
              "['some value', [1, 2, 3, 4], 'an integer']"
            ]
          },
          "metadata": {},
          "execution_count": 29
        }
      ]
    },
    {
      "cell_type": "code",
      "execution_count": 33,
      "metadata": {
        "id": "HjKD-jm6sP15",
        "colab": {
          "base_uri": "https://localhost:8080/"
        },
        "outputId": "f0b881d8-b69d-4f1c-9619-3e5fc5ac8dc0"
      },
      "outputs": [
        {
          "output_type": "execute_result",
          "data": {
            "text/plain": [
              "[('a', 'some value'), ('b', 'foo'), (7, 'an integer'), ('c', 12)]"
            ]
          },
          "metadata": {},
          "execution_count": 33
        }
      ],
      "source": [
        "\n",
        "#con el metodo .items puede ir sobre clve:valor pero embevido en una tupla\n",
        "list(d1.items())"
      ]
    },
    {
      "cell_type": "code",
      "execution_count": 31,
      "metadata": {
        "id": "aLCUZKW5sP15",
        "colab": {
          "base_uri": "https://localhost:8080/"
        },
        "outputId": "4be3ff4d-383a-4b81-f8c4-a3c838786283"
      },
      "outputs": [
        {
          "output_type": "execute_result",
          "data": {
            "text/plain": [
              "{'a': 'some value', 'b': 'foo', 7: 'an integer', 'c': 12}"
            ]
          },
          "metadata": {},
          "execution_count": 31
        }
      ],
      "source": [
        "# si necesita actualizar diccionarios he aqui una forma\n",
        "d1.update({\"b\": \"foo\", \"c\": 12})\n",
        "d1"
      ]
    },
    {
      "cell_type": "code",
      "execution_count": 34,
      "metadata": {
        "id": "6obsjFFrsP16",
        "colab": {
          "base_uri": "https://localhost:8080/"
        },
        "outputId": "c4618727-ca34-4be3-826b-9556564a20eb"
      },
      "outputs": [
        {
          "output_type": "execute_result",
          "data": {
            "text/plain": [
              "<zip at 0x7e685ca69ac0>"
            ]
          },
          "metadata": {},
          "execution_count": 34
        }
      ],
      "source": [
        "# crearemos 2 tuplas range(5) --->del 0 al 4 y reversed(range(5))--- del 4 al 0\n",
        "\n",
        "tuples = zip(range(5), reversed(range(5)))\n",
        "tuples\n"
      ]
    },
    {
      "cell_type": "code",
      "source": [
        "# el metodo dict lo que efectua es una funciion que hace mapedo de diccionario\n",
        "mapping = dict(tuples)\n",
        "mapping"
      ],
      "metadata": {
        "colab": {
          "base_uri": "https://localhost:8080/"
        },
        "id": "TNDk9wLiXprD",
        "outputId": "a63d4ef8-8946-4581-c857-5f2482ad1b64"
      },
      "execution_count": 35,
      "outputs": [
        {
          "output_type": "execute_result",
          "data": {
            "text/plain": [
              "{0: 4, 1: 3, 2: 2, 3: 1, 4: 0}"
            ]
          },
          "metadata": {},
          "execution_count": 35
        }
      ]
    },
    {
      "cell_type": "markdown",
      "source": [
        "Más adelante hablaremos de la comprensión del diccionario , que es otra forma de construir diccionarios.\n",
        "\n",
        "Valores predeterminados\n",
        "Es común tener lógica como:\n",
        "\n",
        "```\n",
        "if key in some_dict:\n",
        "    value = some_dict[key]\n",
        "else:\n",
        "    value = default_value\n",
        "```\n",
        "Por lo tanto, los métodos del diccionario gety poppueden tomar un valor predeterminado para ser devuelto, de modo que el if-elsebloque anterior se puede escribir simplemente como:\n",
        "\n",
        "\n",
        "```\n",
        "value = some_dict.get(key, default_value)\n",
        "```\n",
        "get de forma predeterminada regresará None si la clave no está presente, mientras que popgenerará una excepción. Al establecer valores, puede ser que los valores en un diccionario sean otro tipo de colección, como una lista. Por ejemplo, podrías imaginarte categorizar una lista de palabras por sus primeras letras como un diccionario de listas:\n",
        "\n"
      ],
      "metadata": {
        "id": "bBGRZ0YADi73"
      }
    },
    {
      "cell_type": "code",
      "execution_count": 36,
      "metadata": {
        "id": "6TSYP3MBsP16",
        "colab": {
          "base_uri": "https://localhost:8080/"
        },
        "outputId": "13072cb6-caa9-44ca-f029-85c214e37e00"
      },
      "outputs": [
        {
          "output_type": "execute_result",
          "data": {
            "text/plain": [
              "{'a': ['apple', 'atom'], 'b': ['bat', 'bar', 'book']}"
            ]
          },
          "metadata": {},
          "execution_count": 36
        }
      ],
      "source": [
        "#  aqui un pequeño codigo que asigna al diccionario segun la letra inicial\n",
        "#  Sean las palabras\n",
        "# Se define una lista de palabras llamada words.\n",
        "words = [\"apple\", \"bat\", \"bar\", \"atom\", \"book\"]\n",
        "\n",
        "# Se inicializa un diccionario vacío llamado by_letter.\n",
        "by_letter = {}\n",
        "\n",
        "#Se inicia un bucle for que recorre cada palabra en la lista words\n",
        "# Para cada palabra, se extrae su primera letra y se guarda en la variable letter.\n",
        "for word in words:\n",
        "    # word[0] representa el primer caracter de la palabra\n",
        "    letter = word[0]\n",
        "    #Si no está presente, se agrega la letra como una clave en\n",
        "    # el diccionario y se le asigna como valor una lista que contiene la palabra actual.\n",
        "    if letter not in by_letter:\n",
        "        by_letter[letter] = [word]\n",
        "    else:\n",
        "        by_letter[letter].append(word)\n",
        "\n",
        "by_letter"
      ]
    },
    {
      "cell_type": "markdown",
      "source": [
        "Aqui se presenta un mejoramiento de código utilizando en metodo `setdefault`. El cual sustituye el ciclo `for`"
      ],
      "metadata": {
        "id": "s1Zz15MTGwao"
      }
    },
    {
      "cell_type": "code",
      "execution_count": 4,
      "metadata": {
        "id": "dHioY_V_sP16",
        "colab": {
          "base_uri": "https://localhost:8080/"
        },
        "outputId": "569d0e88-1907-42fc-eb9f-535273688686"
      },
      "outputs": [
        {
          "output_type": "execute_result",
          "data": {
            "text/plain": [
              "{'a': ['apple', 'atom'], 'b': ['bat', 'bar', 'book']}"
            ]
          },
          "metadata": {},
          "execution_count": 4
        }
      ],
      "source": [
        "words = [\"apple\", \"bat\", \"bar\", \"atom\", \"book\"]\n",
        "by_letter = {}\n",
        "for word in words:\n",
        "    letter = word[0]\n",
        "    by_letter.setdefault(letter, []).append(word)\n",
        "by_letter"
      ]
    },
    {
      "cell_type": "markdown",
      "source": [
        "Otra construccion para el mismo código o funcion es ultilizar un modulo `collections` el cual tien una clase `defaultdict` que lo vuelve aun mas fácil"
      ],
      "metadata": {
        "id": "KzdPeOeLHowQ"
      }
    },
    {
      "cell_type": "code",
      "execution_count": 11,
      "metadata": {
        "id": "85GZT0tIsP16",
        "colab": {
          "base_uri": "https://localhost:8080/"
        },
        "outputId": "a13b6552-814e-42a4-b221-6c83b5978f7a"
      },
      "outputs": [
        {
          "output_type": "stream",
          "name": "stdout",
          "text": [
            "defaultdict(<class 'list'>, {'a': ['apple', 'atom'], 'b': ['bat', 'bar', 'book']})\n"
          ]
        }
      ],
      "source": [
        "from collections import defaultdict\n",
        "words = [\"apple\", \"bat\", \"bar\", \"atom\", \"book\"]\n",
        "by_letter = defaultdict(list)\n",
        "for word in words:\n",
        "    by_letter[word[0]].append(word)\n",
        "print(by_letter)"
      ]
    },
    {
      "cell_type": "markdown",
      "source": [
        "**Tipos de claves de diccionario válidas**\n",
        "\n",
        "Si bien los valores de un diccionario pueden ser cualquier objeto de Python, las claves generalmente tienen que ser objetos inmutables como tipos escalares (int, float, string) o tuplas (todos los objetos de la tupla también deben ser inmutables). El término técnico aquí es hashability . Puedes comprobar si un objeto es hash (se puede utilizar como clave en un diccionario) con la hashfunción:\n",
        "\n"
      ],
      "metadata": {
        "id": "FEx0I8rnI8fC"
      }
    },
    {
      "cell_type": "markdown",
      "source": [
        "\n",
        "*Los valores hash que ves cuando usas la hashfunción en general dependerán de la versión de Python que estés usando.*\n",
        "---\n",
        "\n"
      ],
      "metadata": {
        "id": "1JS2PxYNJcX7"
      }
    },
    {
      "cell_type": "code",
      "execution_count": 15,
      "metadata": {
        "id": "wJwrEs8FsP16",
        "colab": {
          "base_uri": "https://localhost:8080/"
        },
        "outputId": "a7470e3a-0ad2-41dc-dba0-08f36d01a72c"
      },
      "outputs": [
        {
          "output_type": "execute_result",
          "data": {
            "text/plain": [
              "-6238533303364444972"
            ]
          },
          "metadata": {},
          "execution_count": 15
        }
      ],
      "source": [
        "hash(\"string\")\n"
      ]
    },
    {
      "cell_type": "code",
      "source": [
        "hash((1, 2, (2, 3)))"
      ],
      "metadata": {
        "colab": {
          "base_uri": "https://localhost:8080/"
        },
        "id": "nQvgYiurJJOe",
        "outputId": "afb80645-213b-44a8-9680-68ab507b5ae4"
      },
      "execution_count": 14,
      "outputs": [
        {
          "output_type": "execute_result",
          "data": {
            "text/plain": [
              "-9209053662355515447"
            ]
          },
          "metadata": {},
          "execution_count": 14
        }
      ]
    },
    {
      "cell_type": "code",
      "source": [
        " hash((1, 2, [2, 3]))"
      ],
      "metadata": {
        "colab": {
          "base_uri": "https://localhost:8080/",
          "height": 141
        },
        "id": "RcmHQtn-JMA6",
        "outputId": "1b3ea2dd-cabf-486e-da78-ae18cf0f89f2"
      },
      "execution_count": 16,
      "outputs": [
        {
          "output_type": "error",
          "ename": "TypeError",
          "evalue": "unhashable type: 'list'",
          "traceback": [
            "\u001b[0;31m---------------------------------------------------------------------------\u001b[0m",
            "\u001b[0;31mTypeError\u001b[0m                                 Traceback (most recent call last)",
            "\u001b[0;32m<ipython-input-16-a58baa9066c2>\u001b[0m in \u001b[0;36m<cell line: 1>\u001b[0;34m()\u001b[0m\n\u001b[0;32m----> 1\u001b[0;31m \u001b[0mhash\u001b[0m\u001b[0;34m(\u001b[0m\u001b[0;34m(\u001b[0m\u001b[0;36m1\u001b[0m\u001b[0;34m,\u001b[0m \u001b[0;36m2\u001b[0m\u001b[0;34m,\u001b[0m \u001b[0;34m[\u001b[0m\u001b[0;36m2\u001b[0m\u001b[0;34m,\u001b[0m \u001b[0;36m3\u001b[0m\u001b[0;34m]\u001b[0m\u001b[0;34m)\u001b[0m\u001b[0;34m)\u001b[0m\u001b[0;34m\u001b[0m\u001b[0;34m\u001b[0m\u001b[0m\n\u001b[0m",
            "\u001b[0;31mTypeError\u001b[0m: unhashable type: 'list'"
          ]
        }
      ]
    },
    {
      "cell_type": "markdown",
      "source": [
        "Para usar una lista como clave, una opción es convertirla en una tupla, que puede ser sometida a hash siempre que sus elementos también pueda"
      ],
      "metadata": {
        "id": "u_rbGvAmJnnC"
      }
    },
    {
      "cell_type": "code",
      "execution_count": 18,
      "metadata": {
        "id": "O2SvnXXDsP16",
        "colab": {
          "base_uri": "https://localhost:8080/"
        },
        "outputId": "d723156f-c116-402d-c15a-ca0e2c76ae03"
      },
      "outputs": [
        {
          "output_type": "execute_result",
          "data": {
            "text/plain": [
              "{(1, 2, 3): 5}"
            ]
          },
          "metadata": {},
          "execution_count": 18
        }
      ],
      "source": [
        "# se define un diccionario vacio\n",
        "d = {}\n",
        "# aqui la lista se convierte en tupla\n",
        "# y se asigna clave valor\n",
        "d[tuple([1, 2, 3])] = 5\n",
        "d"
      ]
    },
    {
      "cell_type": "markdown",
      "source": [
        "**Set**\n",
        "\n",
        "Un `set` es una colección desordenada de elementos únicos. Un conjunto se puede crear de dos maneras: mediante la setfunción o mediante un conjunto literal con llaves:"
      ],
      "metadata": {
        "id": "hbz-xssaKcPG"
      }
    },
    {
      "cell_type": "code",
      "execution_count": 20,
      "metadata": {
        "id": "jdBzVCF3sP17",
        "colab": {
          "base_uri": "https://localhost:8080/"
        },
        "outputId": "1192d4dc-4134-497b-ef1a-8efdc1e061a7"
      },
      "outputs": [
        {
          "output_type": "execute_result",
          "data": {
            "text/plain": [
              "{1, 2, 3}"
            ]
          },
          "metadata": {},
          "execution_count": 20
        }
      ],
      "source": [
        "# Forma 1\n",
        "set([2, 2, 2, 1, 3, 3])"
      ]
    },
    {
      "cell_type": "code",
      "source": [
        "# Forma 2\n",
        "{2, 2, 2, 1, 3, 3}"
      ],
      "metadata": {
        "colab": {
          "base_uri": "https://localhost:8080/"
        },
        "id": "DuJRRwk6Kq1t",
        "outputId": "ce367d4a-2088-4c1f-dcec-e6f34309dfbb"
      },
      "execution_count": 22,
      "outputs": [
        {
          "output_type": "execute_result",
          "data": {
            "text/plain": [
              "{1, 2, 3}"
            ]
          },
          "metadata": {},
          "execution_count": 22
        }
      ]
    },
    {
      "cell_type": "code",
      "execution_count": 24,
      "metadata": {
        "id": "OrwHZVwlsP17"
      },
      "outputs": [],
      "source": [
        "# Se definene dos Set (conjuntos)\n",
        "a = {1, 2, 3, 4, 5}\n",
        "b = {3, 4, 5, 6, 7, 8}"
      ]
    },
    {
      "cell_type": "markdown",
      "source": [
        "Se pueden realizar Operaciones de Conjuntos"
      ],
      "metadata": {
        "id": "a9oMha0eLUka"
      }
    },
    {
      "cell_type": "code",
      "execution_count": 25,
      "metadata": {
        "id": "OrXKPssIsP17",
        "colab": {
          "base_uri": "https://localhost:8080/"
        },
        "outputId": "9f039f61-e724-412e-981f-da303b515d8b"
      },
      "outputs": [
        {
          "output_type": "execute_result",
          "data": {
            "text/plain": [
              "{1, 2, 3, 4, 5, 6, 7, 8}"
            ]
          },
          "metadata": {},
          "execution_count": 25
        }
      ],
      "source": [
        "# Union de 2 conjuntos\n",
        "a.union(b)\n"
      ]
    },
    {
      "cell_type": "code",
      "source": [
        "# Opcion 2 para definir conjuntos\n",
        "a | b"
      ],
      "metadata": {
        "colab": {
          "base_uri": "https://localhost:8080/"
        },
        "id": "DTpsHQ3fLdnX",
        "outputId": "059aadf7-920b-4bf3-a1fb-ef60e26c062d"
      },
      "execution_count": 26,
      "outputs": [
        {
          "output_type": "execute_result",
          "data": {
            "text/plain": [
              "{1, 2, 3, 4, 5, 6, 7, 8}"
            ]
          },
          "metadata": {},
          "execution_count": 26
        }
      ]
    },
    {
      "cell_type": "code",
      "execution_count": 29,
      "metadata": {
        "id": "SZRT5vJesP17",
        "colab": {
          "base_uri": "https://localhost:8080/"
        },
        "outputId": "3309b0e6-b56a-46f2-9957-8b5239b07c2d"
      },
      "outputs": [
        {
          "output_type": "execute_result",
          "data": {
            "text/plain": [
              "{3, 4, 5}"
            ]
          },
          "metadata": {},
          "execution_count": 29
        }
      ],
      "source": [
        "#Interseccion\n",
        "a.intersection(b)\n"
      ]
    },
    {
      "cell_type": "code",
      "source": [
        "#Interseccion\n",
        "a & b"
      ],
      "metadata": {
        "colab": {
          "base_uri": "https://localhost:8080/"
        },
        "id": "75hyh37OLlXq",
        "outputId": "c91bbeba-0b25-4274-e7e4-ef9db93a8aa0"
      },
      "execution_count": 28,
      "outputs": [
        {
          "output_type": "execute_result",
          "data": {
            "text/plain": [
              "{3, 4, 5}"
            ]
          },
          "metadata": {},
          "execution_count": 28
        }
      ]
    },
    {
      "cell_type": "markdown",
      "source": [
        "[Tabla de Operaciones de Conjuntos](https://wesmckinney.com/book/python-builtin#tbl-table_set_operations)\n",
        "\n",
        "\n",
        "| Función                          | Sintaxis alternativa | Descripción                                                                                       |\n",
        "|----------------------------------|----------------------|---------------------------------------------------------------------------------------------------|\n",
        "| a.add(x)                         | N / A                | Agregar elemento x al conjunto a                                                                 |\n",
        "| a.clear()                        | N / A                | Restablecer el conjunto a a un estado vacío, descartando todos sus elementos                       |\n",
        "| a.remove(x)                      | N / A                | Eliminar elemento x del conjunto a                                                               |\n",
        "| a.pop()                          | N / A                | Eliminar un elemento arbitrario del conjunto a, aumentando KeyErrors si el conjunto está vacío    |\n",
        "| a.union(b)                       | a \\| b               | Todos los elementos únicos en a y b                                                              |\n",
        "| a.update(b)                      | a \\|= b              | Establezca el contenido de a para que sea la unión de los elementos en a y b                       |\n",
        "| a.intersection(b)                | a & b                | Todos los elementos en ambos a y b                                                               |\n",
        "| a.intersection_update(b)         | a &= b               | Establezca el contenido de a para que sea la intersección de los elementos en a y b                |\n",
        "| a.difference(b)                  | a - b                | Los elementos a que no están en b                                                                 |\n",
        "| a.difference_update(b)           | a -= b               | Establecer a los elementos a que no están en b                                                    |\n",
        "| a.symmetric_difference(b)        | a ^ b                | Todos los elementos en uno a o b pero no en ambos.                                               |\n",
        "| a.symmetric_difference_update(b) | a ^= b               | Establecido a para contener los elementos en uno a o en ambos, b pero no en ambos.               |\n",
        "| a.issubset(b)                    | <=                   | True si los elementos de a están todos contenidos en b                                            |\n",
        "| a.issuperset(b)                  | >=                   | True si los elementos de b están todos contenidos en a                                            |\n",
        "| a.isdisjoint(b)                  | N / A                | True si a y b no tienen elementos en común                                                       |\n"
      ],
      "metadata": {
        "id": "eZOAiwt7L1Hl"
      }
    },
    {
      "cell_type": "markdown",
      "source": [
        "*Todas las operaciones de conjuntos lógicos tienen contrapartes locales, que le permiten reemplazar el contenido del conjunto en el lado izquierdo de la operación con el resultado. Para conjuntos muy grandes, esto puede resultar más eficaz:*"
      ],
      "metadata": {
        "id": "3EMN-98zNWIQ"
      }
    },
    {
      "cell_type": "code",
      "execution_count": 31,
      "metadata": {
        "id": "z6qtCiM1sP17",
        "colab": {
          "base_uri": "https://localhost:8080/"
        },
        "outputId": "79413607-638d-4e90-91a7-91a1b9bbf164"
      },
      "outputs": [
        {
          "output_type": "execute_result",
          "data": {
            "text/plain": [
              "{1, 2, 3, 4, 5}"
            ]
          },
          "metadata": {},
          "execution_count": 31
        }
      ],
      "source": [
        "c = a.copy()\n",
        "c\n"
      ]
    },
    {
      "cell_type": "code",
      "source": [
        "c |= b\n",
        "c"
      ],
      "metadata": {
        "colab": {
          "base_uri": "https://localhost:8080/"
        },
        "id": "ShEpKxC8NdjM",
        "outputId": "ed397f5e-f253-4449-f30c-9f5a4c743ffa"
      },
      "execution_count": 32,
      "outputs": [
        {
          "output_type": "execute_result",
          "data": {
            "text/plain": [
              "{1, 2, 3, 4, 5, 6, 7, 8}"
            ]
          },
          "metadata": {},
          "execution_count": 32
        }
      ]
    },
    {
      "cell_type": "code",
      "source": [
        "\n",
        "d = a.copy()\n",
        "d"
      ],
      "metadata": {
        "colab": {
          "base_uri": "https://localhost:8080/"
        },
        "id": "T5NVdVZpNi5G",
        "outputId": "8b78505d-3a00-432b-fdfd-6b5401301c45"
      },
      "execution_count": 34,
      "outputs": [
        {
          "output_type": "execute_result",
          "data": {
            "text/plain": [
              "{1, 2, 3, 4, 5}"
            ]
          },
          "metadata": {},
          "execution_count": 34
        }
      ]
    },
    {
      "cell_type": "code",
      "source": [
        "d &= b\n",
        "d"
      ],
      "metadata": {
        "colab": {
          "base_uri": "https://localhost:8080/"
        },
        "id": "fYOtzw56Nonq",
        "outputId": "87a5077f-4f29-48d4-b43e-def96ab0f9bb"
      },
      "execution_count": 35,
      "outputs": [
        {
          "output_type": "execute_result",
          "data": {
            "text/plain": [
              "{3, 4, 5}"
            ]
          },
          "metadata": {},
          "execution_count": 35
        }
      ]
    },
    {
      "cell_type": "markdown",
      "source": [
        "Para los `SET` Al igual que las claves del diccionario, los elementos establecidos generalmente deben ser inmutables y deben ser hash (lo que significa que llamar hasha un valor no genera una excepción). Para almacenar elementos tipo lista (u otras secuencias mutables) en un conjunto, puedes convertirlos en tuplas"
      ],
      "metadata": {
        "id": "ScsO3N8-Nzim"
      }
    },
    {
      "cell_type": "code",
      "execution_count": 36,
      "metadata": {
        "id": "JkrucaSRsP18",
        "colab": {
          "base_uri": "https://localhost:8080/"
        },
        "outputId": "7874c10a-8abb-4e12-85e9-ec44c38aaed7"
      },
      "outputs": [
        {
          "output_type": "execute_result",
          "data": {
            "text/plain": [
              "{(1, 2, 3, 4)}"
            ]
          },
          "metadata": {},
          "execution_count": 36
        }
      ],
      "source": [
        "my_data = [1, 2, 3, 4]\n",
        "my_set = {tuple(my_data)}\n",
        "my_set"
      ]
    },
    {
      "cell_type": "code",
      "execution_count": 38,
      "metadata": {
        "id": "kRAfd4qIsP18",
        "colab": {
          "base_uri": "https://localhost:8080/"
        },
        "outputId": "36586911-1efa-4011-c6ee-d97b26c8212a"
      },
      "outputs": [
        {
          "output_type": "execute_result",
          "data": {
            "text/plain": [
              "True"
            ]
          },
          "metadata": {},
          "execution_count": 38
        }
      ],
      "source": [
        "# comprobar si un Set es subconjunto\n",
        "a_set = {1, 2, 3, 4, 5}\n",
        "{1, 2, 3}.issubset(a_set)\n"
      ]
    },
    {
      "cell_type": "code",
      "source": [
        "# Comprueba si es supraconjunto\n",
        "a_set.issuperset({1, 2, 3})"
      ],
      "metadata": {
        "colab": {
          "base_uri": "https://localhost:8080/"
        },
        "id": "zfVSwbMOODPb",
        "outputId": "65154cfc-dca1-4f16-d80b-d76aa4c50b06"
      },
      "execution_count": 40,
      "outputs": [
        {
          "output_type": "execute_result",
          "data": {
            "text/plain": [
              "True"
            ]
          },
          "metadata": {},
          "execution_count": 40
        }
      ]
    },
    {
      "cell_type": "code",
      "execution_count": 41,
      "metadata": {
        "id": "mJV22g9IsP18",
        "colab": {
          "base_uri": "https://localhost:8080/"
        },
        "outputId": "697ec1d4-2e6f-42e0-ed11-85d6262240be"
      },
      "outputs": [
        {
          "output_type": "execute_result",
          "data": {
            "text/plain": [
              "True"
            ]
          },
          "metadata": {},
          "execution_count": 41
        }
      ],
      "source": [
        "# igualdad de conjunto solo si los elementos entre ellos son los mismos\n",
        "{1, 2, 3} == {3, 2, 1}"
      ]
    },
    {
      "cell_type": "markdown",
      "source": [
        "**Funciones de secuencia integradas**\n",
        "\n",
        "Python tiene un puñado de funciones de secuencia útiles con las que debes familiarizarte y utilizar en cualquier oportunidad.\n",
        "\n",
        "enumerar\n",
        "Es común al iterar sobre una secuencia querer realizar un seguimiento del índice del elemento actual. Un enfoque de \"hágalo usted mismo\" sería el siguiente:\n",
        "\n",
        "```\n",
        "index = 0\n",
        "for value in collection:\n",
        "   # do something with value\n",
        "   index += 1\n",
        "```\n",
        "Dado que esto es tan común, Python tiene una función incorporada, enumerateque devuelve una secuencia de (i, value)tuplas:\n",
        "\n",
        "```\n",
        "for index, value in enumerate(collection):\n",
        "   # do something with value\n",
        "```"
      ],
      "metadata": {
        "id": "64S6QlDzQbuQ"
      }
    },
    {
      "cell_type": "code",
      "execution_count": 42,
      "metadata": {
        "id": "5YOlN24jsP18",
        "colab": {
          "base_uri": "https://localhost:8080/"
        },
        "outputId": "65d4a22c-8f0a-4c93-f199-300788589b2c"
      },
      "outputs": [
        {
          "output_type": "execute_result",
          "data": {
            "text/plain": [
              "[0, 1, 2, 2, 3, 6, 7]"
            ]
          },
          "metadata": {},
          "execution_count": 42
        }
      ],
      "source": [
        "# ordenar\n",
        "sorted([7, 1, 2, 6, 0, 3, 2])\n"
      ]
    },
    {
      "cell_type": "code",
      "source": [
        "# ordenar String\n",
        "sorted(\"horse race\")"
      ],
      "metadata": {
        "colab": {
          "base_uri": "https://localhost:8080/"
        },
        "id": "PtcKDPIKQ1Ts",
        "outputId": "c8eafc55-a377-4583-c21d-1c7f39160144"
      },
      "execution_count": 43,
      "outputs": [
        {
          "output_type": "execute_result",
          "data": {
            "text/plain": [
              "[' ', 'a', 'c', 'e', 'e', 'h', 'o', 'r', 'r', 's']"
            ]
          },
          "metadata": {},
          "execution_count": 43
        }
      ]
    },
    {
      "cell_type": "code",
      "execution_count": 44,
      "metadata": {
        "id": "AvvX2xulsP18",
        "colab": {
          "base_uri": "https://localhost:8080/"
        },
        "outputId": "10c4b5fd-aed3-45b5-bb50-0f020b9ea178"
      },
      "outputs": [
        {
          "output_type": "execute_result",
          "data": {
            "text/plain": [
              "[('foo', 'one'), ('bar', 'two'), ('baz', 'three')]"
            ]
          },
          "metadata": {},
          "execution_count": 44
        }
      ],
      "source": [
        "# ZIP lo que hace es emparjerar un serie de Listas Tuplas u otras secuencias\n",
        "seq1 = [\"foo\", \"bar\", \"baz\"]\n",
        "seq2 = [\"one\", \"two\", \"three\"]\n",
        "zipped = zip(seq1, seq2)\n",
        "list(zipped)"
      ]
    },
    {
      "cell_type": "code",
      "execution_count": 47,
      "metadata": {
        "id": "QJff3drBsP19",
        "colab": {
          "base_uri": "https://localhost:8080/"
        },
        "outputId": "ba70ee00-4ff7-4815-ad77-67882f072286"
      },
      "outputs": [
        {
          "output_type": "execute_result",
          "data": {
            "text/plain": [
              "[('foo', 'one', False), ('bar', 'two', True)]"
            ]
          },
          "metadata": {},
          "execution_count": 47
        }
      ],
      "source": [
        "# Simil se añade un 3era secuencia\n",
        "seq3 = [False, True]\n",
        "list(zip(seq1, seq2, seq3))\n",
        "# ¿Que ocurre con las 3era Secuencia?"
      ]
    },
    {
      "cell_type": "code",
      "execution_count": 53,
      "metadata": {
        "id": "2WSnDmdgsP19",
        "colab": {
          "base_uri": "https://localhost:8080/"
        },
        "outputId": "5bd4bee6-237e-49d4-ed03-6bd01032711d"
      },
      "outputs": [
        {
          "output_type": "stream",
          "name": "stdout",
          "text": [
            "0: foo, one\n",
            "1: bar, two\n",
            "2: baz, three\n"
          ]
        }
      ],
      "source": [
        "# Un uso común de zipes iterar simultáneamente sobre múltiples\n",
        "# secuencias, posiblemente también combinado con enumerate:\n",
        "for index, (a, b) in enumerate(zip(seq1, seq2)):\n",
        "    print(f\"{index}: {a}, {b}\")\n"
      ]
    },
    {
      "cell_type": "code",
      "execution_count": 54,
      "metadata": {
        "id": "6UcWB3crsP19",
        "colab": {
          "base_uri": "https://localhost:8080/"
        },
        "outputId": "4822f37c-f0b4-46d6-d008-5e90dd4c9391"
      },
      "outputs": [
        {
          "output_type": "execute_result",
          "data": {
            "text/plain": [
              "[9, 8, 7, 6, 5, 4, 3, 2, 1, 0]"
            ]
          },
          "metadata": {},
          "execution_count": 54
        }
      ],
      "source": [
        "# genera un rango de 0 al 9 lo invierte con reversed y lo incrusta en un lista\n",
        "list(reversed(range(10)))"
      ]
    },
    {
      "cell_type": "markdown",
      "source": [
        "*Veamos algunoas otras referncias de codigo:*"
      ],
      "metadata": {
        "id": "Hh0hv6KgStE-"
      }
    },
    {
      "cell_type": "markdown",
      "source": [
        "**Comprensiones de listas, conjuntos y diccionarios**\n",
        "\n",
        "Las listas por comprensión son una característica conveniente y ampliamente utilizada del lenguaje Python. Le permiten formar de manera concisa una nueva lista filtrando los elementos de una colección, transformando los elementos que pasan el filtro en una expresión concisa. Toman la forma básica:\n",
        "```\n",
        "[expr for value in collection if condition]\n",
        "````\n",
        "Esto es equivalente al siguiente forbucle:\n",
        "```\n",
        "result = []\n",
        "for value in collection:\n",
        "    if condition:\n",
        "        result.append(expr)\n",
        "````\n",
        "La condición del filtro se puede omitir y dejar solo la expresión. Por ejemplo, dada una lista de cadenas, podríamos filtrar cadenas con una longitud 2o menor y convertirlas a mayúsculas de esta manera:"
      ],
      "metadata": {
        "id": "uHuIR97wTvKq"
      }
    },
    {
      "cell_type": "code",
      "execution_count": 57,
      "metadata": {
        "id": "iQl7SOIysP19",
        "colab": {
          "base_uri": "https://localhost:8080/"
        },
        "outputId": "6b96a2d4-fe6a-45f2-f036-a93ae83d190c"
      },
      "outputs": [
        {
          "output_type": "execute_result",
          "data": {
            "text/plain": [
              "['BAT', 'CAR', 'DOVE', 'PYTHON']"
            ]
          },
          "metadata": {},
          "execution_count": 57
        }
      ],
      "source": [
        "# sea un Lista de palabras string\n",
        "strings = [\"a\", \"as\", \"bat\", \"car\", \"dove\", \"python\"]\n",
        "# x.upper() convierte cada x en mayusculas en las string if el largo len(x) es mayo   que 2\n",
        "[x.upper() for x in strings if len(x) > 2]"
      ]
    },
    {
      "cell_type": "code",
      "execution_count": 56,
      "metadata": {
        "id": "fK7-td0bsP19",
        "colab": {
          "base_uri": "https://localhost:8080/"
        },
        "outputId": "699812a3-75ed-4558-bc6f-acd2d691864b"
      },
      "outputs": [
        {
          "output_type": "execute_result",
          "data": {
            "text/plain": [
              "{1, 2, 3, 4, 6}"
            ]
          },
          "metadata": {},
          "execution_count": 56
        }
      ],
      "source": [
        "# cuenta los largos de los strign para cada x, y los inseerta en un Set\n",
        "unique_lengths = {len(x) for x in strings}\n",
        "unique_lengths"
      ]
    },
    {
      "cell_type": "code",
      "execution_count": 59,
      "metadata": {
        "id": "zlIBARjZsP19",
        "colab": {
          "base_uri": "https://localhost:8080/"
        },
        "outputId": "3123686a-1c52-4064-bf3d-fa9be8b3bc15"
      },
      "outputs": [
        {
          "output_type": "execute_result",
          "data": {
            "text/plain": [
              "{1, 2, 3, 4, 6}"
            ]
          },
          "metadata": {},
          "execution_count": 59
        }
      ],
      "source": [
        "# otra forma mas acotada cde contar para cada palabra las letras., es con la funcion map en un set definido\n",
        "set(map(len, strings))"
      ]
    },
    {
      "cell_type": "code",
      "execution_count": 61,
      "metadata": {
        "id": "CQoPzLAqsP1-",
        "colab": {
          "base_uri": "https://localhost:8080/"
        },
        "outputId": "7361cea6-f284-492b-8f66-07bf2351dd90"
      },
      "outputs": [
        {
          "output_type": "execute_result",
          "data": {
            "text/plain": [
              "{'a': 0, 'as': 1, 'bat': 2, 'car': 3, 'dove': 4, 'python': 5}"
            ]
          },
          "metadata": {},
          "execution_count": 61
        }
      ],
      "source": [
        "# creacion de un Mapa de Busqueda\n",
        "loc_mapping = {value: index for index, value in enumerate(strings)}\n",
        "loc_mapping"
      ]
    },
    {
      "cell_type": "code",
      "execution_count": 63,
      "metadata": {
        "id": "vEUZXAFfsP1-"
      },
      "outputs": [],
      "source": [
        "# 2 Listas Anidadas\n",
        "all_data = [[\"John\", \"Emily\", \"Michael\", \"Mary\", \"Steven\"],\n",
        "            [\"Maria\", \"Juan\", \"Javier\", \"Natalia\", \"Pilar\"]]"
      ]
    },
    {
      "cell_type": "code",
      "execution_count": 65,
      "metadata": {
        "id": "2Bx3s9CYsP1-",
        "colab": {
          "base_uri": "https://localhost:8080/"
        },
        "outputId": "74eedd34-a9c5-4c6f-c0fb-bca88d9e7eac"
      },
      "outputs": [
        {
          "output_type": "execute_result",
          "data": {
            "text/plain": [
              "['Maria', 'Natalia']"
            ]
          },
          "metadata": {},
          "execution_count": 65
        }
      ],
      "source": [
        "# Funcion nombre de interese elige los nombre que contengan mas de 2 letras \"a\"\n",
        "# Bajo un ciclo for\n",
        "names_of_interest = []\n",
        "for names in all_data:\n",
        "    enough_as = [name for name in names if name.count(\"a\") >= 2]\n",
        "    names_of_interest.extend(enough_as)\n",
        "names_of_interest"
      ]
    },
    {
      "cell_type": "code",
      "execution_count": null,
      "metadata": {
        "id": "sLqZPARBsP1-"
      },
      "outputs": [],
      "source": [
        "# idem al anteriro pero con List Comprehension\n",
        "result = [name for names in all_data for name in names\n",
        "          if name.count(\"a\") >= 2]\n",
        "result"
      ]
    },
    {
      "cell_type": "code",
      "execution_count": 67,
      "metadata": {
        "id": "y9qjNnFpsP1-",
        "colab": {
          "base_uri": "https://localhost:8080/"
        },
        "outputId": "c641ad29-9982-4069-ab31-6f9ef6588368"
      },
      "outputs": [
        {
          "output_type": "execute_result",
          "data": {
            "text/plain": [
              "[1, 2, 3, 4, 5, 6, 7, 8, 9]"
            ]
          },
          "metadata": {},
          "execution_count": 67
        }
      ],
      "source": [
        "# via Comprehensio una extraccion de Tuplas a Lista\n",
        "some_tuples = [(1, 2, 3), (4, 5, 6), (7, 8, 9)]\n",
        "flattened = [x for tup in some_tuples for x in tup]\n",
        "flattened"
      ]
    },
    {
      "cell_type": "code",
      "execution_count": 70,
      "metadata": {
        "id": "3hwY9eV9sP1_",
        "colab": {
          "base_uri": "https://localhost:8080/"
        },
        "outputId": "bcbfc76e-5304-410c-ee22-7fc3f3065c5c"
      },
      "outputs": [
        {
          "output_type": "execute_result",
          "data": {
            "text/plain": [
              "[1, 2, 3, 4, 5, 6, 7, 8, 9]"
            ]
          },
          "metadata": {},
          "execution_count": 70
        }
      ],
      "source": [
        "some_tuples = [(1, 2, 3), (4, 5, 6), (7, 8, 9)]\n",
        "flattened = []\n",
        "\n",
        "for tup in some_tuples:\n",
        "    for x in tup:\n",
        "        flattened.append(x)\n",
        "flattened"
      ]
    },
    {
      "cell_type": "code",
      "execution_count": 72,
      "metadata": {
        "id": "65v12PYfsP1_",
        "colab": {
          "base_uri": "https://localhost:8080/"
        },
        "outputId": "7a5c2f50-ee72-4d15-f6cc-70642972508a"
      },
      "outputs": [
        {
          "output_type": "execute_result",
          "data": {
            "text/plain": [
              "[[1, 2, 3], [4, 5, 6], [7, 8, 9]]"
            ]
          },
          "metadata": {},
          "execution_count": 72
        }
      ],
      "source": [
        "# pasamos de tuplas a listas.\n",
        "[[x for x in tup] for tup in some_tuples]"
      ]
    },
    {
      "cell_type": "markdown",
      "source": [
        "**3.2 Funciones**\n",
        "\n",
        "Las funciones son el método principal y más importante de organización y reutilización del código en Python. Como regla general, si prevé que necesitará repetir el mismo código o un código muy similar más de una vez, puede valer la pena escribir una función reutilizable. Las funciones también pueden ayudar a que su código sea más legible al darle un nombre a un grupo de declaraciones de Python.\n",
        "\n",
        "Las funciones se declaran con la defpalabra clave. Una función contiene un bloque de código con un uso opcional de la returnpalabra clave:"
      ],
      "metadata": {
        "id": "ftyqiI9oYyNN"
      }
    },
    {
      "cell_type": "code",
      "execution_count": 79,
      "metadata": {
        "id": "iVhNOWx0sP1_"
      },
      "outputs": [],
      "source": [
        "def my_function(x, y):\n",
        "    return x + y"
      ]
    },
    {
      "cell_type": "code",
      "execution_count": 80,
      "metadata": {
        "id": "8ZDiaOzosP1_",
        "colab": {
          "base_uri": "https://localhost:8080/"
        },
        "outputId": "433fb7b2-76f5-46c6-e0d2-6fb7086d4239"
      },
      "outputs": [
        {
          "output_type": "execute_result",
          "data": {
            "text/plain": [
              "3"
            ]
          },
          "metadata": {},
          "execution_count": 80
        }
      ],
      "source": [
        "my_function(1, 2)\n"
      ]
    },
    {
      "cell_type": "code",
      "source": [
        "result = my_function(1, 2)\n",
        "result"
      ],
      "metadata": {
        "colab": {
          "base_uri": "https://localhost:8080/"
        },
        "id": "3LfRhMXUXoW3",
        "outputId": "ca3ec839-d51b-43d1-cc22-330db03f0670"
      },
      "execution_count": 81,
      "outputs": [
        {
          "output_type": "execute_result",
          "data": {
            "text/plain": [
              "3"
            ]
          },
          "metadata": {},
          "execution_count": 81
        }
      ]
    },
    {
      "cell_type": "markdown",
      "source": [
        "No hay problema con tener varias returndeclaraciones. Si Python llega al final de una función sin encontrar una returndeclaración, Nonese devuelve automáticamente. Por ejemplo:"
      ],
      "metadata": {
        "id": "jkmA_CtSY_M9"
      }
    },
    {
      "cell_type": "code",
      "execution_count": 78,
      "metadata": {
        "id": "kN94AUyPsP1_",
        "colab": {
          "base_uri": "https://localhost:8080/"
        },
        "outputId": "5db2b436-12bc-4016-cfd9-9e848d91442a"
      },
      "outputs": [
        {
          "output_type": "stream",
          "name": "stdout",
          "text": [
            "hello!\n",
            "None\n"
          ]
        }
      ],
      "source": [
        "def function_without_return(x):\n",
        "    print(x)\n",
        "\n",
        "result = function_without_return(\"hello!\")\n",
        "print(result)"
      ]
    },
    {
      "cell_type": "markdown",
      "source": [
        "Cada función puede tener argumentos posicionales y argumentos de palabras clave . Los argumentos de palabras clave se utilizan con mayor frecuencia para especificar valores predeterminados o argumentos opcionales. Aquí definiremos una función con un zargumento opcional con el valor predeterminado 1.5:"
      ],
      "metadata": {
        "id": "pNplx3ZzZFwJ"
      }
    },
    {
      "cell_type": "code",
      "execution_count": 82,
      "metadata": {
        "id": "3dH4q0k5sP1_"
      },
      "outputs": [],
      "source": [
        "def my_function2(x, y, z=1.5):\n",
        "    if z > 1:\n",
        "        return z * (x + y)\n",
        "    else:\n",
        "        return z / (x + y)"
      ]
    },
    {
      "cell_type": "code",
      "execution_count": 83,
      "metadata": {
        "id": "VJucCHtNsP2A",
        "colab": {
          "base_uri": "https://localhost:8080/"
        },
        "outputId": "23e33659-39fc-49ba-d6d5-cb9154aa43d5"
      },
      "outputs": [
        {
          "output_type": "execute_result",
          "data": {
            "text/plain": [
              "0.06363636363636363"
            ]
          },
          "metadata": {},
          "execution_count": 83
        }
      ],
      "source": [
        "my_function2(5, 6, z=0.7)\n"
      ]
    },
    {
      "cell_type": "code",
      "source": [
        "my_function2(3.14, 7, 3.5)"
      ],
      "metadata": {
        "colab": {
          "base_uri": "https://localhost:8080/"
        },
        "id": "dq4ksvNqZdcz",
        "outputId": "aaf9735a-4a17-4c0e-83a3-b95db1ce1fd5"
      },
      "execution_count": 84,
      "outputs": [
        {
          "output_type": "execute_result",
          "data": {
            "text/plain": [
              "35.49"
            ]
          },
          "metadata": {},
          "execution_count": 84
        }
      ]
    },
    {
      "cell_type": "code",
      "source": [
        "\n",
        "my_function2(10, 20)"
      ],
      "metadata": {
        "colab": {
          "base_uri": "https://localhost:8080/"
        },
        "id": "C42HmvLeZfkB",
        "outputId": "b4211d96-1c74-4c75-cfd4-1ac5f48c191e"
      },
      "execution_count": 85,
      "outputs": [
        {
          "output_type": "execute_result",
          "data": {
            "text/plain": [
              "45.0"
            ]
          },
          "metadata": {},
          "execution_count": 85
        }
      ]
    },
    {
      "cell_type": "markdown",
      "source": [
        "Espacios de nombres, alcance y funciones locales\n",
        "Las funciones pueden acceder a variables creadas dentro de la función, así como a aquellas fuera de la función en ámbitos superiores (o incluso globales ). Un nombre alternativo y más descriptivo que describe el alcance de una variable en Python es un espacio de nombres . Cualquier variable que se asigne dentro de una función de forma predeterminada se asigna al espacio de nombres local. El espacio de nombres local se crea cuando se llama a la función y se completa inmediatamente con los argumentos de la función. Una vez finalizada la función, el espacio de nombres local se destruye (con algunas excepciones que están fuera del alcance de este capítulo). Considere la siguiente función:\n",
        "```\n",
        "def func():\n",
        "    a = []\n",
        "    for i in range(5):\n",
        "        a.append(i)\n",
        "```\n",
        "Cuando func()se llama, `a` se crea la lista vacía, se agregan cinco elementos y luego ase destruye cuando la función sale. Supongamos en cambio que hubiéramos declarado alo siguiente:"
      ],
      "metadata": {
        "id": "SA13rZCIb6QL"
      }
    },
    {
      "cell_type": "code",
      "execution_count": 101,
      "metadata": {
        "id": "xFlpowMWsP2A"
      },
      "outputs": [],
      "source": [
        "a = []\n",
        "def func():\n",
        "   # a = []\n",
        "    for i in range(5):\n",
        "        a.append(i)"
      ]
    },
    {
      "cell_type": "code",
      "execution_count": 102,
      "metadata": {
        "id": "4aA2-KOAsP2A",
        "colab": {
          "base_uri": "https://localhost:8080/"
        },
        "outputId": "d897ba2e-8db7-4261-f528-9355b658f853"
      },
      "outputs": [
        {
          "output_type": "execute_result",
          "data": {
            "text/plain": [
              "[0, 1, 2, 3, 4]"
            ]
          },
          "metadata": {},
          "execution_count": 102
        }
      ],
      "source": [
        "#primera llamada\n",
        "func()\n",
        "a"
      ]
    },
    {
      "cell_type": "code",
      "source": [
        "#segunda llamada\n",
        "func()\n",
        "a"
      ],
      "metadata": {
        "id": "hCG2mD2NcUFC",
        "outputId": "abf69f8d-b5dc-4114-c43d-b226899e05a5",
        "colab": {
          "base_uri": "https://localhost:8080/"
        }
      },
      "execution_count": 103,
      "outputs": [
        {
          "output_type": "execute_result",
          "data": {
            "text/plain": [
              "[0, 1, 2, 3, 4, 0, 1, 2, 3, 4]"
            ]
          },
          "metadata": {},
          "execution_count": 103
        }
      ]
    },
    {
      "cell_type": "markdown",
      "source": [
        "Es posible asignar variables fuera del alcance de la función, pero esas variables deben declararse explícitamente usando las palabras clave globalo nonlocal:"
      ],
      "metadata": {
        "id": "MVeUq2g7cgJQ"
      }
    },
    {
      "cell_type": "code",
      "execution_count": 104,
      "metadata": {
        "id": "V25o0DQasP2A",
        "colab": {
          "base_uri": "https://localhost:8080/"
        },
        "outputId": "27df2d4d-cffe-4d23-c605-db7577302da7"
      },
      "outputs": [
        {
          "output_type": "stream",
          "name": "stdout",
          "text": [
            "[]\n"
          ]
        }
      ],
      "source": [
        "a = None\n",
        "def bind_a_variable():\n",
        "    global a\n",
        "    a = []\n",
        "bind_a_variable()\n",
        "print(a)"
      ]
    },
    {
      "cell_type": "markdown",
      "source": [
        "**Devolver múltiples valores**\n",
        "\n",
        "Cuando programé por primera vez en Python después de haber programado en Java y C++, una de mis características favoritas era la capacidad de devolver múltiples valores de una función con una sintaxis simple. He aquí un ejemplo:"
      ],
      "metadata": {
        "id": "DB_v0uCxc3cl"
      }
    },
    {
      "cell_type": "markdown",
      "source": [
        "**Las funciones son objetos**\n",
        "\n",
        "Dado que las funciones de Python son objetos, se pueden expresar fácilmente muchas construcciones que son difíciles de realizar en otros lenguajes. Supongamos que estábamos haciendo una limpieza de datos y necesitábamos aplicar un montón de transformaciones a la siguiente lista de cadenas:"
      ],
      "metadata": {
        "id": "_RLTIL7CdgQl"
      }
    },
    {
      "cell_type": "code",
      "execution_count": 108,
      "metadata": {
        "id": "HeRCOXi_sP2A",
        "colab": {
          "base_uri": "https://localhost:8080/"
        },
        "outputId": "5250f436-9178-41c3-cb75-471b6d8692c2"
      },
      "outputs": [
        {
          "output_type": "execute_result",
          "data": {
            "text/plain": [
              "['   Alabama ',\n",
              " 'Georgia!',\n",
              " 'Georgia',\n",
              " 'georgia',\n",
              " 'FlOrIda',\n",
              " 'south   carolina##',\n",
              " 'West virginia?']"
            ]
          },
          "metadata": {},
          "execution_count": 108
        }
      ],
      "source": [
        "states = [\"   Alabama \", \"Georgia!\", \"Georgia\", \"georgia\", \"FlOrIda\",\n",
        "          \"south   carolina##\", \"West virginia?\"]\n",
        "states"
      ]
    },
    {
      "cell_type": "code",
      "execution_count": 110,
      "metadata": {
        "id": "KzO2k9zpsP2A"
      },
      "outputs": [],
      "source": [
        "# esta funcion es poderosa limpa los datos cadenas y caracteres\n",
        "import re\n",
        "\n",
        "def clean_strings(strings):\n",
        "    result = []\n",
        "    for value in strings:\n",
        "        value = value.strip()\n",
        "        value = re.sub(\"[!#?]\", \"\", value)\n",
        "        value = value.title()\n",
        "        result.append(value)\n",
        "    return result"
      ]
    },
    {
      "cell_type": "code",
      "execution_count": 112,
      "metadata": {
        "id": "amQpLE9IsP2B",
        "colab": {
          "base_uri": "https://localhost:8080/"
        },
        "outputId": "0443858e-d926-4c03-f209-2fbb7984e968"
      },
      "outputs": [
        {
          "output_type": "execute_result",
          "data": {
            "text/plain": [
              "['Alabama',\n",
              " 'Georgia',\n",
              " 'Georgia',\n",
              " 'Georgia',\n",
              " 'Florida',\n",
              " 'South   Carolina',\n",
              " 'West Virginia']"
            ]
          },
          "metadata": {},
          "execution_count": 112
        }
      ],
      "source": [
        "#Resultados de la funcion aplicada ### es Hermoso####\n",
        "clean_strings(states)"
      ]
    },
    {
      "cell_type": "code",
      "execution_count": 113,
      "metadata": {
        "id": "Ikx_lwSYsP2B"
      },
      "outputs": [],
      "source": [
        "# ENFOQUE N° crea lista de operaciones y luego aplicar\n",
        "def remove_punctuation(value):\n",
        "    return re.sub(\"[!#?]\", \"\", value)\n",
        "\n",
        "clean_ops = [str.strip, remove_punctuation, str.title]\n",
        "\n",
        "def clean_strings(strings, ops):\n",
        "    result = []\n",
        "    for value in strings:\n",
        "        for func in ops:\n",
        "            value = func(value)\n",
        "        result.append(value)\n",
        "    return result"
      ]
    },
    {
      "cell_type": "markdown",
      "source": [
        "**Explicación:**\n",
        "\n",
        "remove_punctuation(value)::\n",
        "\n",
        "Esta función usa el método re.sub() para eliminar los signos de puntuación !, # y ? de la cadena de entrada value.\n",
        "La expresión regular \"[!#?]\" coincide con cualquiera de estos signos de puntuación.\n",
        "La cadena vacía \"\" reemplaza cada signo de puntuación coincidente.\n",
        "clean_ops:\n",
        "\n",
        "Esta lista contiene las funciones que se aplicarán a cada cadena en la función clean_strings().\n",
        "str.strip: Elimina los espacios en blanco iniciales y finales de una cadena.\n",
        "remove_punctuation: Elimina los signos de puntuación de una cadena.\n",
        "str.title: Convierte la primera letra de cada palabra en una cadena a mayúscula y el resto a minúscula.\n",
        "clean_strings(strings, ops):\n",
        "\n",
        "Esta función toma una lista de cadenas y una lista de operaciones que se aplicarán a cada cadena.\n",
        "Itera a través de cada cadena en la lista strings.\n",
        "Para cada cadena, aplica cada función en la lista ops en secuencia.\n",
        "La cadena limpia se agrega luego a la lista result.\n",
        "Finalmente, se devuelve la lista result que contiene las cadenas limpias."
      ],
      "metadata": {
        "id": "nxPkY_O2fBG4"
      }
    },
    {
      "cell_type": "code",
      "execution_count": 114,
      "metadata": {
        "id": "tFkxoOFksP2B",
        "colab": {
          "base_uri": "https://localhost:8080/"
        },
        "outputId": "2e3e490f-4d9e-40c3-e085-8a30a32f19ac"
      },
      "outputs": [
        {
          "output_type": "execute_result",
          "data": {
            "text/plain": [
              "['Alabama',\n",
              " 'Georgia',\n",
              " 'Georgia',\n",
              " 'Georgia',\n",
              " 'Florida',\n",
              " 'South   Carolina',\n",
              " 'West Virginia']"
            ]
          },
          "metadata": {},
          "execution_count": 114
        }
      ],
      "source": [
        "clean_strings(states, clean_ops)"
      ]
    },
    {
      "cell_type": "code",
      "execution_count": 115,
      "metadata": {
        "id": "-MByebPssP2B",
        "colab": {
          "base_uri": "https://localhost:8080/"
        },
        "outputId": "f010f373-92b0-43de-c820-06725f476b07"
      },
      "outputs": [
        {
          "output_type": "stream",
          "name": "stdout",
          "text": [
            "   Alabama \n",
            "Georgia\n",
            "Georgia\n",
            "georgia\n",
            "FlOrIda\n",
            "south   carolina\n",
            "West virginia\n"
          ]
        }
      ],
      "source": [
        "for x in map(remove_punctuation, states):\n",
        "    print(x)"
      ]
    },
    {
      "cell_type": "markdown",
      "source": [
        "**Funciones anónimas (Lambda)**\n",
        "\n",
        "Python admite las llamadas funciones anónimas o lambda , que son una forma de escribir funciones que constan de una sola declaración, cuyo resultado es el valor de retorno. Se definen con la lambdapalabra clave, que no tiene otro significado que “estamos declarando una función anónima”:"
      ],
      "metadata": {
        "id": "_mHarKZbeX9_"
      }
    },
    {
      "cell_type": "code",
      "execution_count": 117,
      "metadata": {
        "id": "lbDGgZN0sP2C"
      },
      "outputs": [],
      "source": [
        "def short_function(x):\n",
        "    return x * 2\n",
        "\n",
        "equiv_anon = lambda x: x * 2"
      ]
    },
    {
      "cell_type": "code",
      "execution_count": 118,
      "metadata": {
        "id": "vZxkUFLosP2C",
        "colab": {
          "base_uri": "https://localhost:8080/"
        },
        "outputId": "a1c4daf0-8a59-4819-ee43-19806d7ec274"
      },
      "outputs": [
        {
          "output_type": "execute_result",
          "data": {
            "text/plain": [
              "[8, 0, 2, 10, 12]"
            ]
          },
          "metadata": {},
          "execution_count": 118
        }
      ],
      "source": [
        "def apply_to_list(some_list, f):\n",
        "    return [f(x) for x in some_list]\n",
        "\n",
        "ints = [4, 0, 1, 5, 6]\n",
        "apply_to_list(ints, lambda x: x * 2)"
      ]
    },
    {
      "cell_type": "code",
      "execution_count": null,
      "metadata": {
        "id": "x34wy0rSsP2C"
      },
      "outputs": [],
      "source": [
        "strings = [\"foo\", \"card\", \"bar\", \"aaaa\", \"abab\"]"
      ]
    },
    {
      "cell_type": "code",
      "execution_count": null,
      "metadata": {
        "id": "V_JcmXFLsP2C"
      },
      "outputs": [],
      "source": [
        "strings.sort(key=lambda x: len(set(x)))\n",
        "strings"
      ]
    },
    {
      "cell_type": "code",
      "execution_count": null,
      "metadata": {
        "id": "dd6BjwJusP2D"
      },
      "outputs": [],
      "source": [
        "some_dict = {\"a\": 1, \"b\": 2, \"c\": 3}\n",
        "for key in some_dict:\n",
        "    print(key)"
      ]
    },
    {
      "cell_type": "code",
      "execution_count": null,
      "metadata": {
        "id": "a8XJm9JbsP2D"
      },
      "outputs": [],
      "source": [
        "dict_iterator = iter(some_dict)\n",
        "dict_iterator"
      ]
    },
    {
      "cell_type": "code",
      "execution_count": null,
      "metadata": {
        "id": "Q327jfjusP2D"
      },
      "outputs": [],
      "source": [
        "list(dict_iterator)"
      ]
    },
    {
      "cell_type": "code",
      "execution_count": null,
      "metadata": {
        "id": "ALZDedEYsP2E"
      },
      "outputs": [],
      "source": [
        "def squares(n=10):\n",
        "    print(f\"Generating squares from 1 to {n ** 2}\")\n",
        "    for i in range(1, n + 1):\n",
        "        yield i ** 2"
      ]
    },
    {
      "cell_type": "code",
      "execution_count": null,
      "metadata": {
        "id": "6X2osnvisP2E"
      },
      "outputs": [],
      "source": [
        "gen = squares()\n",
        "gen"
      ]
    },
    {
      "cell_type": "code",
      "execution_count": null,
      "metadata": {
        "id": "OLokMK1RsP2E"
      },
      "outputs": [],
      "source": [
        "for x in gen:\n",
        "    print(x, end=\" \")"
      ]
    },
    {
      "cell_type": "code",
      "execution_count": null,
      "metadata": {
        "id": "z1kgZB8RsP2E"
      },
      "outputs": [],
      "source": [
        "gen = (x ** 2 for x in range(100))\n",
        "gen"
      ]
    },
    {
      "cell_type": "code",
      "execution_count": null,
      "metadata": {
        "id": "fLJrXSzTsP2F"
      },
      "outputs": [],
      "source": [
        "sum(x ** 2 for x in range(100))\n",
        "dict((i, i ** 2) for i in range(5))"
      ]
    },
    {
      "cell_type": "code",
      "execution_count": null,
      "metadata": {
        "id": "uAU64GGssP2F"
      },
      "outputs": [],
      "source": [
        "import itertools\n",
        "def first_letter(x):\n",
        "    return x[0]\n",
        "\n",
        "names = [\"Alan\", \"Adam\", \"Wes\", \"Will\", \"Albert\", \"Steven\"]\n",
        "\n",
        "for letter, names in itertools.groupby(names, first_letter):\n",
        "    print(letter, list(names)) # names is a generator"
      ]
    },
    {
      "cell_type": "code",
      "execution_count": null,
      "metadata": {
        "id": "cfC5RvKGsP2F"
      },
      "outputs": [],
      "source": [
        "float(\"1.2345\")\n",
        "float(\"something\")"
      ]
    },
    {
      "cell_type": "code",
      "execution_count": null,
      "metadata": {
        "id": "2vm9VZ6SsP2F"
      },
      "outputs": [],
      "source": [
        "def attempt_float(x):\n",
        "    try:\n",
        "        return float(x)\n",
        "    except:\n",
        "        return x"
      ]
    },
    {
      "cell_type": "code",
      "execution_count": null,
      "metadata": {
        "id": "L8Lz1TfdsP2F"
      },
      "outputs": [],
      "source": [
        "attempt_float(\"1.2345\")\n",
        "attempt_float(\"something\")"
      ]
    },
    {
      "cell_type": "code",
      "execution_count": null,
      "metadata": {
        "id": "N-WW0J0rsP2G"
      },
      "outputs": [],
      "source": [
        "float((1, 2))"
      ]
    },
    {
      "cell_type": "code",
      "execution_count": null,
      "metadata": {
        "id": "-t39kOzqsP2G"
      },
      "outputs": [],
      "source": [
        "def attempt_float(x):\n",
        "    try:\n",
        "        return float(x)\n",
        "    except ValueError:\n",
        "        return x"
      ]
    },
    {
      "cell_type": "code",
      "execution_count": null,
      "metadata": {
        "id": "qkUA4QJbsP2G"
      },
      "outputs": [],
      "source": [
        "attempt_float((1, 2))"
      ]
    },
    {
      "cell_type": "code",
      "execution_count": null,
      "metadata": {
        "id": "M3psoakdsP2G"
      },
      "outputs": [],
      "source": [
        "def attempt_float(x):\n",
        "    try:\n",
        "        return float(x)\n",
        "    except (TypeError, ValueError):\n",
        "        return x"
      ]
    },
    {
      "cell_type": "code",
      "execution_count": null,
      "metadata": {
        "id": "4PGK19j1sP2H"
      },
      "outputs": [],
      "source": [
        "path = \"examples/segismundo.txt\"\n",
        "f = open(path, encoding=\"utf-8\")"
      ]
    },
    {
      "cell_type": "code",
      "execution_count": null,
      "metadata": {
        "id": "I4qcqcUvsP2H"
      },
      "outputs": [],
      "source": [
        "lines = [x.rstrip() for x in open(path, encoding=\"utf-8\")]\n",
        "lines"
      ]
    },
    {
      "cell_type": "code",
      "execution_count": null,
      "metadata": {
        "id": "3i-5t23wsP2H"
      },
      "outputs": [],
      "source": [
        "f.close()"
      ]
    },
    {
      "cell_type": "code",
      "execution_count": null,
      "metadata": {
        "id": "WjsflfWcsP2H"
      },
      "outputs": [],
      "source": [
        "with open(path, encoding=\"utf-8\") as f:\n",
        "    lines = [x.rstrip() for x in f]"
      ]
    },
    {
      "cell_type": "code",
      "execution_count": null,
      "metadata": {
        "id": "XtqCR7CIsP2H"
      },
      "outputs": [],
      "source": [
        "f1 = open(path)\n",
        "f1.read(10)\n",
        "f2 = open(path, mode=\"rb\")  # Binary mode\n",
        "f2.read(10)"
      ]
    },
    {
      "cell_type": "code",
      "execution_count": null,
      "metadata": {
        "id": "kJALLYDYsP2H"
      },
      "outputs": [],
      "source": [
        "f1.tell()\n",
        "f2.tell()"
      ]
    },
    {
      "cell_type": "code",
      "execution_count": null,
      "metadata": {
        "id": "GTXmU5y_sP2I"
      },
      "outputs": [],
      "source": [
        "import sys\n",
        "sys.getdefaultencoding()"
      ]
    },
    {
      "cell_type": "code",
      "execution_count": null,
      "metadata": {
        "id": "e1TTc3IRsP2I"
      },
      "outputs": [],
      "source": [
        "f1.seek(3)\n",
        "f1.read(1)\n",
        "f1.tell()"
      ]
    },
    {
      "cell_type": "code",
      "execution_count": null,
      "metadata": {
        "id": "y-DJPff9sP2I"
      },
      "outputs": [],
      "source": [
        "f1.close()\n",
        "f2.close()"
      ]
    },
    {
      "cell_type": "code",
      "execution_count": null,
      "metadata": {
        "id": "Bp49EV2TsP2I"
      },
      "outputs": [],
      "source": [
        "path\n",
        "\n",
        "with open(\"tmp.txt\", mode=\"w\") as handle:\n",
        "    handle.writelines(x for x in open(path) if len(x) > 1)\n",
        "\n",
        "with open(\"tmp.txt\") as f:\n",
        "    lines = f.readlines()\n",
        "\n",
        "lines"
      ]
    },
    {
      "cell_type": "code",
      "execution_count": null,
      "metadata": {
        "id": "WaGxqQjRsP2I"
      },
      "outputs": [],
      "source": [
        "import os\n",
        "os.remove(\"tmp.txt\")"
      ]
    },
    {
      "cell_type": "code",
      "execution_count": null,
      "metadata": {
        "id": "X5-Kvp0wsP2J"
      },
      "outputs": [],
      "source": [
        "with open(path) as f:\n",
        "    chars = f.read(10)\n",
        "\n",
        "chars\n",
        "len(chars)"
      ]
    },
    {
      "cell_type": "code",
      "execution_count": null,
      "metadata": {
        "id": "cEbyBCQQsP2J"
      },
      "outputs": [],
      "source": [
        "with open(path, mode=\"rb\") as f:\n",
        "    data = f.read(10)\n",
        "\n",
        "data"
      ]
    },
    {
      "cell_type": "code",
      "execution_count": null,
      "metadata": {
        "id": "EXI5AsHGsP2J"
      },
      "outputs": [],
      "source": [
        "data.decode(\"utf-8\")\n",
        "data[:4].decode(\"utf-8\")"
      ]
    },
    {
      "cell_type": "code",
      "execution_count": null,
      "metadata": {
        "id": "W_CjynrEsP2J"
      },
      "outputs": [],
      "source": [
        "sink_path = \"sink.txt\"\n",
        "with open(path) as source:\n",
        "    with open(sink_path, \"x\", encoding=\"iso-8859-1\") as sink:\n",
        "        sink.write(source.read())\n",
        "\n",
        "with open(sink_path, encoding=\"iso-8859-1\") as f:\n",
        "    print(f.read(10))"
      ]
    },
    {
      "cell_type": "code",
      "execution_count": null,
      "metadata": {
        "id": "x2P-H0xlsP2J"
      },
      "outputs": [],
      "source": [
        "os.remove(sink_path)"
      ]
    },
    {
      "cell_type": "code",
      "execution_count": null,
      "metadata": {
        "id": "G9H-7KAIsP2J"
      },
      "outputs": [],
      "source": [
        "f = open(path, encoding='utf-8')\n",
        "f.read(5)\n",
        "f.seek(4)\n",
        "f.read(1)\n",
        "f.close()"
      ]
    },
    {
      "cell_type": "code",
      "execution_count": null,
      "metadata": {
        "id": "NAwYHhYGsP2K"
      },
      "outputs": [],
      "source": []
    }
  ],
  "metadata": {
    "kernelspec": {
      "display_name": "Python 3",
      "language": "python",
      "name": "python3"
    },
    "language_info": {
      "codemirror_mode": {
        "name": "ipython",
        "version": 3
      },
      "file_extension": ".py",
      "mimetype": "text/x-python",
      "name": "python",
      "nbconvert_exporter": "python",
      "pygments_lexer": "ipython3",
      "version": "3.7.6"
    },
    "colab": {
      "provenance": [],
      "include_colab_link": true
    }
  },
  "nbformat": 4,
  "nbformat_minor": 0
}