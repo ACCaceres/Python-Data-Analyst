{
  "cells": [
    {
      "cell_type": "markdown",
      "metadata": {
        "id": "view-in-github",
        "colab_type": "text"
      },
      "source": [
        "<a href=\"https://colab.research.google.com/github/ACCaceres/Python-Data-Analyst/blob/main/ch03.ipynb\" target=\"_parent\"><img src=\"https://colab.research.google.com/assets/colab-badge.svg\" alt=\"Open In Colab\"/></a>"
      ]
    },
    {
      "cell_type": "markdown",
      "source": [
        "# Capitulo 3 | **Cuaderno de Notas**\n",
        "*Ariel Alfonso Cáceres Pacheco*\n",
        "\n",
        "Notas personales al cuaderno O'Really\n",
        "**Python for Data Analysis**"
      ],
      "metadata": {
        "id": "4D35JSJWsRFB"
      }
    },
    {
      "cell_type": "code",
      "execution_count": null,
      "metadata": {
        "id": "6uTEiJnxsP1y",
        "colab": {
          "base_uri": "https://localhost:8080/"
        },
        "outputId": "f9a6a616-8122-4a20-ba97-8ef23ffc110d"
      },
      "outputs": [
        {
          "output_type": "execute_result",
          "data": {
            "text/plain": [
              "(4, 5, 6)"
            ]
          },
          "metadata": {},
          "execution_count": 1
        }
      ],
      "source": [
        "# Estas son tuplas\n",
        "tup = (4, 5, 6)\n",
        "tup"
      ]
    },
    {
      "cell_type": "code",
      "execution_count": null,
      "metadata": {
        "id": "bfyBjpmTsP1z",
        "colab": {
          "base_uri": "https://localhost:8080/"
        },
        "outputId": "2ea12416-6960-449e-8580-a8ef4cfa7f55"
      },
      "outputs": [
        {
          "output_type": "execute_result",
          "data": {
            "text/plain": [
              "(4, 5, 6)"
            ]
          },
          "metadata": {},
          "execution_count": 3
        }
      ],
      "source": [
        "#  en muchos contextos la tuplas pueden omitir los parentisis\n",
        "tup = 4, 5, 6\n",
        "tup"
      ]
    },
    {
      "cell_type": "code",
      "execution_count": null,
      "metadata": {
        "id": "ZsGHpOE_sP1z",
        "colab": {
          "base_uri": "https://localhost:8080/"
        },
        "outputId": "edbe3229-defa-49eb-bdfb-9af13cd863ff"
      },
      "outputs": [
        {
          "output_type": "execute_result",
          "data": {
            "text/plain": [
              "(4, 0, 2)"
            ]
          },
          "metadata": {},
          "execution_count": 6
        }
      ],
      "source": [
        "#puedes convertir cualquier secuencia en una Tupla\n",
        "tuple([4, 0, 2])\n"
      ]
    },
    {
      "cell_type": "code",
      "source": [
        "# Conviritiendo un String llamado String en Tupla\n",
        "tup = tuple('string')\n",
        "tup"
      ],
      "metadata": {
        "colab": {
          "base_uri": "https://localhost:8080/"
        },
        "id": "5GmTD5nc62NO",
        "outputId": "ecdf7850-74c2-4c13-d4b9-3e754384b94c"
      },
      "execution_count": null,
      "outputs": [
        {
          "output_type": "execute_result",
          "data": {
            "text/plain": [
              "('s', 't', 'r', 'i', 'n', 'g')"
            ]
          },
          "metadata": {},
          "execution_count": 8
        }
      ]
    },
    {
      "cell_type": "code",
      "execution_count": null,
      "metadata": {
        "id": "GGBMToa4sP1z",
        "colab": {
          "base_uri": "https://localhost:8080/",
          "height": 35
        },
        "outputId": "d69ffa15-707f-4225-c977-e4b0f8321f35"
      },
      "outputs": [
        {
          "output_type": "execute_result",
          "data": {
            "text/plain": [
              "'s'"
            ],
            "application/vnd.google.colaboratory.intrinsic+json": {
              "type": "string"
            }
          },
          "metadata": {},
          "execution_count": 10
        }
      ],
      "source": [
        "#Obtener cualquie elemento entre []\n",
        "tup[0]"
      ]
    },
    {
      "cell_type": "code",
      "execution_count": null,
      "metadata": {
        "id": "eB5ZT8t7sP1z"
      },
      "outputs": [],
      "source": [
        "# en este caso se asignan 2 listas a un tupla\n",
        "nested_tup = (4, 5, 6), (7, 8)\n"
      ]
    },
    {
      "cell_type": "code",
      "source": [
        "nested_tup\n"
      ],
      "metadata": {
        "colab": {
          "base_uri": "https://localhost:8080/"
        },
        "id": "6X6AFey57W3P",
        "outputId": "2b52df08-dff9-41a1-a367-8b4bb87331b8"
      },
      "execution_count": null,
      "outputs": [
        {
          "output_type": "execute_result",
          "data": {
            "text/plain": [
              "((4, 5, 6), (7, 8))"
            ]
          },
          "metadata": {},
          "execution_count": 14
        }
      ]
    },
    {
      "cell_type": "code",
      "source": [
        "# Valor [0]\n",
        "nested_tup[0]\n"
      ],
      "metadata": {
        "colab": {
          "base_uri": "https://localhost:8080/"
        },
        "id": "8CoXkVu57bKs",
        "outputId": "9be2b652-b612-4633-be41-a58cb2c68e01"
      },
      "execution_count": null,
      "outputs": [
        {
          "output_type": "execute_result",
          "data": {
            "text/plain": [
              "(4, 5, 6)"
            ]
          },
          "metadata": {},
          "execution_count": 15
        }
      ]
    },
    {
      "cell_type": "code",
      "source": [
        "# Valor [1]\n",
        "nested_tup[1]"
      ],
      "metadata": {
        "colab": {
          "base_uri": "https://localhost:8080/"
        },
        "id": "G1hk05NH7gr0",
        "outputId": "28a45a15-4838-44d5-94d4-913cf1d8e057"
      },
      "execution_count": null,
      "outputs": [
        {
          "output_type": "execute_result",
          "data": {
            "text/plain": [
              "(7, 8)"
            ]
          },
          "metadata": {},
          "execution_count": 16
        }
      ]
    },
    {
      "cell_type": "code",
      "execution_count": null,
      "metadata": {
        "id": "1VIeuLZksP1z",
        "colab": {
          "base_uri": "https://localhost:8080/",
          "height": 176
        },
        "outputId": "aa1fffde-2946-4683-9d24-34892371a409"
      },
      "outputs": [
        {
          "output_type": "error",
          "ename": "TypeError",
          "evalue": "'tuple' object does not support item assignment",
          "traceback": [
            "\u001b[0;31m---------------------------------------------------------------------------\u001b[0m",
            "\u001b[0;31mTypeError\u001b[0m                                 Traceback (most recent call last)",
            "\u001b[0;32m<ipython-input-26-2659aa8de0b6>\u001b[0m in \u001b[0;36m<cell line: 4>\u001b[0;34m()\u001b[0m\n\u001b[1;32m      2\u001b[0m \u001b[0;31m# que lo compone una Lista.\u001b[0m\u001b[0;34m\u001b[0m\u001b[0;34m\u001b[0m\u001b[0m\n\u001b[1;32m      3\u001b[0m \u001b[0mtup\u001b[0m \u001b[0;34m=\u001b[0m \u001b[0mtuple\u001b[0m\u001b[0;34m(\u001b[0m\u001b[0;34m[\u001b[0m\u001b[0;34m'foo'\u001b[0m\u001b[0;34m,\u001b[0m \u001b[0;34m[\u001b[0m\u001b[0;36m1\u001b[0m\u001b[0;34m,\u001b[0m \u001b[0;36m2\u001b[0m\u001b[0;34m]\u001b[0m\u001b[0;34m,\u001b[0m \u001b[0;32mTrue\u001b[0m\u001b[0;34m]\u001b[0m\u001b[0;34m)\u001b[0m\u001b[0;34m\u001b[0m\u001b[0;34m\u001b[0m\u001b[0m\n\u001b[0;32m----> 4\u001b[0;31m \u001b[0mtup\u001b[0m\u001b[0;34m[\u001b[0m\u001b[0;36m2\u001b[0m\u001b[0;34m]\u001b[0m \u001b[0;34m=\u001b[0m \u001b[0;32mFalse\u001b[0m\u001b[0;34m\u001b[0m\u001b[0;34m\u001b[0m\u001b[0m\n\u001b[0m",
            "\u001b[0;31mTypeError\u001b[0m: 'tuple' object does not support item assignment"
          ]
        }
      ],
      "source": [
        "#  este codigo da erro pues se invoca al valor [2 ] de la tupla y tiene solo un valor [0]\n",
        "# que lo compone una Lista.\n",
        "tup = tuple(['foo', [1, 2], True])\n",
        "tup[2] = False"
      ]
    },
    {
      "cell_type": "code",
      "execution_count": null,
      "metadata": {
        "id": "eJrhgYpxsP10",
        "colab": {
          "base_uri": "https://localhost:8080/"
        },
        "outputId": "514dcf59-0413-4f19-8ab8-e3bd88b7f0b0"
      },
      "outputs": [
        {
          "output_type": "execute_result",
          "data": {
            "text/plain": [
              "('foo', [1, 2, 3], True)"
            ]
          },
          "metadata": {},
          "execution_count": 27
        }
      ],
      "source": [
        "\n",
        "# al valor 1 de la tupla se le agraga via metodo append el valor 3\n",
        "tup[1].append(3)\n",
        "\n",
        "tup"
      ]
    },
    {
      "cell_type": "code",
      "execution_count": null,
      "metadata": {
        "id": "aUMx69vFsP10",
        "colab": {
          "base_uri": "https://localhost:8080/"
        },
        "outputId": "75eb0835-ffe3-4fd1-fe14-fe766d75db90"
      },
      "outputs": [
        {
          "output_type": "execute_result",
          "data": {
            "text/plain": [
              "(4, None, 'foo', 6, 0, 'bar')"
            ]
          },
          "metadata": {},
          "execution_count": 30
        }
      ],
      "source": [
        "# Concatenando tuplas\n",
        "(4, None, 'foo') + (6, 0) + ('bar',)"
      ]
    },
    {
      "cell_type": "code",
      "execution_count": null,
      "metadata": {
        "id": "S1uMaqBCsP10",
        "colab": {
          "base_uri": "https://localhost:8080/"
        },
        "outputId": "32e4f565-6203-4204-bb35-44c9a6770d58"
      },
      "outputs": [
        {
          "output_type": "execute_result",
          "data": {
            "text/plain": [
              "('foo', 'bar', 'foo', 'bar', 'foo', 'bar', 'foo', 'bar')"
            ]
          },
          "metadata": {},
          "execution_count": 33
        }
      ],
      "source": [
        "#Multiplicar una Tupla\n",
        "('foo', 'bar') * 4"
      ]
    },
    {
      "cell_type": "markdown",
      "source": [
        "**Desempaquetando tuplas**\n",
        "Si intenta asignar una expresión de variables similar a una tupla, Python intentará descomprimir el valor en el lado derecho del signo igual:"
      ],
      "metadata": {
        "id": "W2Jw5Q9q-Rr6"
      }
    },
    {
      "cell_type": "code",
      "execution_count": null,
      "metadata": {
        "id": "7mlFVCJhsP10",
        "colab": {
          "base_uri": "https://localhost:8080/"
        },
        "outputId": "0a2349b4-7af8-4cff-b2ea-34fd46e6f617"
      },
      "outputs": [
        {
          "output_type": "execute_result",
          "data": {
            "text/plain": [
              "5"
            ]
          },
          "metadata": {},
          "execution_count": 35
        }
      ],
      "source": [
        "\n",
        "tup = (4, 5, 6)\n",
        "a, b, c = tup\n",
        "b"
      ]
    },
    {
      "cell_type": "code",
      "execution_count": null,
      "metadata": {
        "id": "yMJZA6emsP10",
        "colab": {
          "base_uri": "https://localhost:8080/"
        },
        "outputId": "1ad2d25d-74e0-4915-9429-ec19b624e530"
      },
      "outputs": [
        {
          "output_type": "execute_result",
          "data": {
            "text/plain": [
              "7"
            ]
          },
          "metadata": {},
          "execution_count": 36
        }
      ],
      "source": [
        "tup = 4, 5, (6, 7)\n",
        "a, b, (c, d) = tup\n",
        "d"
      ]
    },
    {
      "cell_type": "code",
      "execution_count": null,
      "metadata": {
        "id": "5JHfQ0B8sP10"
      },
      "outputs": [],
      "source": [
        "a, b = 1, 2\n"
      ]
    },
    {
      "cell_type": "code",
      "source": [
        "print(a, b)\n"
      ],
      "metadata": {
        "colab": {
          "base_uri": "https://localhost:8080/"
        },
        "id": "Owe27ABI-t7V",
        "outputId": "62455e75-7f21-47bb-c4bc-c81bcaf8a8ac"
      },
      "execution_count": null,
      "outputs": [
        {
          "output_type": "stream",
          "name": "stdout",
          "text": [
            "1 2\n"
          ]
        }
      ]
    },
    {
      "cell_type": "code",
      "source": [
        "# reasignacion\n",
        "b, a = a, b\n",
        "print(a,\",\",b)\n"
      ],
      "metadata": {
        "colab": {
          "base_uri": "https://localhost:8080/"
        },
        "id": "VP9LETXQ-3Vl",
        "outputId": "3e930037-effb-4645-c69c-1cbf24f0d951"
      },
      "execution_count": null,
      "outputs": [
        {
          "output_type": "stream",
          "name": "stdout",
          "text": [
            "1 , 2\n"
          ]
        }
      ]
    },
    {
      "cell_type": "code",
      "execution_count": null,
      "metadata": {
        "id": "2HvGgEVOsP11",
        "colab": {
          "base_uri": "https://localhost:8080/"
        },
        "outputId": "366ee2b6-9c8a-4d7e-8a7d-ded79101faaf"
      },
      "outputs": [
        {
          "output_type": "stream",
          "name": "stdout",
          "text": [
            "a=1, b=2, c=3\n",
            "a=4, b=5, c=6\n",
            "a=7, b=8, c=9\n"
          ]
        }
      ],
      "source": [
        "# esta secuencia itera sobre cada valor de lista\n",
        "# para cada valor de a, b ,c de la secuencia le corresponde un valor de la lista\n",
        "seq = [(1, 2, 3), (4, 5, 6), (7, 8, 9)]\n",
        "for a, b, c in seq:\n",
        "    print(f'a={a}, b={b}, c={c}')"
      ]
    },
    {
      "cell_type": "markdown",
      "source": [
        "Hay algunas situaciones en las que es posible que desees \"extraer\" algunos elementos del principio de una tupla. Hay una sintaxis especial que puede hacer esto, *restque también se usa en firmas de funciones para capturar una lista arbitrariamente larga de argumentos posicionales:\n",
        "\n"
      ],
      "metadata": {
        "id": "YSmDtSZvAQMs"
      }
    },
    {
      "cell_type": "code",
      "execution_count": null,
      "metadata": {
        "id": "SUxy6bOpsP11",
        "colab": {
          "base_uri": "https://localhost:8080/"
        },
        "outputId": "b725e8ad-37c2-404a-f02c-d71d2351ff81"
      },
      "outputs": [
        {
          "output_type": "execute_result",
          "data": {
            "text/plain": [
              "[3, 4, 5]"
            ]
          },
          "metadata": {},
          "execution_count": 51
        }
      ],
      "source": [
        "# aqui el ejemplo\n",
        "values = 1, 2, 3, 4, 5\n",
        "a, b, *rest = values\n",
        "a\n",
        "b\n",
        "rest"
      ]
    },
    {
      "cell_type": "code",
      "execution_count": null,
      "metadata": {
        "id": "eD9TwEoJsP11"
      },
      "outputs": [],
      "source": [
        "a, b, *_ = values"
      ]
    },
    {
      "cell_type": "markdown",
      "source": [
        "**METODOS DE TUPLA**"
      ],
      "metadata": {
        "id": "lvt9n2jWAuoB"
      }
    },
    {
      "cell_type": "code",
      "execution_count": null,
      "metadata": {
        "id": "PPhWx2XnsP11",
        "colab": {
          "base_uri": "https://localhost:8080/"
        },
        "outputId": "1297e385-82fb-4285-a654-ac560e8cadb5"
      },
      "outputs": [
        {
          "output_type": "execute_result",
          "data": {
            "text/plain": [
              "4"
            ]
          },
          "metadata": {},
          "execution_count": 54
        }
      ],
      "source": [
        "# contar valroes dento de una tupla\n",
        "a = (1, 2, 2, 2, 3, 4, 2)\n",
        "a.count(2)"
      ]
    },
    {
      "cell_type": "code",
      "execution_count": null,
      "metadata": {
        "id": "u9uVwABusP11",
        "colab": {
          "base_uri": "https://localhost:8080/"
        },
        "outputId": "6b5ecbeb-c871-476c-ce3c-d0bc0c18a102"
      },
      "outputs": [
        {
          "output_type": "execute_result",
          "data": {
            "text/plain": [
              "['foo', 'peekaboo', 'baz']"
            ]
          },
          "metadata": {},
          "execution_count": 2
        }
      ],
      "source": [
        "# se tiene una lista y una tupla esta se convierte en Lista, y al valor 1 de las lista (2°)\n",
        "# se le asigna nuevo valor\n",
        "a_list = [2, 3, 7, None]\n",
        "\n",
        "tup = (\"foo\", \"bar\", \"baz\")\n",
        "b_list = list(tup)\n",
        "b_list\n",
        "b_list[1] = \"peekaboo\"\n",
        "b_list"
      ]
    },
    {
      "cell_type": "code",
      "execution_count": null,
      "metadata": {
        "id": "Gtw_WVWrsP11",
        "colab": {
          "base_uri": "https://localhost:8080/"
        },
        "outputId": "54490c69-0f41-4bab-aad4-1a00c40a41a8"
      },
      "outputs": [
        {
          "output_type": "execute_result",
          "data": {
            "text/plain": [
              "[0, 1, 2, 3, 4, 5, 6, 7, 8, 9]"
            ]
          },
          "metadata": {},
          "execution_count": 3
        }
      ],
      "source": [
        "# genenerar un rango y convertirilo en lista esto se hace con funcion list\n",
        "gen = range(10)\n",
        "gen\n",
        "list(gen)"
      ]
    },
    {
      "cell_type": "code",
      "execution_count": null,
      "metadata": {
        "id": "lcaxncKHsP12",
        "colab": {
          "base_uri": "https://localhost:8080/"
        },
        "outputId": "954b7c07-318d-48d6-9970-701a9858f063"
      },
      "outputs": [
        {
          "output_type": "execute_result",
          "data": {
            "text/plain": [
              "['foo', 'peekaboo', 'baz', 'dwarf', 'dwarf', 'dwarf']"
            ]
          },
          "metadata": {},
          "execution_count": 6
        }
      ],
      "source": [
        "# se ha añadido una nuevo valor a la lista via .append(\"valor\")\n",
        "b_list.append(\"dwarf\")\n",
        "b_list"
      ]
    },
    {
      "cell_type": "code",
      "execution_count": null,
      "metadata": {
        "id": "l9-1-fl6sP12",
        "colab": {
          "base_uri": "https://localhost:8080/"
        },
        "outputId": "ec8f705b-613c-4597-cd31-39bcab72a047"
      },
      "outputs": [
        {
          "output_type": "execute_result",
          "data": {
            "text/plain": [
              "['foo', 'red', 'red', 'peekaboo', 'baz', 'dwarf', 'dwarf', 'dwarf']"
            ]
          },
          "metadata": {},
          "execution_count": 8
        }
      ],
      "source": [
        "# se ha añadido valor al segundo item de la lista\n",
        "b_list.insert(1, \"red\")\n",
        "b_list"
      ]
    },
    {
      "cell_type": "code",
      "execution_count": null,
      "metadata": {
        "id": "KwafArjJsP12",
        "colab": {
          "base_uri": "https://localhost:8080/"
        },
        "outputId": "ade257da-f635-4eb0-b7d8-202ca2d96568"
      },
      "outputs": [
        {
          "output_type": "execute_result",
          "data": {
            "text/plain": [
              "['red', 'peekaboo', 'dwarf', 'foo']"
            ]
          },
          "metadata": {},
          "execution_count": 13
        }
      ],
      "source": [
        "# con metodo .pop se elimina el elemento del Objeto segun indice señaladao en este caso el .pop(2)\n",
        "# es el Tercero\n",
        "b_list.pop(2)\n",
        "b_list"
      ]
    },
    {
      "cell_type": "code",
      "execution_count": null,
      "metadata": {
        "id": "kI2q9-3AsP12",
        "colab": {
          "base_uri": "https://localhost:8080/"
        },
        "outputId": "ec226ded-1ad2-433c-876b-d3363e690f40"
      },
      "outputs": [
        {
          "output_type": "execute_result",
          "data": {
            "text/plain": [
              "['red', 'peekaboo', 'dwarf', 'foo', 'foo']"
            ]
          },
          "metadata": {},
          "execution_count": 14
        }
      ],
      "source": [
        "#se agrega nuevamente el elemento foo al final via .append(\"foo\")\n",
        "b_list.append(\"foo\")\n",
        "b_list\n"
      ]
    },
    {
      "cell_type": "code",
      "source": [
        "#con .remove(\"foo\") elminia el elemento de la lista el primero que encuentre\n",
        "b_list.remove(\"foo\")\n",
        "b_list"
      ],
      "metadata": {
        "colab": {
          "base_uri": "https://localhost:8080/"
        },
        "id": "vIHUfllXKAcQ",
        "outputId": "9a5b45f0-032b-4c92-a830-cab0b2c3f3df"
      },
      "execution_count": null,
      "outputs": [
        {
          "output_type": "execute_result",
          "data": {
            "text/plain": [
              "['red', 'peekaboo', 'dwarf', 'foo']"
            ]
          },
          "metadata": {},
          "execution_count": 15
        }
      ]
    },
    {
      "cell_type": "code",
      "execution_count": null,
      "metadata": {
        "id": "G6hDAPYesP12",
        "colab": {
          "base_uri": "https://localhost:8080/"
        },
        "outputId": "2356627c-72fd-4939-c09a-48700c3923e8"
      },
      "outputs": [
        {
          "output_type": "execute_result",
          "data": {
            "text/plain": [
              "True"
            ]
          },
          "metadata": {},
          "execution_count": 16
        }
      ],
      "source": [
        "# funcion in consulta si ele elemento esta en el segundo elemento\n",
        "#responde con un True or False\n",
        "\"dwarf\" in b_list"
      ]
    },
    {
      "cell_type": "code",
      "execution_count": null,
      "metadata": {
        "id": "P428Ty3msP12",
        "colab": {
          "base_uri": "https://localhost:8080/"
        },
        "outputId": "7af188be-627f-4fa8-a043-a4273f4ee1b3"
      },
      "outputs": [
        {
          "output_type": "execute_result",
          "data": {
            "text/plain": [
              "False"
            ]
          },
          "metadata": {},
          "execution_count": 18
        }
      ],
      "source": [
        "# funcion para vaidar si un elemento no esta en tu git\n",
        "\"dwarf\" not in b_list"
      ]
    },
    {
      "cell_type": "code",
      "execution_count": null,
      "metadata": {
        "id": "9TeDA-YgsP13",
        "colab": {
          "base_uri": "https://localhost:8080/"
        },
        "outputId": "29fe2adf-a2cd-4ad1-edf7-45b226e57293"
      },
      "outputs": [
        {
          "output_type": "execute_result",
          "data": {
            "text/plain": [
              "[4, None, 'foo', 7, 8, (2, 3)]"
            ]
          },
          "metadata": {},
          "execution_count": 19
        }
      ],
      "source": [
        "\n",
        "# adicion de 2 tuplas\n",
        "[4, None, \"foo\"] + [7, 8, (2, 3)]"
      ]
    },
    {
      "cell_type": "code",
      "execution_count": null,
      "metadata": {
        "id": "iTu9Fe-PsP13",
        "colab": {
          "base_uri": "https://localhost:8080/"
        },
        "outputId": "b1a8be78-732e-4d74-eb44-be2b0683acd9"
      },
      "outputs": [
        {
          "output_type": "execute_result",
          "data": {
            "text/plain": [
              "[4, None, 'foo', 7, 8, (2, 3)]"
            ]
          },
          "metadata": {},
          "execution_count": 20
        }
      ],
      "source": [
        "# se puede agregar con el metodo. extend([Valores]) de un listado\n",
        "x = [4, None, \"foo\"]\n",
        "x.extend([7, 8, (2, 3)])\n",
        "x"
      ]
    },
    {
      "cell_type": "code",
      "execution_count": null,
      "metadata": {
        "id": "ndJC2_qPsP13",
        "colab": {
          "base_uri": "https://localhost:8080/"
        },
        "outputId": "3075afb5-6b62-4b6f-a2f0-0d6323ce1d4e"
      },
      "outputs": [
        {
          "output_type": "execute_result",
          "data": {
            "text/plain": [
              "[1, 2, 3, 5, 7]"
            ]
          },
          "metadata": {},
          "execution_count": 21
        }
      ],
      "source": [
        "# con Metodo .sort hacemos un orden\n",
        "a = [7, 2, 5, 1, 3]\n",
        "a.sort()\n",
        "a"
      ]
    },
    {
      "cell_type": "code",
      "execution_count": null,
      "metadata": {
        "id": "k3CinQBMsP13",
        "colab": {
          "base_uri": "https://localhost:8080/"
        },
        "outputId": "4ba35612-e5a9-4b37-d422-1695ccb2528a"
      },
      "outputs": [
        {
          "output_type": "execute_result",
          "data": {
            "text/plain": [
              "['He', 'saw', 'six', 'small', 'foxes']"
            ]
          },
          "metadata": {},
          "execution_count": 1
        }
      ],
      "source": [
        "# ordena por longitud del String\n",
        "b = [\"saw\", \"small\", \"He\", \"foxes\", \"six\"]\n",
        "b.sort(key=len)\n",
        "b"
      ]
    },
    {
      "cell_type": "code",
      "execution_count": null,
      "metadata": {
        "id": "wC_E6LuIsP13",
        "colab": {
          "base_uri": "https://localhost:8080/"
        },
        "outputId": "877e1e68-3434-4c7a-aa15-2d06ffdb1048"
      },
      "outputs": [
        {
          "output_type": "execute_result",
          "data": {
            "text/plain": [
              "[2, 3, 7, 5]"
            ]
          },
          "metadata": {},
          "execution_count": 2
        }
      ],
      "source": [
        "#ciclo de slicingn aca dese el 2° AL ULTMO 5-1\n",
        "seq = [7, 2, 3, 7, 5, 6, 0, 1]\n",
        "seq[1:5]"
      ]
    },
    {
      "cell_type": "code",
      "execution_count": null,
      "metadata": {
        "id": "ZoNx148EsP13",
        "colab": {
          "base_uri": "https://localhost:8080/"
        },
        "outputId": "2708f662-b1db-4dd7-d32b-a703e1a94be4"
      },
      "outputs": [
        {
          "output_type": "execute_result",
          "data": {
            "text/plain": [
              "[7, 2, 3, 6, 3, 6, 0, 1]"
            ]
          },
          "metadata": {},
          "execution_count": 10
        }
      ],
      "source": [
        "# slicing en la secuencia\n",
        "# reasigna valores 3 y 5-1\n",
        "#seq = [7, 2, 3, 7, 5, 6, 0, 1]\n",
        "seq[3:5] = [6, 3]\n",
        "seq"
      ]
    },
    {
      "cell_type": "code",
      "execution_count": null,
      "metadata": {
        "id": "Gn2bgEwdsP13",
        "colab": {
          "base_uri": "https://localhost:8080/"
        },
        "outputId": "c513cb89-de68-421f-c897-18b34bc422e5"
      },
      "outputs": [
        {
          "output_type": "execute_result",
          "data": {
            "text/plain": [
              "[7, 2, 3, 6, 3]"
            ]
          },
          "metadata": {},
          "execution_count": 11
        }
      ],
      "source": [
        "#Sclingi desde el 0 al 5-1\n",
        "#seq = [7, 2, 3, 7, 5, 6, 0, 1]\n",
        "seq[:5]\n"
      ]
    },
    {
      "cell_type": "code",
      "source": [
        "# Slicing desde el 3 hasta el final\n",
        "[7, 2, 3, 6, 3, 6, 0, 1]\n",
        "seq[3:]"
      ],
      "metadata": {
        "colab": {
          "base_uri": "https://localhost:8080/"
        },
        "id": "3d8MNiurSBfu",
        "outputId": "1c0d65d2-df5d-4f45-87ee-a0117e0e7712"
      },
      "execution_count": null,
      "outputs": [
        {
          "output_type": "execute_result",
          "data": {
            "text/plain": [
              "[6, 3, 6, 0, 1]"
            ]
          },
          "metadata": {},
          "execution_count": 12
        }
      ]
    },
    {
      "cell_type": "code",
      "execution_count": null,
      "metadata": {
        "id": "lVoxYwfAsP14",
        "colab": {
          "base_uri": "https://localhost:8080/"
        },
        "outputId": "43b88639-bc5a-4950-cfc2-c9c1b3509334"
      },
      "outputs": [
        {
          "output_type": "execute_result",
          "data": {
            "text/plain": [
              "[5, 6, 0, 1]"
            ]
          },
          "metadata": {},
          "execution_count": 3
        }
      ],
      "source": [
        "# Cuenta desde derecha a izquierda para hacer el Slicing\n",
        "seq[-4:]\n"
      ]
    },
    {
      "cell_type": "code",
      "execution_count": null,
      "metadata": {
        "id": "s-VwMmG4sP14",
        "colab": {
          "base_uri": "https://localhost:8080/"
        },
        "outputId": "cc474d5b-75d5-4e05-fdc8-8af5a97fbe4b"
      },
      "outputs": [
        {
          "output_type": "execute_result",
          "data": {
            "text/plain": [
              "[7, 3, 5, 0]"
            ]
          },
          "metadata": {},
          "execution_count": 4
        }
      ],
      "source": [
        "# da saltos de 2 vales haciendo un slicing en la lista\n",
        "seq[::2]"
      ]
    },
    {
      "cell_type": "code",
      "execution_count": null,
      "metadata": {
        "id": "8vPPSG93sP14",
        "colab": {
          "base_uri": "https://localhost:8080/"
        },
        "outputId": "9db67f8a-a547-409b-853c-55b53de443f8"
      },
      "outputs": [
        {
          "output_type": "stream",
          "name": "stdout",
          "text": [
            "[7, 2, 3, 7, 5, 6, 0, 1]\n"
          ]
        },
        {
          "output_type": "execute_result",
          "data": {
            "text/plain": [
              "[1, 0, 6, 5, 7, 3, 2, 7]"
            ]
          },
          "metadata": {},
          "execution_count": 5
        }
      ],
      "source": [
        "#Invierte los valores en las lista\n",
        "\n",
        "print(seq)\n",
        "seq[::-1]"
      ]
    },
    {
      "cell_type": "markdown",
      "source": [
        "Es necesario un poco de tiempo para acostumbrarse a dividir la semántica, especialmente si viene de R o MATLAB. Consulte la Figura  3.1 para obtener una ilustración útil del corte con números enteros positivos y negativos. En la figura, los índices se muestran en los \"bordes del contenedor\" para ayudar a mostrar dónde comienzan y terminan las selecciones de sectores utilizando índices positivos o negativos.\n",
        "\n",
        "<img alt=\"Estadistica\" src=\"https://wesmckinney.com/book/images/pda3_0301.png\" width=960px>\n"
      ],
      "metadata": {
        "id": "Kfuhm2wPRFlm"
      }
    },
    {
      "cell_type": "markdown",
      "source": [
        "El diccionario o dictpuede ser la estructura de datos integrada de Python más importante. En otros lenguajes de programación, los diccionarios a veces se denominan mapas hash o matrices asociativas . Un diccionario almacena una colección de pares clave-valor , donde clave y valor son objetos de Python. Cada clave está asociada con un valor para que un valor pueda recuperarse, insertarse, modificarse o eliminarse convenientemente dada una clave particular. Un método para crear un diccionario es utilizar llaves {}y dos puntos para separar claves y valores:"
      ],
      "metadata": {
        "id": "_kQuJC9dSju1"
      }
    },
    {
      "cell_type": "code",
      "execution_count": 11,
      "metadata": {
        "id": "MO5LpHE1sP14",
        "colab": {
          "base_uri": "https://localhost:8080/"
        },
        "outputId": "2b598084-0902-44ce-8181-c89cde3878b8"
      },
      "outputs": [
        {
          "output_type": "execute_result",
          "data": {
            "text/plain": [
              "{'a': 'some value', 'b': [1, 2, 3, 4]}"
            ]
          },
          "metadata": {},
          "execution_count": 11
        }
      ],
      "source": [
        "# Se crea un diccionario {clave:valor}\n",
        "empty_dict = {}\n",
        "d1 = {\"a\": \"some value\", \"b\": [1, 2, 3, 4]}\n",
        "d1"
      ]
    },
    {
      "cell_type": "code",
      "execution_count": 12,
      "metadata": {
        "id": "TB38Me4bsP14",
        "colab": {
          "base_uri": "https://localhost:8080/"
        },
        "outputId": "b540a301-e891-4024-bc68-ca1c2f0c32b9"
      },
      "outputs": [
        {
          "output_type": "execute_result",
          "data": {
            "text/plain": [
              "[1, 2, 3, 4]"
            ]
          },
          "metadata": {},
          "execution_count": 12
        }
      ],
      "source": [
        "#  se puede integrar o acceder elementos dentro del diccionario.\n",
        "d1[7] = \"an integer\"\n",
        "d1\n",
        "d1[\"b\"]"
      ]
    },
    {
      "cell_type": "code",
      "execution_count": 14,
      "metadata": {
        "id": "uIZpHHmWsP15",
        "colab": {
          "base_uri": "https://localhost:8080/"
        },
        "outputId": "41a9a235-d06d-4d7d-9f9c-871ed159e248"
      },
      "outputs": [
        {
          "output_type": "execute_result",
          "data": {
            "text/plain": [
              "True"
            ]
          },
          "metadata": {},
          "execution_count": 14
        }
      ],
      "source": [
        "# con In se puede comprobar si la clave valor es True or False\n",
        "\"b\" in d1"
      ]
    },
    {
      "cell_type": "code",
      "execution_count": 22,
      "metadata": {
        "id": "1fw_wcxAsP15",
        "colab": {
          "base_uri": "https://localhost:8080/"
        },
        "outputId": "8f78bfdc-f148-4aa8-d5be-ac903d214d45"
      },
      "outputs": [
        {
          "output_type": "execute_result",
          "data": {
            "text/plain": [
              "{'a': 'some value',\n",
              " 'b': [1, 2, 3, 4],\n",
              " 7: 'an integer',\n",
              " 'dummy': 'another value',\n",
              " 5: 'some value'}"
            ]
          },
          "metadata": {},
          "execution_count": 22
        }
      ],
      "source": [
        "# se inserta un nuevo par valor\n",
        "d1[5] = \"some value\"\n",
        "d1\n"
      ]
    },
    {
      "cell_type": "code",
      "source": [
        "# con la funcion del se elimina par valor en este caso\n",
        "# 5: 'some value'\n",
        "del d1[5]\n",
        "d1\n"
      ],
      "metadata": {
        "colab": {
          "base_uri": "https://localhost:8080/"
        },
        "id": "wBU_9tfvT_3h",
        "outputId": "ab89e064-36cb-4381-9a4b-e2179076ac8b"
      },
      "execution_count": 23,
      "outputs": [
        {
          "output_type": "execute_result",
          "data": {
            "text/plain": [
              "{'a': 'some value',\n",
              " 'b': [1, 2, 3, 4],\n",
              " 7: 'an integer',\n",
              " 'dummy': 'another value'}"
            ]
          },
          "metadata": {},
          "execution_count": 23
        }
      ]
    },
    {
      "cell_type": "code",
      "source": [
        "# se agrega un a nueva clave: Valor en este caso dummy:another value\n",
        "d1[\"dummy\"] = \"another value\"\n",
        "d1\n"
      ],
      "metadata": {
        "colab": {
          "base_uri": "https://localhost:8080/"
        },
        "id": "cHnrZ3d3Tu6g",
        "outputId": "a8a909f0-fa34-4486-a40a-90f5fe962a8e"
      },
      "execution_count": 18,
      "outputs": [
        {
          "output_type": "execute_result",
          "data": {
            "text/plain": [
              "{'a': 'some value',\n",
              " 'b': [1, 2, 3, 4],\n",
              " 7: 'an integer',\n",
              " 5: 'some value',\n",
              " 'dummy': 'another value'}"
            ]
          },
          "metadata": {},
          "execution_count": 18
        }
      ]
    },
    {
      "cell_type": "code",
      "source": [
        "ret = d1.pop(\"dummy\")\n",
        "ret\n"
      ],
      "metadata": {
        "colab": {
          "base_uri": "https://localhost:8080/",
          "height": 35
        },
        "id": "g60um5GFUaF-",
        "outputId": "2419e74c-16d1-48dd-fc47-7ea79eb52eef"
      },
      "execution_count": 24,
      "outputs": [
        {
          "output_type": "execute_result",
          "data": {
            "text/plain": [
              "'another value'"
            ],
            "application/vnd.google.colaboratory.intrinsic+json": {
              "type": "string"
            }
          },
          "metadata": {},
          "execution_count": 24
        }
      ]
    },
    {
      "cell_type": "markdown",
      "source": [
        "El método keysand valuesle proporciona iteradores de las claves y valores del diccionario, respectivamente. El orden de las claves depende del orden de su inserción, y estas funciones generan las claves y los valores en el mismo orden respectivo:"
      ],
      "metadata": {
        "id": "XDvVoqa5UviE"
      }
    },
    {
      "cell_type": "code",
      "execution_count": 26,
      "metadata": {
        "id": "DGtF-6aqsP15",
        "colab": {
          "base_uri": "https://localhost:8080/"
        },
        "outputId": "ece5df0a-7258-4600-d707-7a1b0232c790"
      },
      "outputs": [
        {
          "output_type": "execute_result",
          "data": {
            "text/plain": [
              "['a', 'b', 7]"
            ]
          },
          "metadata": {},
          "execution_count": 26
        }
      ],
      "source": [
        "# llamados de claves a una lista\n",
        "list(d1.keys())\n"
      ]
    },
    {
      "cell_type": "code",
      "source": [
        "# llamados de valores extraidos a una lista\n",
        "list(d1.values())"
      ],
      "metadata": {
        "colab": {
          "base_uri": "https://localhost:8080/"
        },
        "id": "y1pVz4X-U2D4",
        "outputId": "c8ac64fb-ae56-4cb4-b78b-c881a9f402bb"
      },
      "execution_count": 29,
      "outputs": [
        {
          "output_type": "execute_result",
          "data": {
            "text/plain": [
              "['some value', [1, 2, 3, 4], 'an integer']"
            ]
          },
          "metadata": {},
          "execution_count": 29
        }
      ]
    },
    {
      "cell_type": "code",
      "execution_count": 33,
      "metadata": {
        "id": "HjKD-jm6sP15",
        "colab": {
          "base_uri": "https://localhost:8080/"
        },
        "outputId": "f0b881d8-b69d-4f1c-9619-3e5fc5ac8dc0"
      },
      "outputs": [
        {
          "output_type": "execute_result",
          "data": {
            "text/plain": [
              "[('a', 'some value'), ('b', 'foo'), (7, 'an integer'), ('c', 12)]"
            ]
          },
          "metadata": {},
          "execution_count": 33
        }
      ],
      "source": [
        "\n",
        "#con el metodo .items puede ir sobre clve:valor pero embevido en una tupla\n",
        "list(d1.items())"
      ]
    },
    {
      "cell_type": "code",
      "execution_count": 31,
      "metadata": {
        "id": "aLCUZKW5sP15",
        "colab": {
          "base_uri": "https://localhost:8080/"
        },
        "outputId": "4be3ff4d-383a-4b81-f8c4-a3c838786283"
      },
      "outputs": [
        {
          "output_type": "execute_result",
          "data": {
            "text/plain": [
              "{'a': 'some value', 'b': 'foo', 7: 'an integer', 'c': 12}"
            ]
          },
          "metadata": {},
          "execution_count": 31
        }
      ],
      "source": [
        "# si necesita actualizar diccionarios he aqui una forma\n",
        "d1.update({\"b\": \"foo\", \"c\": 12})\n",
        "d1"
      ]
    },
    {
      "cell_type": "code",
      "execution_count": 34,
      "metadata": {
        "id": "6obsjFFrsP16",
        "colab": {
          "base_uri": "https://localhost:8080/"
        },
        "outputId": "c4618727-ca34-4be3-826b-9556564a20eb"
      },
      "outputs": [
        {
          "output_type": "execute_result",
          "data": {
            "text/plain": [
              "<zip at 0x7e685ca69ac0>"
            ]
          },
          "metadata": {},
          "execution_count": 34
        }
      ],
      "source": [
        "# crearemos 2 tuplas range(5) --->del 0 al 4 y reversed(range(5))--- del 4 al 0\n",
        "\n",
        "tuples = zip(range(5), reversed(range(5)))\n",
        "tuples\n"
      ]
    },
    {
      "cell_type": "code",
      "source": [
        "# el metodo dict lo que efectua es una funciion que hace mapedo de diccionario\n",
        "mapping = dict(tuples)\n",
        "mapping"
      ],
      "metadata": {
        "colab": {
          "base_uri": "https://localhost:8080/"
        },
        "id": "TNDk9wLiXprD",
        "outputId": "a63d4ef8-8946-4581-c857-5f2482ad1b64"
      },
      "execution_count": 35,
      "outputs": [
        {
          "output_type": "execute_result",
          "data": {
            "text/plain": [
              "{0: 4, 1: 3, 2: 2, 3: 1, 4: 0}"
            ]
          },
          "metadata": {},
          "execution_count": 35
        }
      ]
    },
    {
      "cell_type": "markdown",
      "source": [
        "Más adelante hablaremos de la comprensión del diccionario , que es otra forma de construir diccionarios.\n",
        "\n",
        "Valores predeterminados\n",
        "Es común tener lógica como:\n",
        "\n",
        "```\n",
        "if key in some_dict:\n",
        "    value = some_dict[key]\n",
        "else:\n",
        "    value = default_value\n",
        "```\n",
        "Por lo tanto, los métodos del diccionario gety poppueden tomar un valor predeterminado para ser devuelto, de modo que el if-elsebloque anterior se puede escribir simplemente como:\n",
        "\n",
        "\n",
        "```\n",
        "value = some_dict.get(key, default_value)\n",
        "```\n",
        "get de forma predeterminada regresará None si la clave no está presente, mientras que popgenerará una excepción. Al establecer valores, puede ser que los valores en un diccionario sean otro tipo de colección, como una lista. Por ejemplo, podrías imaginarte categorizar una lista de palabras por sus primeras letras como un diccionario de listas:\n",
        "\n"
      ],
      "metadata": {
        "id": "bBGRZ0YADi73"
      }
    },
    {
      "cell_type": "code",
      "execution_count": 36,
      "metadata": {
        "id": "6TSYP3MBsP16",
        "colab": {
          "base_uri": "https://localhost:8080/"
        },
        "outputId": "13072cb6-caa9-44ca-f029-85c214e37e00"
      },
      "outputs": [
        {
          "output_type": "execute_result",
          "data": {
            "text/plain": [
              "{'a': ['apple', 'atom'], 'b': ['bat', 'bar', 'book']}"
            ]
          },
          "metadata": {},
          "execution_count": 36
        }
      ],
      "source": [
        "#  aqui un pequeño codigo que asigna al diccionario segun la letra inicial\n",
        "#  Sean las palabras\n",
        "# Se define una lista de palabras llamada words.\n",
        "words = [\"apple\", \"bat\", \"bar\", \"atom\", \"book\"]\n",
        "\n",
        "# Se inicializa un diccionario vacío llamado by_letter.\n",
        "by_letter = {}\n",
        "\n",
        "#Se inicia un bucle for que recorre cada palabra en la lista words\n",
        "# Para cada palabra, se extrae su primera letra y se guarda en la variable letter.\n",
        "for word in words:\n",
        "    # word[0] representa el primer caracter de la palabra\n",
        "    letter = word[0]\n",
        "    #Si no está presente, se agrega la letra como una clave en\n",
        "    # el diccionario y se le asigna como valor una lista que contiene la palabra actual.\n",
        "    if letter not in by_letter:\n",
        "        by_letter[letter] = [word]\n",
        "    else:\n",
        "        by_letter[letter].append(word)\n",
        "\n",
        "by_letter"
      ]
    },
    {
      "cell_type": "markdown",
      "source": [
        "Aqui se presenta un mejoramiento de código utilizando en metodo `setdefault`. El cual sustituye el ciclo `for`"
      ],
      "metadata": {
        "id": "s1Zz15MTGwao"
      }
    },
    {
      "cell_type": "code",
      "execution_count": 4,
      "metadata": {
        "id": "dHioY_V_sP16",
        "colab": {
          "base_uri": "https://localhost:8080/"
        },
        "outputId": "569d0e88-1907-42fc-eb9f-535273688686"
      },
      "outputs": [
        {
          "output_type": "execute_result",
          "data": {
            "text/plain": [
              "{'a': ['apple', 'atom'], 'b': ['bat', 'bar', 'book']}"
            ]
          },
          "metadata": {},
          "execution_count": 4
        }
      ],
      "source": [
        "words = [\"apple\", \"bat\", \"bar\", \"atom\", \"book\"]\n",
        "by_letter = {}\n",
        "for word in words:\n",
        "    letter = word[0]\n",
        "    by_letter.setdefault(letter, []).append(word)\n",
        "by_letter"
      ]
    },
    {
      "cell_type": "markdown",
      "source": [
        "Otra construccion para el mismo código o funcion es ultilizar un modulo `collections` el cual tien una clase `defaultdict` que lo vuelve aun mas fácil"
      ],
      "metadata": {
        "id": "KzdPeOeLHowQ"
      }
    },
    {
      "cell_type": "code",
      "execution_count": 11,
      "metadata": {
        "id": "85GZT0tIsP16",
        "colab": {
          "base_uri": "https://localhost:8080/"
        },
        "outputId": "a13b6552-814e-42a4-b221-6c83b5978f7a"
      },
      "outputs": [
        {
          "output_type": "stream",
          "name": "stdout",
          "text": [
            "defaultdict(<class 'list'>, {'a': ['apple', 'atom'], 'b': ['bat', 'bar', 'book']})\n"
          ]
        }
      ],
      "source": [
        "from collections import defaultdict\n",
        "words = [\"apple\", \"bat\", \"bar\", \"atom\", \"book\"]\n",
        "by_letter = defaultdict(list)\n",
        "for word in words:\n",
        "    by_letter[word[0]].append(word)\n",
        "print(by_letter)"
      ]
    },
    {
      "cell_type": "markdown",
      "source": [
        "**Tipos de claves de diccionario válidas**\n",
        "\n",
        "Si bien los valores de un diccionario pueden ser cualquier objeto de Python, las claves generalmente tienen que ser objetos inmutables como tipos escalares (int, float, string) o tuplas (todos los objetos de la tupla también deben ser inmutables). El término técnico aquí es hashability . Puedes comprobar si un objeto es hash (se puede utilizar como clave en un diccionario) con la hashfunción:\n",
        "\n"
      ],
      "metadata": {
        "id": "FEx0I8rnI8fC"
      }
    },
    {
      "cell_type": "markdown",
      "source": [
        "\n",
        "*Los valores hash que ves cuando usas la hashfunción en general dependerán de la versión de Python que estés usando.*\n",
        "---\n",
        "\n"
      ],
      "metadata": {
        "id": "1JS2PxYNJcX7"
      }
    },
    {
      "cell_type": "code",
      "execution_count": 15,
      "metadata": {
        "id": "wJwrEs8FsP16",
        "colab": {
          "base_uri": "https://localhost:8080/"
        },
        "outputId": "a7470e3a-0ad2-41dc-dba0-08f36d01a72c"
      },
      "outputs": [
        {
          "output_type": "execute_result",
          "data": {
            "text/plain": [
              "-6238533303364444972"
            ]
          },
          "metadata": {},
          "execution_count": 15
        }
      ],
      "source": [
        "hash(\"string\")\n"
      ]
    },
    {
      "cell_type": "code",
      "source": [
        "hash((1, 2, (2, 3)))"
      ],
      "metadata": {
        "id": "nQvgYiurJJOe",
        "outputId": "afb80645-213b-44a8-9680-68ab507b5ae4",
        "colab": {
          "base_uri": "https://localhost:8080/"
        }
      },
      "execution_count": 14,
      "outputs": [
        {
          "output_type": "execute_result",
          "data": {
            "text/plain": [
              "-9209053662355515447"
            ]
          },
          "metadata": {},
          "execution_count": 14
        }
      ]
    },
    {
      "cell_type": "code",
      "source": [
        " hash((1, 2, [2, 3]))"
      ],
      "metadata": {
        "id": "RcmHQtn-JMA6",
        "outputId": "1b3ea2dd-cabf-486e-da78-ae18cf0f89f2",
        "colab": {
          "base_uri": "https://localhost:8080/",
          "height": 141
        }
      },
      "execution_count": 16,
      "outputs": [
        {
          "output_type": "error",
          "ename": "TypeError",
          "evalue": "unhashable type: 'list'",
          "traceback": [
            "\u001b[0;31m---------------------------------------------------------------------------\u001b[0m",
            "\u001b[0;31mTypeError\u001b[0m                                 Traceback (most recent call last)",
            "\u001b[0;32m<ipython-input-16-a58baa9066c2>\u001b[0m in \u001b[0;36m<cell line: 1>\u001b[0;34m()\u001b[0m\n\u001b[0;32m----> 1\u001b[0;31m \u001b[0mhash\u001b[0m\u001b[0;34m(\u001b[0m\u001b[0;34m(\u001b[0m\u001b[0;36m1\u001b[0m\u001b[0;34m,\u001b[0m \u001b[0;36m2\u001b[0m\u001b[0;34m,\u001b[0m \u001b[0;34m[\u001b[0m\u001b[0;36m2\u001b[0m\u001b[0;34m,\u001b[0m \u001b[0;36m3\u001b[0m\u001b[0;34m]\u001b[0m\u001b[0;34m)\u001b[0m\u001b[0;34m)\u001b[0m\u001b[0;34m\u001b[0m\u001b[0;34m\u001b[0m\u001b[0m\n\u001b[0m",
            "\u001b[0;31mTypeError\u001b[0m: unhashable type: 'list'"
          ]
        }
      ]
    },
    {
      "cell_type": "markdown",
      "source": [
        "Para usar una lista como clave, una opción es convertirla en una tupla, que puede ser sometida a hash siempre que sus elementos también pueda"
      ],
      "metadata": {
        "id": "u_rbGvAmJnnC"
      }
    },
    {
      "cell_type": "code",
      "execution_count": 18,
      "metadata": {
        "id": "O2SvnXXDsP16",
        "colab": {
          "base_uri": "https://localhost:8080/"
        },
        "outputId": "d723156f-c116-402d-c15a-ca0e2c76ae03"
      },
      "outputs": [
        {
          "output_type": "execute_result",
          "data": {
            "text/plain": [
              "{(1, 2, 3): 5}"
            ]
          },
          "metadata": {},
          "execution_count": 18
        }
      ],
      "source": [
        "# se define un diccionario vacio\n",
        "d = {}\n",
        "# aqui la lista se convierte en tupla\n",
        "# y se asigna clave valor\n",
        "d[tuple([1, 2, 3])] = 5\n",
        "d"
      ]
    },
    {
      "cell_type": "markdown",
      "source": [
        "**Set**\n",
        "\n",
        "Un `set` es una colección desordenada de elementos únicos. Un conjunto se puede crear de dos maneras: mediante la setfunción o mediante un conjunto literal con llaves:"
      ],
      "metadata": {
        "id": "hbz-xssaKcPG"
      }
    },
    {
      "cell_type": "code",
      "execution_count": 20,
      "metadata": {
        "id": "jdBzVCF3sP17",
        "colab": {
          "base_uri": "https://localhost:8080/"
        },
        "outputId": "1192d4dc-4134-497b-ef1a-8efdc1e061a7"
      },
      "outputs": [
        {
          "output_type": "execute_result",
          "data": {
            "text/plain": [
              "{1, 2, 3}"
            ]
          },
          "metadata": {},
          "execution_count": 20
        }
      ],
      "source": [
        "# Forma 1\n",
        "set([2, 2, 2, 1, 3, 3])"
      ]
    },
    {
      "cell_type": "code",
      "source": [
        "# Forma 2\n",
        "{2, 2, 2, 1, 3, 3}"
      ],
      "metadata": {
        "id": "DuJRRwk6Kq1t",
        "outputId": "ce367d4a-2088-4c1f-dcec-e6f34309dfbb",
        "colab": {
          "base_uri": "https://localhost:8080/"
        }
      },
      "execution_count": 22,
      "outputs": [
        {
          "output_type": "execute_result",
          "data": {
            "text/plain": [
              "{1, 2, 3}"
            ]
          },
          "metadata": {},
          "execution_count": 22
        }
      ]
    },
    {
      "cell_type": "code",
      "execution_count": 24,
      "metadata": {
        "id": "OrwHZVwlsP17"
      },
      "outputs": [],
      "source": [
        "# Se definene dos Set (conjuntos)\n",
        "a = {1, 2, 3, 4, 5}\n",
        "b = {3, 4, 5, 6, 7, 8}"
      ]
    },
    {
      "cell_type": "code",
      "execution_count": null,
      "metadata": {
        "id": "OrXKPssIsP17"
      },
      "outputs": [],
      "source": [
        "a.union(b)\n",
        "a | b"
      ]
    },
    {
      "cell_type": "code",
      "execution_count": null,
      "metadata": {
        "id": "SZRT5vJesP17"
      },
      "outputs": [],
      "source": [
        "a.intersection(b)\n",
        "a & b"
      ]
    },
    {
      "cell_type": "code",
      "execution_count": null,
      "metadata": {
        "id": "z6qtCiM1sP17"
      },
      "outputs": [],
      "source": [
        "c = a.copy()\n",
        "c |= b\n",
        "c\n",
        "d = a.copy()\n",
        "d &= b\n",
        "d"
      ]
    },
    {
      "cell_type": "code",
      "execution_count": null,
      "metadata": {
        "id": "JkrucaSRsP18"
      },
      "outputs": [],
      "source": [
        "my_data = [1, 2, 3, 4]\n",
        "my_set = {tuple(my_data)}\n",
        "my_set"
      ]
    },
    {
      "cell_type": "code",
      "execution_count": null,
      "metadata": {
        "id": "kRAfd4qIsP18"
      },
      "outputs": [],
      "source": [
        "a_set = {1, 2, 3, 4, 5}\n",
        "{1, 2, 3}.issubset(a_set)\n",
        "a_set.issuperset({1, 2, 3})"
      ]
    },
    {
      "cell_type": "code",
      "execution_count": null,
      "metadata": {
        "id": "mJV22g9IsP18"
      },
      "outputs": [],
      "source": [
        "{1, 2, 3} == {3, 2, 1}"
      ]
    },
    {
      "cell_type": "code",
      "execution_count": null,
      "metadata": {
        "id": "5YOlN24jsP18"
      },
      "outputs": [],
      "source": [
        "sorted([7, 1, 2, 6, 0, 3, 2])\n",
        "sorted(\"horse race\")"
      ]
    },
    {
      "cell_type": "code",
      "execution_count": null,
      "metadata": {
        "id": "AvvX2xulsP18"
      },
      "outputs": [],
      "source": [
        "seq1 = [\"foo\", \"bar\", \"baz\"]\n",
        "seq2 = [\"one\", \"two\", \"three\"]\n",
        "zipped = zip(seq1, seq2)\n",
        "list(zipped)"
      ]
    },
    {
      "cell_type": "code",
      "execution_count": null,
      "metadata": {
        "id": "QJff3drBsP19"
      },
      "outputs": [],
      "source": [
        "seq3 = [False, True]\n",
        "list(zip(seq1, seq2, seq3))"
      ]
    },
    {
      "cell_type": "code",
      "execution_count": null,
      "metadata": {
        "id": "2WSnDmdgsP19"
      },
      "outputs": [],
      "source": [
        "for index, (a, b) in enumerate(zip(seq1, seq2)):\n",
        "    print(f\"{index}: {a}, {b}\")\n"
      ]
    },
    {
      "cell_type": "code",
      "execution_count": null,
      "metadata": {
        "id": "6UcWB3crsP19"
      },
      "outputs": [],
      "source": [
        "list(reversed(range(10)))"
      ]
    },
    {
      "cell_type": "code",
      "execution_count": null,
      "metadata": {
        "id": "iQl7SOIysP19"
      },
      "outputs": [],
      "source": [
        "strings = [\"a\", \"as\", \"bat\", \"car\", \"dove\", \"python\"]\n",
        "[x.upper() for x in strings if len(x) > 2]"
      ]
    },
    {
      "cell_type": "code",
      "execution_count": null,
      "metadata": {
        "id": "fK7-td0bsP19"
      },
      "outputs": [],
      "source": [
        "unique_lengths = {len(x) for x in strings}\n",
        "unique_lengths"
      ]
    },
    {
      "cell_type": "code",
      "execution_count": null,
      "metadata": {
        "id": "zlIBARjZsP19"
      },
      "outputs": [],
      "source": [
        "set(map(len, strings))"
      ]
    },
    {
      "cell_type": "code",
      "execution_count": null,
      "metadata": {
        "id": "CQoPzLAqsP1-"
      },
      "outputs": [],
      "source": [
        "loc_mapping = {value: index for index, value in enumerate(strings)}\n",
        "loc_mapping"
      ]
    },
    {
      "cell_type": "code",
      "execution_count": null,
      "metadata": {
        "id": "vEUZXAFfsP1-"
      },
      "outputs": [],
      "source": [
        "all_data = [[\"John\", \"Emily\", \"Michael\", \"Mary\", \"Steven\"],\n",
        "            [\"Maria\", \"Juan\", \"Javier\", \"Natalia\", \"Pilar\"]]"
      ]
    },
    {
      "cell_type": "code",
      "execution_count": null,
      "metadata": {
        "id": "2Bx3s9CYsP1-"
      },
      "outputs": [],
      "source": [
        "names_of_interest = []\n",
        "for names in all_data:\n",
        "    enough_as = [name for name in names if name.count(\"a\") >= 2]\n",
        "    names_of_interest.extend(enough_as)\n",
        "names_of_interest"
      ]
    },
    {
      "cell_type": "code",
      "execution_count": null,
      "metadata": {
        "id": "sLqZPARBsP1-"
      },
      "outputs": [],
      "source": [
        "result = [name for names in all_data for name in names\n",
        "          if name.count(\"a\") >= 2]\n",
        "result"
      ]
    },
    {
      "cell_type": "code",
      "execution_count": null,
      "metadata": {
        "id": "y9qjNnFpsP1-"
      },
      "outputs": [],
      "source": [
        "some_tuples = [(1, 2, 3), (4, 5, 6), (7, 8, 9)]\n",
        "flattened = [x for tup in some_tuples for x in tup]\n",
        "flattened"
      ]
    },
    {
      "cell_type": "code",
      "execution_count": null,
      "metadata": {
        "id": "3hwY9eV9sP1_"
      },
      "outputs": [],
      "source": [
        "flattened = []\n",
        "\n",
        "for tup in some_tuples:\n",
        "    for x in tup:\n",
        "        flattened.append(x)"
      ]
    },
    {
      "cell_type": "code",
      "execution_count": null,
      "metadata": {
        "id": "65v12PYfsP1_"
      },
      "outputs": [],
      "source": [
        "[[x for x in tup] for tup in some_tuples]"
      ]
    },
    {
      "cell_type": "code",
      "execution_count": null,
      "metadata": {
        "id": "iVhNOWx0sP1_"
      },
      "outputs": [],
      "source": [
        "def my_function(x, y):\n",
        "    return x + y"
      ]
    },
    {
      "cell_type": "code",
      "execution_count": null,
      "metadata": {
        "id": "8ZDiaOzosP1_"
      },
      "outputs": [],
      "source": [
        "my_function(1, 2)\n",
        "result = my_function(1, 2)\n",
        "result"
      ]
    },
    {
      "cell_type": "code",
      "execution_count": null,
      "metadata": {
        "id": "kN94AUyPsP1_"
      },
      "outputs": [],
      "source": [
        "def function_without_return(x):\n",
        "    print(x)\n",
        "\n",
        "result = function_without_return(\"hello!\")\n",
        "print(result)"
      ]
    },
    {
      "cell_type": "code",
      "execution_count": null,
      "metadata": {
        "id": "3dH4q0k5sP1_"
      },
      "outputs": [],
      "source": [
        "def my_function2(x, y, z=1.5):\n",
        "    if z > 1:\n",
        "        return z * (x + y)\n",
        "    else:\n",
        "        return z / (x + y)"
      ]
    },
    {
      "cell_type": "code",
      "execution_count": null,
      "metadata": {
        "id": "VJucCHtNsP2A"
      },
      "outputs": [],
      "source": [
        "my_function2(5, 6, z=0.7)\n",
        "my_function2(3.14, 7, 3.5)\n",
        "my_function2(10, 20)"
      ]
    },
    {
      "cell_type": "code",
      "execution_count": null,
      "metadata": {
        "id": "xFlpowMWsP2A"
      },
      "outputs": [],
      "source": [
        "a = []\n",
        "def func():\n",
        "    for i in range(5):\n",
        "        a.append(i)"
      ]
    },
    {
      "cell_type": "code",
      "execution_count": null,
      "metadata": {
        "id": "4aA2-KOAsP2A"
      },
      "outputs": [],
      "source": [
        "func()\n",
        "a\n",
        "func()\n",
        "a"
      ]
    },
    {
      "cell_type": "code",
      "execution_count": null,
      "metadata": {
        "id": "V25o0DQasP2A"
      },
      "outputs": [],
      "source": [
        "a = None\n",
        "def bind_a_variable():\n",
        "    global a\n",
        "    a = []\n",
        "bind_a_variable()\n",
        "print(a)"
      ]
    },
    {
      "cell_type": "code",
      "execution_count": null,
      "metadata": {
        "id": "HeRCOXi_sP2A"
      },
      "outputs": [],
      "source": [
        "states = [\"   Alabama \", \"Georgia!\", \"Georgia\", \"georgia\", \"FlOrIda\",\n",
        "          \"south   carolina##\", \"West virginia?\"]"
      ]
    },
    {
      "cell_type": "code",
      "execution_count": null,
      "metadata": {
        "id": "KzO2k9zpsP2A"
      },
      "outputs": [],
      "source": [
        "import re\n",
        "\n",
        "def clean_strings(strings):\n",
        "    result = []\n",
        "    for value in strings:\n",
        "        value = value.strip()\n",
        "        value = re.sub(\"[!#?]\", \"\", value)\n",
        "        value = value.title()\n",
        "        result.append(value)\n",
        "    return result"
      ]
    },
    {
      "cell_type": "code",
      "execution_count": null,
      "metadata": {
        "id": "amQpLE9IsP2B"
      },
      "outputs": [],
      "source": [
        "clean_strings(states)"
      ]
    },
    {
      "cell_type": "code",
      "execution_count": null,
      "metadata": {
        "id": "Ikx_lwSYsP2B"
      },
      "outputs": [],
      "source": [
        "def remove_punctuation(value):\n",
        "    return re.sub(\"[!#?]\", \"\", value)\n",
        "\n",
        "clean_ops = [str.strip, remove_punctuation, str.title]\n",
        "\n",
        "def clean_strings(strings, ops):\n",
        "    result = []\n",
        "    for value in strings:\n",
        "        for func in ops:\n",
        "            value = func(value)\n",
        "        result.append(value)\n",
        "    return result"
      ]
    },
    {
      "cell_type": "code",
      "execution_count": null,
      "metadata": {
        "id": "tFkxoOFksP2B"
      },
      "outputs": [],
      "source": [
        "clean_strings(states, clean_ops)"
      ]
    },
    {
      "cell_type": "code",
      "execution_count": null,
      "metadata": {
        "id": "-MByebPssP2B"
      },
      "outputs": [],
      "source": [
        "for x in map(remove_punctuation, states):\n",
        "    print(x)"
      ]
    },
    {
      "cell_type": "code",
      "execution_count": null,
      "metadata": {
        "id": "lbDGgZN0sP2C"
      },
      "outputs": [],
      "source": [
        "def short_function(x):\n",
        "    return x * 2\n",
        "\n",
        "equiv_anon = lambda x: x * 2"
      ]
    },
    {
      "cell_type": "code",
      "execution_count": null,
      "metadata": {
        "id": "vZxkUFLosP2C"
      },
      "outputs": [],
      "source": [
        "def apply_to_list(some_list, f):\n",
        "    return [f(x) for x in some_list]\n",
        "\n",
        "ints = [4, 0, 1, 5, 6]\n",
        "apply_to_list(ints, lambda x: x * 2)"
      ]
    },
    {
      "cell_type": "code",
      "execution_count": null,
      "metadata": {
        "id": "x34wy0rSsP2C"
      },
      "outputs": [],
      "source": [
        "strings = [\"foo\", \"card\", \"bar\", \"aaaa\", \"abab\"]"
      ]
    },
    {
      "cell_type": "code",
      "execution_count": null,
      "metadata": {
        "id": "V_JcmXFLsP2C"
      },
      "outputs": [],
      "source": [
        "strings.sort(key=lambda x: len(set(x)))\n",
        "strings"
      ]
    },
    {
      "cell_type": "code",
      "execution_count": null,
      "metadata": {
        "id": "dd6BjwJusP2D"
      },
      "outputs": [],
      "source": [
        "some_dict = {\"a\": 1, \"b\": 2, \"c\": 3}\n",
        "for key in some_dict:\n",
        "    print(key)"
      ]
    },
    {
      "cell_type": "code",
      "execution_count": null,
      "metadata": {
        "id": "a8XJm9JbsP2D"
      },
      "outputs": [],
      "source": [
        "dict_iterator = iter(some_dict)\n",
        "dict_iterator"
      ]
    },
    {
      "cell_type": "code",
      "execution_count": null,
      "metadata": {
        "id": "Q327jfjusP2D"
      },
      "outputs": [],
      "source": [
        "list(dict_iterator)"
      ]
    },
    {
      "cell_type": "code",
      "execution_count": null,
      "metadata": {
        "id": "ALZDedEYsP2E"
      },
      "outputs": [],
      "source": [
        "def squares(n=10):\n",
        "    print(f\"Generating squares from 1 to {n ** 2}\")\n",
        "    for i in range(1, n + 1):\n",
        "        yield i ** 2"
      ]
    },
    {
      "cell_type": "code",
      "execution_count": null,
      "metadata": {
        "id": "6X2osnvisP2E"
      },
      "outputs": [],
      "source": [
        "gen = squares()\n",
        "gen"
      ]
    },
    {
      "cell_type": "code",
      "execution_count": null,
      "metadata": {
        "id": "OLokMK1RsP2E"
      },
      "outputs": [],
      "source": [
        "for x in gen:\n",
        "    print(x, end=\" \")"
      ]
    },
    {
      "cell_type": "code",
      "execution_count": null,
      "metadata": {
        "id": "z1kgZB8RsP2E"
      },
      "outputs": [],
      "source": [
        "gen = (x ** 2 for x in range(100))\n",
        "gen"
      ]
    },
    {
      "cell_type": "code",
      "execution_count": null,
      "metadata": {
        "id": "fLJrXSzTsP2F"
      },
      "outputs": [],
      "source": [
        "sum(x ** 2 for x in range(100))\n",
        "dict((i, i ** 2) for i in range(5))"
      ]
    },
    {
      "cell_type": "code",
      "execution_count": null,
      "metadata": {
        "id": "uAU64GGssP2F"
      },
      "outputs": [],
      "source": [
        "import itertools\n",
        "def first_letter(x):\n",
        "    return x[0]\n",
        "\n",
        "names = [\"Alan\", \"Adam\", \"Wes\", \"Will\", \"Albert\", \"Steven\"]\n",
        "\n",
        "for letter, names in itertools.groupby(names, first_letter):\n",
        "    print(letter, list(names)) # names is a generator"
      ]
    },
    {
      "cell_type": "code",
      "execution_count": null,
      "metadata": {
        "id": "cfC5RvKGsP2F"
      },
      "outputs": [],
      "source": [
        "float(\"1.2345\")\n",
        "float(\"something\")"
      ]
    },
    {
      "cell_type": "code",
      "execution_count": null,
      "metadata": {
        "id": "2vm9VZ6SsP2F"
      },
      "outputs": [],
      "source": [
        "def attempt_float(x):\n",
        "    try:\n",
        "        return float(x)\n",
        "    except:\n",
        "        return x"
      ]
    },
    {
      "cell_type": "code",
      "execution_count": null,
      "metadata": {
        "id": "L8Lz1TfdsP2F"
      },
      "outputs": [],
      "source": [
        "attempt_float(\"1.2345\")\n",
        "attempt_float(\"something\")"
      ]
    },
    {
      "cell_type": "code",
      "execution_count": null,
      "metadata": {
        "id": "N-WW0J0rsP2G"
      },
      "outputs": [],
      "source": [
        "float((1, 2))"
      ]
    },
    {
      "cell_type": "code",
      "execution_count": null,
      "metadata": {
        "id": "-t39kOzqsP2G"
      },
      "outputs": [],
      "source": [
        "def attempt_float(x):\n",
        "    try:\n",
        "        return float(x)\n",
        "    except ValueError:\n",
        "        return x"
      ]
    },
    {
      "cell_type": "code",
      "execution_count": null,
      "metadata": {
        "id": "qkUA4QJbsP2G"
      },
      "outputs": [],
      "source": [
        "attempt_float((1, 2))"
      ]
    },
    {
      "cell_type": "code",
      "execution_count": null,
      "metadata": {
        "id": "M3psoakdsP2G"
      },
      "outputs": [],
      "source": [
        "def attempt_float(x):\n",
        "    try:\n",
        "        return float(x)\n",
        "    except (TypeError, ValueError):\n",
        "        return x"
      ]
    },
    {
      "cell_type": "code",
      "execution_count": null,
      "metadata": {
        "id": "4PGK19j1sP2H"
      },
      "outputs": [],
      "source": [
        "path = \"examples/segismundo.txt\"\n",
        "f = open(path, encoding=\"utf-8\")"
      ]
    },
    {
      "cell_type": "code",
      "execution_count": null,
      "metadata": {
        "id": "I4qcqcUvsP2H"
      },
      "outputs": [],
      "source": [
        "lines = [x.rstrip() for x in open(path, encoding=\"utf-8\")]\n",
        "lines"
      ]
    },
    {
      "cell_type": "code",
      "execution_count": null,
      "metadata": {
        "id": "3i-5t23wsP2H"
      },
      "outputs": [],
      "source": [
        "f.close()"
      ]
    },
    {
      "cell_type": "code",
      "execution_count": null,
      "metadata": {
        "id": "WjsflfWcsP2H"
      },
      "outputs": [],
      "source": [
        "with open(path, encoding=\"utf-8\") as f:\n",
        "    lines = [x.rstrip() for x in f]"
      ]
    },
    {
      "cell_type": "code",
      "execution_count": null,
      "metadata": {
        "id": "XtqCR7CIsP2H"
      },
      "outputs": [],
      "source": [
        "f1 = open(path)\n",
        "f1.read(10)\n",
        "f2 = open(path, mode=\"rb\")  # Binary mode\n",
        "f2.read(10)"
      ]
    },
    {
      "cell_type": "code",
      "execution_count": null,
      "metadata": {
        "id": "kJALLYDYsP2H"
      },
      "outputs": [],
      "source": [
        "f1.tell()\n",
        "f2.tell()"
      ]
    },
    {
      "cell_type": "code",
      "execution_count": null,
      "metadata": {
        "id": "GTXmU5y_sP2I"
      },
      "outputs": [],
      "source": [
        "import sys\n",
        "sys.getdefaultencoding()"
      ]
    },
    {
      "cell_type": "code",
      "execution_count": null,
      "metadata": {
        "id": "e1TTc3IRsP2I"
      },
      "outputs": [],
      "source": [
        "f1.seek(3)\n",
        "f1.read(1)\n",
        "f1.tell()"
      ]
    },
    {
      "cell_type": "code",
      "execution_count": null,
      "metadata": {
        "id": "y-DJPff9sP2I"
      },
      "outputs": [],
      "source": [
        "f1.close()\n",
        "f2.close()"
      ]
    },
    {
      "cell_type": "code",
      "execution_count": null,
      "metadata": {
        "id": "Bp49EV2TsP2I"
      },
      "outputs": [],
      "source": [
        "path\n",
        "\n",
        "with open(\"tmp.txt\", mode=\"w\") as handle:\n",
        "    handle.writelines(x for x in open(path) if len(x) > 1)\n",
        "\n",
        "with open(\"tmp.txt\") as f:\n",
        "    lines = f.readlines()\n",
        "\n",
        "lines"
      ]
    },
    {
      "cell_type": "code",
      "execution_count": null,
      "metadata": {
        "id": "WaGxqQjRsP2I"
      },
      "outputs": [],
      "source": [
        "import os\n",
        "os.remove(\"tmp.txt\")"
      ]
    },
    {
      "cell_type": "code",
      "execution_count": null,
      "metadata": {
        "id": "X5-Kvp0wsP2J"
      },
      "outputs": [],
      "source": [
        "with open(path) as f:\n",
        "    chars = f.read(10)\n",
        "\n",
        "chars\n",
        "len(chars)"
      ]
    },
    {
      "cell_type": "code",
      "execution_count": null,
      "metadata": {
        "id": "cEbyBCQQsP2J"
      },
      "outputs": [],
      "source": [
        "with open(path, mode=\"rb\") as f:\n",
        "    data = f.read(10)\n",
        "\n",
        "data"
      ]
    },
    {
      "cell_type": "code",
      "execution_count": null,
      "metadata": {
        "id": "EXI5AsHGsP2J"
      },
      "outputs": [],
      "source": [
        "data.decode(\"utf-8\")\n",
        "data[:4].decode(\"utf-8\")"
      ]
    },
    {
      "cell_type": "code",
      "execution_count": null,
      "metadata": {
        "id": "W_CjynrEsP2J"
      },
      "outputs": [],
      "source": [
        "sink_path = \"sink.txt\"\n",
        "with open(path) as source:\n",
        "    with open(sink_path, \"x\", encoding=\"iso-8859-1\") as sink:\n",
        "        sink.write(source.read())\n",
        "\n",
        "with open(sink_path, encoding=\"iso-8859-1\") as f:\n",
        "    print(f.read(10))"
      ]
    },
    {
      "cell_type": "code",
      "execution_count": null,
      "metadata": {
        "id": "x2P-H0xlsP2J"
      },
      "outputs": [],
      "source": [
        "os.remove(sink_path)"
      ]
    },
    {
      "cell_type": "code",
      "execution_count": null,
      "metadata": {
        "id": "G9H-7KAIsP2J"
      },
      "outputs": [],
      "source": [
        "f = open(path, encoding='utf-8')\n",
        "f.read(5)\n",
        "f.seek(4)\n",
        "f.read(1)\n",
        "f.close()"
      ]
    },
    {
      "cell_type": "code",
      "execution_count": null,
      "metadata": {
        "id": "NAwYHhYGsP2K"
      },
      "outputs": [],
      "source": []
    }
  ],
  "metadata": {
    "kernelspec": {
      "display_name": "Python 3",
      "language": "python",
      "name": "python3"
    },
    "language_info": {
      "codemirror_mode": {
        "name": "ipython",
        "version": 3
      },
      "file_extension": ".py",
      "mimetype": "text/x-python",
      "name": "python",
      "nbconvert_exporter": "python",
      "pygments_lexer": "ipython3",
      "version": "3.7.6"
    },
    "colab": {
      "provenance": [],
      "include_colab_link": true
    }
  },
  "nbformat": 4,
  "nbformat_minor": 0
}